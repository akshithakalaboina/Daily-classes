{
 "cells": [
  {
   "cell_type": "markdown",
   "id": "6f9b1582",
   "metadata": {},
   "source": [
    "# Control Flow"
   ]
  },
  {
   "cell_type": "markdown",
   "id": "11080c5d",
   "metadata": {},
   "source": [
    "we can control the flow using\n",
    "\n",
    "1. Conditional statements ---- if,elif,else\n",
    "\n",
    "2.using Loops/iterative statements ----- for,while\n",
    "\n",
    "3.Transfer statements ---- break,continue,pass"
   ]
  },
  {
   "cell_type": "markdown",
   "id": "a63ac057",
   "metadata": {},
   "source": [
    "# Conditional statements"
   ]
  },
  {
   "cell_type": "markdown",
   "id": "2d23a176",
   "metadata": {},
   "source": [
    "In conditional statements we have\n",
    "\n",
    "if\n",
    "\n",
    "elif\n",
    "\n",
    "else\n"
   ]
  },
  {
   "cell_type": "code",
   "execution_count": 15,
   "id": "a2298c10",
   "metadata": {},
   "outputs": [],
   "source": [
    "# if you study well, you will get good job\n",
    "# if user input is yes then \"You will get good job\" otherwise prepare well"
   ]
  },
  {
   "cell_type": "code",
   "execution_count": 3,
   "id": "62e4abfc",
   "metadata": {},
   "outputs": [
    {
     "name": "stdout",
     "output_type": "stream",
     "text": [
      "Are you preparing well : yes\n",
      "you will get good job\n"
     ]
    }
   ],
   "source": [
    "prep = input(\"Are you preparing well : \")\n",
    "\n",
    "if prep == \"yes\" :\n",
    "     print(\"you will get good job\")"
   ]
  },
  {
   "cell_type": "code",
   "execution_count": 17,
   "id": "e006d649",
   "metadata": {},
   "outputs": [
    {
     "name": "stdout",
     "output_type": "stream",
     "text": [
      "Are you preparing well : yes\n",
      "you will get good job\n"
     ]
    }
   ],
   "source": [
    "prep = input(\"Are you preparing well : \")\n",
    "\n",
    "if prep == \"yes\" :\n",
    "    print(\"you will get good job\")\n",
    "  "
   ]
  },
  {
   "cell_type": "code",
   "execution_count": 18,
   "id": "29b3ed8e",
   "metadata": {},
   "outputs": [
    {
     "name": "stdout",
     "output_type": "stream",
     "text": [
      "Are you preparing well : yes\n",
      "you will get good job\n",
      "I learn more\n",
      "I'm passionated for AI\n"
     ]
    }
   ],
   "source": [
    "prep = input(\"Are you preparing well : \")\n",
    "\n",
    "if prep == \"yes\" :\n",
    "    print(\"you will get good job\")\n",
    "    print(\"I learn more\")\n",
    "    print(\"I'm passionated for AI\")"
   ]
  },
  {
   "cell_type": "code",
   "execution_count": 19,
   "id": "f13164c1",
   "metadata": {},
   "outputs": [
    {
     "name": "stdout",
     "output_type": "stream",
     "text": [
      "Are you preparing well : No\n"
     ]
    }
   ],
   "source": [
    "prep = input(\"Are you preparing well : \")\n",
    "\n",
    "if prep == \"yes\" :\n",
    "    print(\"you will get good job\")\n",
    "    print(\"I learn more\")\n",
    "    print(\"I'm passionated for AI\")"
   ]
  },
  {
   "cell_type": "code",
   "execution_count": 20,
   "id": "3b1a8472",
   "metadata": {},
   "outputs": [
    {
     "data": {
      "text/plain": [
       "False"
      ]
     },
     "execution_count": 20,
     "metadata": {},
     "output_type": "execute_result"
    }
   ],
   "source": [
    "'No' == \"yes\""
   ]
  },
  {
   "cell_type": "code",
   "execution_count": 21,
   "id": "dd05a171",
   "metadata": {},
   "outputs": [
    {
     "data": {
      "text/plain": [
       "True"
      ]
     },
     "execution_count": 21,
     "metadata": {},
     "output_type": "execute_result"
    }
   ],
   "source": [
    "'yes' == \"yes\""
   ]
  },
  {
   "cell_type": "code",
   "execution_count": 23,
   "id": "7696fdec",
   "metadata": {},
   "outputs": [
    {
     "name": "stdout",
     "output_type": "stream",
     "text": [
      "Are you preparing well : No\n",
      "you will get failed\n"
     ]
    }
   ],
   "source": [
    "prep = input(\"Are you preparing well : \")\n",
    "\n",
    "if prep == \"yes\" :\n",
    "    print(\"you will get good job\")\n",
    "else:\n",
    "    print(\"you will get failed\")"
   ]
  },
  {
   "cell_type": "markdown",
   "id": "971727be",
   "metadata": {},
   "source": [
    "a = 100, b = 200\n",
    "\n",
    "100 > 200"
   ]
  },
  {
   "cell_type": "code",
   "execution_count": 24,
   "id": "50c25221",
   "metadata": {},
   "outputs": [
    {
     "name": "stdout",
     "output_type": "stream",
     "text": [
      "b is greater\n"
     ]
    }
   ],
   "source": [
    "a = 100\n",
    "b = 200\n",
    "\n",
    "if a > b:\n",
    "    print(\"a is larger values\")\n",
    "else:\n",
    "    print(\"b is greater\")"
   ]
  },
  {
   "cell_type": "code",
   "execution_count": 27,
   "id": "f0c1d95d",
   "metadata": {},
   "outputs": [
    {
     "data": {
      "text/plain": [
       "False"
      ]
     },
     "execution_count": 27,
     "metadata": {},
     "output_type": "execute_result"
    }
   ],
   "source": [
    "100 > 200"
   ]
  },
  {
   "cell_type": "code",
   "execution_count": 28,
   "id": "379146a2",
   "metadata": {},
   "outputs": [
    {
     "data": {
      "text/plain": [
       "False"
      ]
     },
     "execution_count": 28,
     "metadata": {},
     "output_type": "execute_result"
    }
   ],
   "source": [
    "a > b"
   ]
  },
  {
   "cell_type": "code",
   "execution_count": 29,
   "id": "ca1dbfd7",
   "metadata": {},
   "outputs": [
    {
     "data": {
      "text/plain": [
       "True"
      ]
     },
     "execution_count": 29,
     "metadata": {},
     "output_type": "execute_result"
    }
   ],
   "source": [
    "250 > 200"
   ]
  },
  {
   "cell_type": "code",
   "execution_count": 30,
   "id": "b30538cd",
   "metadata": {},
   "outputs": [
    {
     "name": "stdout",
     "output_type": "stream",
     "text": [
      "Enter a number : 45\n",
      "Enter another number :: 56\n",
      "num2 is greater\n"
     ]
    }
   ],
   "source": [
    "num1 = int(input(\"Enter a number : \"))\n",
    "num2 = int(input(\"Enter another number :: \"))\n",
    "\n",
    "if num1 > num2 :\n",
    "    print('num1 is greater')\n",
    "else:\n",
    "    print(\"num2 is greater\")"
   ]
  },
  {
   "cell_type": "code",
   "execution_count": 31,
   "id": "a0923984",
   "metadata": {},
   "outputs": [
    {
     "data": {
      "text/plain": [
       "False"
      ]
     },
     "execution_count": 31,
     "metadata": {},
     "output_type": "execute_result"
    }
   ],
   "source": [
    "45 > 56"
   ]
  },
  {
   "cell_type": "code",
   "execution_count": 32,
   "id": "e32acb27",
   "metadata": {},
   "outputs": [],
   "source": [
    "# ask user to enter email id and if it is valid print \"valid Email\" otherwise print \"Invalid Email\""
   ]
  },
  {
   "cell_type": "code",
   "execution_count": 4,
   "id": "0abf90e7",
   "metadata": {},
   "outputs": [
    {
     "name": "stdout",
     "output_type": "stream",
     "text": [
      "enter any email :vk18@gmail.com\n",
      "valid email\n"
     ]
    }
   ],
   "source": [
    "email = input(\"enter any email :\")\n",
    "if email.endswith(\"@gmail.com\"):\n",
    "    print(\"valid email\")\n",
    "else:\n",
    "    print(\"Invalid email\")"
   ]
  },
  {
   "cell_type": "code",
   "execution_count": 5,
   "id": "5c20d534",
   "metadata": {},
   "outputs": [],
   "source": [
    "# ask user to enter a input number and tell us whether it is even or odd(/,//,%)"
   ]
  },
  {
   "cell_type": "code",
   "execution_count": 14,
   "id": "69c75318",
   "metadata": {},
   "outputs": [
    {
     "name": "stdout",
     "output_type": "stream",
     "text": [
      "enter the number :: 18\n",
      "number is even\n"
     ]
    }
   ],
   "source": [
    "num = int(input(\"enter the number :: \"))\n",
    "if (num % 2 == 0):\n",
    "    print(\"number is even\")\n",
    "else:\n",
    "    print(\"number is odd\")"
   ]
  },
  {
   "cell_type": "code",
   "execution_count": null,
   "id": "dad0f264",
   "metadata": {},
   "outputs": [],
   "source": [
    "# Operators\n",
    "\n",
    "1. Comparative operators\n",
    "\n",
    "2.Logical operators and,or,not"
   ]
  },
  {
   "cell_type": "code",
   "execution_count": 16,
   "id": "c20b4007",
   "metadata": {},
   "outputs": [
    {
     "data": {
      "text/plain": [
       "False"
      ]
     },
     "execution_count": 16,
     "metadata": {},
     "output_type": "execute_result"
    }
   ],
   "source": [
    "a = 10\n",
    "b = 20\n",
    "a == b"
   ]
  },
  {
   "cell_type": "code",
   "execution_count": 17,
   "id": "2c4becad",
   "metadata": {},
   "outputs": [
    {
     "data": {
      "text/plain": [
       "False"
      ]
     },
     "execution_count": 17,
     "metadata": {},
     "output_type": "execute_result"
    }
   ],
   "source": [
    "(a>b) and (a==b)"
   ]
  },
  {
   "cell_type": "code",
   "execution_count": 18,
   "id": "f2f6e157",
   "metadata": {},
   "outputs": [
    {
     "data": {
      "text/plain": [
       "False"
      ]
     },
     "execution_count": 18,
     "metadata": {},
     "output_type": "execute_result"
    }
   ],
   "source": [
    "False and False"
   ]
  },
  {
   "cell_type": "code",
   "execution_count": 19,
   "id": "d0b0268e",
   "metadata": {},
   "outputs": [
    {
     "data": {
      "text/plain": [
       "True"
      ]
     },
     "execution_count": 19,
     "metadata": {},
     "output_type": "execute_result"
    }
   ],
   "source": [
    "(a < b) and (b > a)"
   ]
  },
  {
   "cell_type": "code",
   "execution_count": 25,
   "id": "5a2a1a18",
   "metadata": {},
   "outputs": [
    {
     "name": "stdout",
     "output_type": "stream",
     "text": [
      "enter a value :: 20\n",
      "enter b value :: 30\n",
      "b is greater\n"
     ]
    }
   ],
   "source": [
    "a = int(input(\"enter a value :: \"))\n",
    "b = int(input(\"enter b value :: \"))\n",
    "\n",
    "if a > b :\n",
    "    print(\"a is greater\")\n",
    "elif a == b :\n",
    "    print(\"both are equal\")\n",
    "else:\n",
    "    print(\"b is greater\")"
   ]
  },
  {
   "cell_type": "code",
   "execution_count": null,
   "id": "d3f76cf6",
   "metadata": {},
   "outputs": [],
   "source": [
    "else + if = elif"
   ]
  },
  {
   "cell_type": "markdown",
   "id": "6563e209",
   "metadata": {},
   "source": [
    "if condition:  else:"
   ]
  },
  {
   "cell_type": "code",
   "execution_count": null,
   "id": "4a81d581",
   "metadata": {},
   "outputs": [],
   "source": [
    "if condition:\n",
    "    #code\n",
    "elif condition:\n",
    "    #code\n",
    "else:\n",
    "    #code"
   ]
  },
  {
   "cell_type": "code",
   "execution_count": 23,
   "id": "d9a399c7",
   "metadata": {},
   "outputs": [
    {
     "name": "stdout",
     "output_type": "stream",
     "text": [
      "30\n"
     ]
    }
   ],
   "source": [
    "a = 10\n",
    "b = 20\n",
    "if a < b :\n",
    "    print(a+b)\n",
    "else:\n",
    "    print(a-b)"
   ]
  },
  {
   "cell_type": "code",
   "execution_count": 24,
   "id": "59a180a7",
   "metadata": {},
   "outputs": [
    {
     "name": "stdout",
     "output_type": "stream",
     "text": [
      "0\n"
     ]
    }
   ],
   "source": [
    "a = 20\n",
    "b = 20\n",
    "if a < b :\n",
    "    print(a+b)\n",
    "else:\n",
    "    print(a-b)"
   ]
  },
  {
   "cell_type": "markdown",
   "id": "7b295572",
   "metadata": {},
   "source": [
    "1.Basic IF statement"
   ]
  },
  {
   "cell_type": "code",
   "execution_count": 5,
   "id": "392cbc7e",
   "metadata": {},
   "outputs": [
    {
     "name": "stdout",
     "output_type": "stream",
     "text": [
      "Enter your age : 18\n",
      "You are an adult\n"
     ]
    }
   ],
   "source": [
    "age = int(input(\"Enter your age : \"))\n",
    "\n",
    "if age >= 18:\n",
    "    print(\"You are an adult\")"
   ]
  },
  {
   "cell_type": "code",
   "execution_count": 6,
   "id": "f7c63ce7",
   "metadata": {},
   "outputs": [
    {
     "data": {
      "text/plain": [
       "True"
      ]
     },
     "execution_count": 6,
     "metadata": {},
     "output_type": "execute_result"
    }
   ],
   "source": [
    "18 >= 18"
   ]
  },
  {
   "cell_type": "markdown",
   "id": "94787206",
   "metadata": {},
   "source": [
    "2. With if-else condition"
   ]
  },
  {
   "cell_type": "code",
   "execution_count": 8,
   "id": "261b37a3",
   "metadata": {},
   "outputs": [
    {
     "name": "stdout",
     "output_type": "stream",
     "text": [
      "Enter your age : 12\n",
      "You are a teenager\n"
     ]
    }
   ],
   "source": [
    "age = int(input(\"Enter your age : \"))\n",
    "\n",
    "if age >= 18:\n",
    "    \n",
    "    print(\"You are an adult\")\n",
    "else:\n",
    "    print(\"You are a teenager\")"
   ]
  },
  {
   "cell_type": "markdown",
   "id": "3b21ba83",
   "metadata": {},
   "source": [
    "3.with if-elif-else condition"
   ]
  },
  {
   "cell_type": "code",
   "execution_count": 9,
   "id": "35856976",
   "metadata": {},
   "outputs": [
    {
     "name": "stdout",
     "output_type": "stream",
     "text": [
      "Enter your age : -100\n",
      "Enter valid age\n"
     ]
    }
   ],
   "source": [
    "age = int(input(\"Enter your age : \"))\n",
    "\n",
    "if age >= 18:\n",
    "    print(\"You are an adult\")\n",
    "elif age <= 0:\n",
    "    print(\"Enter valid age\")\n",
    "else:\n",
    "    print(\"You are a teenager\")"
   ]
  },
  {
   "cell_type": "code",
   "execution_count": 10,
   "id": "b12ad6d7",
   "metadata": {},
   "outputs": [
    {
     "data": {
      "text/plain": [
       "True"
      ]
     },
     "execution_count": 10,
     "metadata": {},
     "output_type": "execute_result"
    }
   ],
   "source": [
    "-100 < 0\n"
   ]
  },
  {
   "cell_type": "markdown",
   "id": "c16f69b2",
   "metadata": {},
   "source": [
    "Ask user to enter temperature..if temp > 30 then say it is too hot otherwise say it is cool"
   ]
  },
  {
   "cell_type": "code",
   "execution_count": 1,
   "id": "679fe17c",
   "metadata": {},
   "outputs": [
    {
     "name": "stdout",
     "output_type": "stream",
     "text": [
      "Enter the temperature :: 29\n",
      "weather is cool\n"
     ]
    }
   ],
   "source": [
    "temp = int(input(\"Enter the temperature :: \"))\n",
    "if temp >= 30:\n",
    "    print(\"weather is hot\")\n",
    "else:\n",
    "    print(\"weather is cool\")"
   ]
  },
  {
   "cell_type": "code",
   "execution_count": null,
   "id": "5bd88584",
   "metadata": {},
   "outputs": [],
   "source": [
    "Grade calculator\n",
    "\n",
    "Criteria:\n",
    "1. if marks between 85-100 then \"A\" grade\n",
    "2. if marks between 66-85 then \"B\" grade\n",
    "3. if marks between 50-65 then \"C\" grade\n",
    "4. if marks between 35-50 then \"D\" grade\n",
    "5. if marks less than 35 then \"Fail\""
   ]
  },
  {
   "cell_type": "code",
   "execution_count": null,
   "id": "4eb576c2",
   "metadata": {},
   "outputs": [],
   "source": [
    "marks >= 85 and marks <=100 -\"A\"\n",
    "marks >= 65 and marks < 85 -\"B\"\n",
    "marks >= 50 and marks < 65 -\"C\"\n",
    "marks >= 35 and marks < 50 -\"D\"\n",
    "marks < 35 ---\"Fail\""
   ]
  },
  {
   "cell_type": "code",
   "execution_count": 1,
   "id": "03f702af",
   "metadata": {},
   "outputs": [
    {
     "name": "stdout",
     "output_type": "stream",
     "text": [
      "Enter your marks :: 45\n",
      "D grade\n"
     ]
    }
   ],
   "source": [
    "marks = int(input(\"Enter your marks :: \"))\n",
    "\n",
    "if (marks >= 85) and (marks <= 100):\n",
    "    print(\"A grade\")\n",
    "elif (marks >= 65) and (marks < 85):\n",
    "    print(\"B grade\")\n",
    "elif (marks >= 50) and (marks < 65):\n",
    "    print(\"C grade\")\n",
    "elif (marks >= 35) and (marks < 50):\n",
    "    print(\"D grade\")\n",
    "else:\n",
    "    print(\"Fail\")"
   ]
  },
  {
   "cell_type": "code",
   "execution_count": 2,
   "id": "c86ba91d",
   "metadata": {},
   "outputs": [
    {
     "name": "stdout",
     "output_type": "stream",
     "text": [
      "Enter your marks :: 99\n",
      "A grade\n"
     ]
    }
   ],
   "source": [
    "marks = int(input(\"Enter your marks :: \"))\n",
    "\n",
    "if (marks >= 85) and (marks <= 100):\n",
    "    print(\"A grade\")\n",
    "elif (marks >= 65) and (marks < 85):\n",
    "    print(\"B grade\")\n",
    "elif (marks >= 50) and (marks < 65):\n",
    "    print(\"C grade\")\n",
    "elif (marks >= 35) and (marks < 50):\n",
    "    print(\"D grade\")\n",
    "elif(marks > 100) or (marks < 0):\n",
    "    print(\"Enter valid marks\")\n",
    "else:\n",
    "    print(\"Fail\")"
   ]
  },
  {
   "cell_type": "code",
   "execution_count": 7,
   "id": "060f1480",
   "metadata": {},
   "outputs": [],
   "source": [
    "batch = [\"akshitha\",\"vasavi\",\"tejaswini\",\"archana\",\"ashu\"]"
   ]
  },
  {
   "cell_type": "code",
   "execution_count": 8,
   "id": "d4b736a4",
   "metadata": {},
   "outputs": [
    {
     "data": {
      "text/plain": [
       "list"
      ]
     },
     "execution_count": 8,
     "metadata": {},
     "output_type": "execute_result"
    }
   ],
   "source": [
    "type(batch)"
   ]
  },
  {
   "cell_type": "markdown",
   "id": "8f35e347",
   "metadata": {},
   "source": [
    "if they are available then say present otherwise absent"
   ]
  },
  {
   "cell_type": "code",
   "execution_count": 9,
   "id": "ef0e96e2",
   "metadata": {},
   "outputs": [
    {
     "data": {
      "text/plain": [
       "True"
      ]
     },
     "execution_count": 9,
     "metadata": {},
     "output_type": "execute_result"
    }
   ],
   "source": [
    "\"akshitha\" in batch"
   ]
  },
  {
   "cell_type": "code",
   "execution_count": 10,
   "id": "682eb75a",
   "metadata": {},
   "outputs": [
    {
     "data": {
      "text/plain": [
       "False"
      ]
     },
     "execution_count": 10,
     "metadata": {},
     "output_type": "execute_result"
    }
   ],
   "source": [
    "\"virat\" in batch"
   ]
  },
  {
   "cell_type": "code",
   "execution_count": 13,
   "id": "47b67531",
   "metadata": {},
   "outputs": [
    {
     "name": "stdout",
     "output_type": "stream",
     "text": [
      "she is not present\n"
     ]
    }
   ],
   "source": [
    "if \"Akshitha\" in batch :\n",
    "    print(\"she attented class\")\n",
    "else:\n",
    "    print(\"she is not present\")   #python is case sensitive"
   ]
  },
  {
   "cell_type": "code",
   "execution_count": 14,
   "id": "a437da37",
   "metadata": {},
   "outputs": [
    {
     "name": "stdout",
     "output_type": "stream",
     "text": [
      "she attented class\n"
     ]
    }
   ],
   "source": [
    "if \"akshitha\" in batch :\n",
    "    print(\"she attented class\")\n",
    "else:\n",
    "    print(\"she is not present\") "
   ]
  },
  {
   "cell_type": "markdown",
   "id": "39ec2172",
   "metadata": {},
   "source": [
    "Website login"
   ]
  },
  {
   "cell_type": "markdown",
   "id": "7b5b8b55",
   "metadata": {},
   "source": [
    "# Signup/register"
   ]
  },
  {
   "cell_type": "code",
   "execution_count": 5,
   "id": "1e96e26a",
   "metadata": {},
   "outputs": [
    {
     "name": "stdout",
     "output_type": "stream",
     "text": [
      "Enter your mail ID : vk18@gmail.com\n",
      "Enter password : virat18\n",
      "Enter mobile number : 1548545\n"
     ]
    }
   ],
   "source": [
    "mail = input(\"Enter your mail ID : \")\n",
    "pas = input(\"Enter password : \")\n",
    "mobile = int(input(\"Enter mobile number : \"))"
   ]
  },
  {
   "cell_type": "markdown",
   "id": "d902f6fa",
   "metadata": {},
   "source": [
    "# Login/Sign in"
   ]
  },
  {
   "cell_type": "code",
   "execution_count": 7,
   "id": "44a5f6eb",
   "metadata": {},
   "outputs": [
    {
     "name": "stdout",
     "output_type": "stream",
     "text": [
      "Enter your mail ID to Login::vk18@gmail.com\n",
      "Enter your password to Login::virat18\n",
      "Welcome .....Login Sucessful\n"
     ]
    }
   ],
   "source": [
    "mailID = input(\"Enter your mail ID to Login::\")\n",
    "password = input(\"Enter your password to Login::\")\n",
    "\n",
    "if (mailID == mailID) and  (password == password): \n",
    "    print(\"Welcome .....Login Sucessful\")\n",
    "else:\n",
    "    print(\"Invalid Credentials\")"
   ]
  },
  {
   "cell_type": "markdown",
   "id": "3b39ee68",
   "metadata": {},
   "source": [
    "# Ternary Operator"
   ]
  },
  {
   "cell_type": "code",
   "execution_count": 3,
   "id": "96b14ebc",
   "metadata": {},
   "outputs": [
    {
     "name": "stdout",
     "output_type": "stream",
     "text": [
      "Enter temp: 32\n",
      "It is Hot\n"
     ]
    }
   ],
   "source": [
    "temp = int(input(\"Enter temp: \"))\n",
    "\n",
    "if temp > 30 :\n",
    "    print(\"It is Hot\")\n",
    "else:\n",
    "    print(\"It is Cool\")"
   ]
  },
  {
   "cell_type": "code",
   "execution_count": null,
   "id": "7ddd152d",
   "metadata": {},
   "outputs": [],
   "source": [
    "x = firstvalue   if condition else secondvalue"
   ]
  },
  {
   "cell_type": "code",
   "execution_count": 3,
   "id": "27868282",
   "metadata": {},
   "outputs": [
    {
     "name": "stdout",
     "output_type": "stream",
     "text": [
      "Enter temp::29\n"
     ]
    },
    {
     "data": {
      "text/plain": [
       "'It is Cool'"
      ]
     },
     "execution_count": 3,
     "metadata": {},
     "output_type": "execute_result"
    }
   ],
   "source": [
    "temp = int(input(\"Enter temp::\"))\n",
    "\n",
    "\"It is Hot\"    if(temp > 30) else \"It is Cool\""
   ]
  },
  {
   "cell_type": "code",
   "execution_count": 1,
   "id": "78b7b48a",
   "metadata": {},
   "outputs": [
    {
     "name": "stdout",
     "output_type": "stream",
     "text": [
      "Enter a number::15\n"
     ]
    },
    {
     "data": {
      "text/plain": [
       "'Odd'"
      ]
     },
     "execution_count": 1,
     "metadata": {},
     "output_type": "execute_result"
    }
   ],
   "source": [
    "num = int(input(\"Enter a number::\"))\n",
    "\n",
    "\"Even\" if (num % 2 == 0) else \"Odd\""
   ]
  },
  {
   "cell_type": "markdown",
   "id": "fe79773c",
   "metadata": {},
   "source": [
    "# Tax calculator"
   ]
  },
  {
   "cell_type": "code",
   "execution_count": null,
   "id": "5a1a26c7",
   "metadata": {},
   "outputs": [],
   "source": [
    "Rs 0 to 3 lakh - 0% tax rate\n",
    "Rs 3 lakh to 6 lakh - 5%\n",
    "Rs 6 lakh to 9 lakh - 10%\n",
    "Rs 9 lakh to 12 lakh - 15%\n",
    "Rs 12 lakh to 15 lakh - 20%\n",
    "Above Rs lakh - 30%"
   ]
  },
  {
   "cell_type": "code",
   "execution_count": 3,
   "id": "fcc3964b",
   "metadata": {},
   "outputs": [
    {
     "name": "stdout",
     "output_type": "stream",
     "text": [
      "Enter your annual income(lakhs)3.5\n",
      "you need to pay 0.17500000000000002\n"
     ]
    }
   ],
   "source": [
    "income = float(input(\"Enter your annual income(lakhs)\"))\n",
    "\n",
    "if (income <= 3) and (income > 0):\n",
    "    print(\"No Tax\")\n",
    "elif (income <= 6) and (income > 3):\n",
    "    tax = income * 0.05\n",
    "    print(f\"you need to pay {tax}\")\n",
    "elif (income <= 9) and (income > 6):\n",
    "    tax = income * 0.1\n",
    "    print(f\"you need to pay {tax}\")\n",
    "elif (income <= 12) and (income > 9):\n",
    "    tax = income * 0.15\n",
    "    print(f\"you need to pay {tax}\")\n",
    "elif (income <= 15) and (income > 12):\n",
    "    tax = income * 0.2\n",
    "    print(f\"you need to pay {tax}\")\n",
    "else:\n",
    "    tax = income * 0.3\n",
    "    print(f\"you need to pay {tax}\")"
   ]
  },
  {
   "cell_type": "code",
   "execution_count": null,
   "id": "55f43cc0",
   "metadata": {},
   "outputs": [],
   "source": [
    "1 lakh - 100 k - 100000"
   ]
  },
  {
   "cell_type": "code",
   "execution_count": 2,
   "id": "7b1e9c86",
   "metadata": {},
   "outputs": [
    {
     "name": "stdout",
     "output_type": "stream",
     "text": [
      "Enter your annual income(lakhs)8.6\n",
      "you need to pay 86000.0\n"
     ]
    }
   ],
   "source": [
    "income = float(input(\"Enter your annual income(lakhs)\"))\n",
    "\n",
    "if (income <= 3) and (income > 0):\n",
    "    print(\"No Tax\")\n",
    "    \n",
    "elif (income <= 6) and (income > 3):\n",
    "    tax = income * 0.05 * 100000\n",
    "    print(f\"you need to pay {tax}\")\n",
    "    \n",
    "elif (income <= 9) and (income > 6):\n",
    "    tax = income * 0.1 * 100000\n",
    "    print(f\"you need to pay {tax}\")\n",
    "    \n",
    "elif (income <= 12) and (income > 9):\n",
    "    tax = income * 0.15 * 100000\n",
    "    print(f\"you need to pay {tax}\")\n",
    "    \n",
    "elif (income <= 15) and (income > 12):\n",
    "    tax = income * 0.2 * 100000\n",
    "    print(f\"you need to pay {tax}\")\n",
    "    \n",
    "else:\n",
    "    tax = income * 0.3 * 100000\n",
    "    print(f\"you need to pay {tax}\")"
   ]
  },
  {
   "cell_type": "code",
   "execution_count": 4,
   "id": "46ce28e9",
   "metadata": {},
   "outputs": [
    {
     "name": "stdout",
     "output_type": "stream",
     "text": [
      "Enter your annual income(lakhs)-6.2\n",
      "Enter valid income\n"
     ]
    }
   ],
   "source": [
    "income = float(input(\"Enter your annual income(lakhs)\"))\n",
    "\n",
    "if (income <= 3) and (income > 0):\n",
    "    print(\"No Tax\")\n",
    "    \n",
    "elif (income <= 6) and (income > 3):\n",
    "    tax = income * 0.05 * 100000\n",
    "    print(f\"you need to pay {tax}\")\n",
    "    \n",
    "elif (income <= 9) and (income > 6):\n",
    "    tax = income * 0.1 * 100000\n",
    "    print(f\"you need to pay {tax}\")\n",
    "    \n",
    "elif (income <= 12) and (income > 9):\n",
    "    tax = income * 0.15 * 100000\n",
    "    print(f\"you need to pay {tax}\")\n",
    "    \n",
    "elif (income <= 15) and (income > 12):\n",
    "    tax = income * 0.2 * 100000\n",
    "    print(f\"you need to pay {tax}\")\n",
    "\n",
    "elif income < 0:\n",
    "    print(\"Enter valid income\")\n",
    "    \n",
    "else:\n",
    "    tax = income * 0.3 * 100000\n",
    "    print(f\"you need to pay {tax}\")"
   ]
  },
  {
   "cell_type": "markdown",
   "id": "25a7318e",
   "metadata": {},
   "source": [
    "Nested if"
   ]
  },
  {
   "cell_type": "markdown",
   "id": "a9eb9c26",
   "metadata": {},
   "source": [
    "if inside if"
   ]
  },
  {
   "cell_type": "markdown",
   "id": "f87ccf67",
   "metadata": {},
   "source": [
    "# Ticket vender machine"
   ]
  },
  {
   "cell_type": "code",
   "execution_count": null,
   "id": "a057c035",
   "metadata": {},
   "outputs": [],
   "source": [
    "age < 10 -Free-if \"Girl\" chocolate\n",
    "\n",
    "age > 10 - 50"
   ]
  },
  {
   "cell_type": "code",
   "execution_count": 7,
   "id": "3e10ad4f",
   "metadata": {},
   "outputs": [
    {
     "name": "stdout",
     "output_type": "stream",
     "text": [
      "Enter your age:: 7\n",
      "What is your gender girl or boy:: girl\n",
      "Take chocolate\n"
     ]
    }
   ],
   "source": [
    "age = int(input(\"Enter your age:: \"))\n",
    "\n",
    "if age < 10:\n",
    "    \n",
    "    gender = input(\"What is your gender girl or boy:: \")\n",
    "    \n",
    "    if gender == \"girl\":\n",
    "        print(\"Take chocolate\")\n",
    "    \n",
    "\n",
    "else:\n",
    "    print(\"pay 50 rupees\")"
   ]
  },
  {
   "cell_type": "code",
   "execution_count": 10,
   "id": "3274918e",
   "metadata": {},
   "outputs": [
    {
     "name": "stdout",
     "output_type": "stream",
     "text": [
      "Enter your age:: 7\n",
      "What is your gender girl or boy:: boy\n",
      "respect Women\n"
     ]
    }
   ],
   "source": [
    "age = int(input(\"Enter your age:: \"))\n",
    "\n",
    "if age < 10:\n",
    "    \n",
    "    gender = input(\"What is your gender girl or boy:: \")\n",
    "    \n",
    "    if gender == \"girl\":\n",
    "        print(\"Take chocolate\")\n",
    "    else:\n",
    "        print(\"respect Women\")\n",
    "    \n",
    "\n",
    "else:\n",
    "    print(\"pay 50 rupees\")"
   ]
  },
  {
   "cell_type": "code",
   "execution_count": 12,
   "id": "c09307c6",
   "metadata": {},
   "outputs": [],
   "source": [
    "# first method "
   ]
  },
  {
   "cell_type": "code",
   "execution_count": 13,
   "id": "50fab9be",
   "metadata": {},
   "outputs": [
    {
     "name": "stdout",
     "output_type": "stream",
     "text": [
      "Enter a number :: 6\n",
      "Even\n"
     ]
    }
   ],
   "source": [
    "num = int(input(\"Enter a number :: \"))\n",
    "if num % 2 == 0:\n",
    "    print(\"Even\")\n",
    "else:\n",
    "    print(\"Odd\")"
   ]
  },
  {
   "cell_type": "code",
   "execution_count": 14,
   "id": "19a4c7c0",
   "metadata": {},
   "outputs": [],
   "source": [
    "# Second method"
   ]
  },
  {
   "cell_type": "code",
   "execution_count": 15,
   "id": "0432e52e",
   "metadata": {},
   "outputs": [
    {
     "name": "stdout",
     "output_type": "stream",
     "text": [
      "Enter a number :: 5\n"
     ]
    },
    {
     "data": {
      "text/plain": [
       "'Odd'"
      ]
     },
     "execution_count": 15,
     "metadata": {},
     "output_type": "execute_result"
    }
   ],
   "source": [
    "num = int(input(\"Enter a number :: \"))\n",
    "\n",
    "\"Even\" if (num % 2 ) == 0 else \"Odd\""
   ]
  },
  {
   "cell_type": "code",
   "execution_count": 17,
   "id": "9466bb78",
   "metadata": {},
   "outputs": [],
   "source": [
    "# third method"
   ]
  },
  {
   "cell_type": "code",
   "execution_count": 18,
   "id": "55dc2940",
   "metadata": {},
   "outputs": [
    {
     "name": "stdout",
     "output_type": "stream",
     "text": [
      "Enter a number :: 8\n"
     ]
    },
    {
     "data": {
      "text/plain": [
       "'Even'"
      ]
     },
     "execution_count": 18,
     "metadata": {},
     "output_type": "execute_result"
    }
   ],
   "source": [
    "num = int(input(\"Enter a number :: \"))\n",
    "\n",
    "(\"Odd\",\"Even\")[num % 2 == 0]"
   ]
  },
  {
   "cell_type": "markdown",
   "id": "b03970f0",
   "metadata": {},
   "source": [
    " # Range"
   ]
  },
  {
   "cell_type": "code",
   "execution_count": 12,
   "id": "c1edc4e0",
   "metadata": {},
   "outputs": [],
   "source": [
    "# it is used to represent a sequence of numbers\n",
    "# it omits the last value"
   ]
  },
  {
   "cell_type": "code",
   "execution_count": 13,
   "id": "337517f0",
   "metadata": {},
   "outputs": [
    {
     "ename": "NameError",
     "evalue": "name 'start' is not defined",
     "output_type": "error",
     "traceback": [
      "\u001b[1;31m---------------------------------------------------------------------------\u001b[0m",
      "\u001b[1;31mNameError\u001b[0m                                 Traceback (most recent call last)",
      "Cell \u001b[1;32mIn[13], line 3\u001b[0m\n\u001b[0;32m      1\u001b[0m \u001b[38;5;66;03m# syntax for range is\u001b[39;00m\n\u001b[1;32m----> 3\u001b[0m \u001b[38;5;28mrange\u001b[39m(start,stop,step)\n",
      "\u001b[1;31mNameError\u001b[0m: name 'start' is not defined"
     ]
    }
   ],
   "source": [
    "# syntax for range is\n",
    "\n",
    "range(start,stop,step)"
   ]
  },
  {
   "cell_type": "code",
   "execution_count": null,
   "id": "602ee7ca",
   "metadata": {},
   "outputs": [],
   "source": [
    "range(1,25) #it dont give error but it creates an output"
   ]
  },
  {
   "cell_type": "code",
   "execution_count": 14,
   "id": "d8fa3fd5",
   "metadata": {},
   "outputs": [
    {
     "data": {
      "text/plain": [
       "[1,\n",
       " 2,\n",
       " 3,\n",
       " 4,\n",
       " 5,\n",
       " 6,\n",
       " 7,\n",
       " 8,\n",
       " 9,\n",
       " 10,\n",
       " 11,\n",
       " 12,\n",
       " 13,\n",
       " 14,\n",
       " 15,\n",
       " 16,\n",
       " 17,\n",
       " 18,\n",
       " 19,\n",
       " 20,\n",
       " 21,\n",
       " 22,\n",
       " 23,\n",
       " 24]"
      ]
     },
     "execution_count": 14,
     "metadata": {},
     "output_type": "execute_result"
    }
   ],
   "source": [
    "list(range(1,25))"
   ]
  },
  {
   "cell_type": "code",
   "execution_count": 15,
   "id": "a0b12437",
   "metadata": {},
   "outputs": [
    {
     "data": {
      "text/plain": [
       "[1, 3, 5, 7, 9, 11, 13, 15, 17, 19, 21, 23]"
      ]
     },
     "execution_count": 15,
     "metadata": {},
     "output_type": "execute_result"
    }
   ],
   "source": [
    "list(range(1,25,2))"
   ]
  },
  {
   "cell_type": "code",
   "execution_count": 16,
   "id": "68e9b7f6",
   "metadata": {},
   "outputs": [
    {
     "data": {
      "text/plain": [
       "[]"
      ]
     },
     "execution_count": 16,
     "metadata": {},
     "output_type": "execute_result"
    }
   ],
   "source": [
    "list(range(1,25,-1))"
   ]
  },
  {
   "cell_type": "code",
   "execution_count": 17,
   "id": "26500c2f",
   "metadata": {},
   "outputs": [
    {
     "data": {
      "text/plain": [
       "[25,\n",
       " 24,\n",
       " 23,\n",
       " 22,\n",
       " 21,\n",
       " 20,\n",
       " 19,\n",
       " 18,\n",
       " 17,\n",
       " 16,\n",
       " 15,\n",
       " 14,\n",
       " 13,\n",
       " 12,\n",
       " 11,\n",
       " 10,\n",
       " 9,\n",
       " 8,\n",
       " 7,\n",
       " 6,\n",
       " 5,\n",
       " 4,\n",
       " 3,\n",
       " 2,\n",
       " 1]"
      ]
     },
     "execution_count": 17,
     "metadata": {},
     "output_type": "execute_result"
    }
   ],
   "source": [
    "list(range(25,0,-1)) # reversing concept"
   ]
  },
  {
   "cell_type": "code",
   "execution_count": 18,
   "id": "d8dac64c",
   "metadata": {},
   "outputs": [
    {
     "data": {
      "text/plain": [
       "(0, 1, 2, 3, 4, 5, 6, 7, 8, 9)"
      ]
     },
     "execution_count": 18,
     "metadata": {},
     "output_type": "execute_result"
    }
   ],
   "source": [
    "tuple(range(10))"
   ]
  },
  {
   "cell_type": "code",
   "execution_count": 19,
   "id": "b11b4e69",
   "metadata": {},
   "outputs": [
    {
     "data": {
      "text/plain": [
       "{0, 3, 6, 9, 12, 15, 18, 21, 24, 27, 30}"
      ]
     },
     "execution_count": 19,
     "metadata": {},
     "output_type": "execute_result"
    }
   ],
   "source": [
    "set(range(0,31,3))"
   ]
  },
  {
   "cell_type": "markdown",
   "id": "c7767077",
   "metadata": {},
   "source": [
    "# Iterative/Loop statements"
   ]
  },
  {
   "cell_type": "markdown",
   "id": "9f936d8a",
   "metadata": {},
   "source": [
    "if we want to execute a group of statements multiple times then we should go for Iterative"
   ]
  },
  {
   "cell_type": "code",
   "execution_count": 21,
   "id": "37fa6647",
   "metadata": {},
   "outputs": [
    {
     "name": "stdout",
     "output_type": "stream",
     "text": [
      "Hello\n",
      "Hai\n",
      "Bye\n"
     ]
    }
   ],
   "source": [
    "print(\"Hello\")\n",
    "print(\"Hai\")\n",
    "print(\"Bye\")  # if we want to execute multiple times we have to use for loop/ while loop"
   ]
  },
  {
   "cell_type": "code",
   "execution_count": 23,
   "id": "8336f578",
   "metadata": {},
   "outputs": [
    {
     "name": "stdout",
     "output_type": "stream",
     "text": [
      "Hello\n",
      "Hello\n",
      "Hello\n",
      "Hello\n",
      "Hello\n",
      "Hello\n",
      "Hello\n",
      "Hello\n",
      "Hello\n",
      "Hello\n",
      "Hello\n",
      "Hello\n",
      "Hello\n",
      "Hello\n",
      "Hello\n",
      "Hello\n",
      "Hello\n",
      "Hello\n",
      "Hello\n",
      "Hello\n"
     ]
    }
   ],
   "source": [
    "for i in range(20):\n",
    "    print(\"Hello\")"
   ]
  },
  {
   "cell_type": "markdown",
   "id": "da2643c0",
   "metadata": {},
   "source": [
    "# for loop"
   ]
  },
  {
   "cell_type": "markdown",
   "id": "67386174",
   "metadata": {},
   "source": [
    "1.if we want to run multiple/single statements for multiple times\n",
    "\n",
    "2.for loop stops untill it goes for last element\n",
    "\n",
    "3.we can apply for loop on iterative/collection/sequence data type\n",
    "\n",
    "syntax: for temp_variable in sequence/collection:\n",
    "            || code | p suite\n",
    "        \n",
    "we can apply for loop on \n",
    "string\n",
    "list\n",
    "tuple\n",
    "set\n",
    "dictionary\n",
    "range"
   ]
  },
  {
   "cell_type": "markdown",
   "id": "e58c19d7",
   "metadata": {},
   "source": [
    "for var in sequence:\n",
    "    # block of codes \n",
    "    "
   ]
  },
  {
   "cell_type": "code",
   "execution_count": 26,
   "id": "6f29222d",
   "metadata": {},
   "outputs": [
    {
     "name": "stdout",
     "output_type": "stream",
     "text": [
      "IH\n",
      "nH\n",
      "nH\n",
      "oH\n",
      "mH\n",
      "aH\n",
      "tH\n",
      "iH\n",
      "cH\n",
      "sH\n"
     ]
    }
   ],
   "source": [
    "for i in \"Innomatics\":\n",
    "    print(i + \"H\") # it is printing H after every alphabet and it is string concatenation"
   ]
  },
  {
   "cell_type": "code",
   "execution_count": 27,
   "id": "bc513fcd",
   "metadata": {},
   "outputs": [
    {
     "name": "stdout",
     "output_type": "stream",
     "text": [
      "I\n",
      "n\n",
      "n\n",
      "o\n",
      "m\n",
      "a\n",
      "t\n",
      "i\n",
      "c\n",
      "s\n"
     ]
    }
   ],
   "source": [
    "for i in \"Innomatics\":\n",
    "    print(i)"
   ]
  },
  {
   "cell_type": "code",
   "execution_count": 29,
   "id": "98119178",
   "metadata": {},
   "outputs": [
    {
     "name": "stdout",
     "output_type": "stream",
     "text": [
      "I am \n",
      "n am \n",
      "n am \n",
      "o am \n",
      "m am \n",
      "a am \n",
      "t am \n",
      "i am \n",
      "c am \n",
      "s am \n"
     ]
    }
   ],
   "source": [
    "for i in \"Innomatics\":\n",
    "    print(i + \" am \")"
   ]
  },
  {
   "cell_type": "code",
   "execution_count": 30,
   "id": "d438cd47",
   "metadata": {},
   "outputs": [
    {
     "data": {
      "text/plain": [
       "[1, 2, 3, 4, 5, 6, 7, 8, 9, 10, 11, 12, 13, 14, 15, 16, 17, 18, 19]"
      ]
     },
     "execution_count": 30,
     "metadata": {},
     "output_type": "execute_result"
    }
   ],
   "source": [
    "var = list(range(1,20))\n",
    "var"
   ]
  },
  {
   "cell_type": "code",
   "execution_count": 31,
   "id": "ab1db7eb",
   "metadata": {},
   "outputs": [
    {
     "name": "stdout",
     "output_type": "stream",
     "text": [
      "1\n",
      "2\n",
      "3\n",
      "4\n",
      "5\n",
      "6\n",
      "7\n",
      "8\n",
      "9\n",
      "10\n",
      "11\n",
      "12\n",
      "13\n",
      "14\n",
      "15\n",
      "16\n",
      "17\n",
      "18\n",
      "19\n"
     ]
    }
   ],
   "source": [
    "for i in var:\n",
    "    print(i)"
   ]
  },
  {
   "cell_type": "code",
   "execution_count": 33,
   "id": "021a895f",
   "metadata": {},
   "outputs": [
    {
     "name": "stdout",
     "output_type": "stream",
     "text": [
      "1\n",
      "4\n",
      "9\n",
      "16\n",
      "25\n",
      "36\n",
      "49\n",
      "64\n",
      "81\n",
      "100\n",
      "121\n",
      "144\n",
      "169\n",
      "196\n",
      "225\n",
      "256\n",
      "289\n",
      "324\n",
      "361\n"
     ]
    }
   ],
   "source": [
    "for i in var:\n",
    "    print(i * i) # squares of i"
   ]
  },
  {
   "cell_type": "code",
   "execution_count": 34,
   "id": "b32c8172",
   "metadata": {},
   "outputs": [
    {
     "name": "stdout",
     "output_type": "stream",
     "text": [
      "2\n",
      "4\n",
      "6\n",
      "8\n",
      "10\n",
      "12\n",
      "14\n",
      "16\n",
      "18\n"
     ]
    }
   ],
   "source": [
    "for i in var:\n",
    "    if i % 2 == 0:    #even\n",
    "        print(i)"
   ]
  },
  {
   "cell_type": "code",
   "execution_count": 35,
   "id": "55fd1d58",
   "metadata": {},
   "outputs": [
    {
     "name": "stdout",
     "output_type": "stream",
     "text": [
      "1\n",
      "3\n",
      "5\n",
      "7\n",
      "9\n",
      "11\n",
      "13\n",
      "15\n",
      "17\n",
      "19\n"
     ]
    }
   ],
   "source": [
    "for i in var:\n",
    "    if i % 2 == 1:\n",
    "        print(i)       #odd"
   ]
  },
  {
   "cell_type": "code",
   "execution_count": 37,
   "id": "a5815d34",
   "metadata": {},
   "outputs": [],
   "source": [
    "n = (\"Hello\",\"Hai\",\"Bye\")"
   ]
  },
  {
   "cell_type": "code",
   "execution_count": 39,
   "id": "8c34c25b",
   "metadata": {},
   "outputs": [
    {
     "name": "stdout",
     "output_type": "stream",
     "text": [
      "Hello\n",
      "Hai\n",
      "Bye\n"
     ]
    }
   ],
   "source": [
    "for i in n:\n",
    "    print(i)"
   ]
  },
  {
   "cell_type": "code",
   "execution_count": 40,
   "id": "8920b06b",
   "metadata": {},
   "outputs": [],
   "source": [
    "# print 20-30 using range data in list"
   ]
  },
  {
   "cell_type": "code",
   "execution_count": 41,
   "id": "6bd2d047",
   "metadata": {},
   "outputs": [],
   "source": [
    "# print each and every element using for loop"
   ]
  },
  {
   "cell_type": "code",
   "execution_count": 50,
   "id": "947f5ae7",
   "metadata": {},
   "outputs": [],
   "source": [
    "num = list(range(20,30))"
   ]
  },
  {
   "cell_type": "code",
   "execution_count": 52,
   "id": "8697c2aa",
   "metadata": {},
   "outputs": [
    {
     "name": "stdout",
     "output_type": "stream",
     "text": [
      "20\n",
      "21\n",
      "22\n",
      "23\n",
      "24\n",
      "25\n",
      "26\n",
      "27\n",
      "28\n",
      "29\n"
     ]
    }
   ],
   "source": [
    "for i in num:\n",
    "    print(i)"
   ]
  },
  {
   "cell_type": "code",
   "execution_count": 46,
   "id": "8fc9ff22",
   "metadata": {},
   "outputs": [],
   "source": [
    "# name = \"Innomatics Research Labs\"\n",
    "# print(i * n * n * o * m * a * t * i *  c * s)"
   ]
  },
  {
   "cell_type": "code",
   "execution_count": 105,
   "id": "46a493ac",
   "metadata": {},
   "outputs": [],
   "source": [
    "name = \"Innomatics Research Labs\""
   ]
  },
  {
   "cell_type": "code",
   "execution_count": 106,
   "id": "3060a855",
   "metadata": {},
   "outputs": [
    {
     "name": "stdout",
     "output_type": "stream",
     "text": [
      "I*\n",
      "n*\n",
      "n*\n",
      "o*\n",
      "m*\n",
      "a*\n",
      "t*\n",
      "i*\n",
      "c*\n",
      "s*\n",
      " *\n",
      "R*\n",
      "e*\n",
      "s*\n",
      "e*\n",
      "a*\n",
      "r*\n",
      "c*\n",
      "h*\n",
      " *\n",
      "L*\n",
      "a*\n",
      "b*\n",
      "s*\n"
     ]
    }
   ],
   "source": [
    "for i in name:\n",
    "     print(i + \"*\" )"
   ]
  },
  {
   "cell_type": "code",
   "execution_count": 107,
   "id": "44a38c28",
   "metadata": {},
   "outputs": [],
   "source": [
    "# Generate numbers from 100- 150 save those variable name in temp find the numbers which are divisible by 4"
   ]
  },
  {
   "cell_type": "code",
   "execution_count": 108,
   "id": "979c6156",
   "metadata": {},
   "outputs": [],
   "source": [
    "temp = list(range(100,150))"
   ]
  },
  {
   "cell_type": "code",
   "execution_count": 109,
   "id": "a2b44ce1",
   "metadata": {},
   "outputs": [
    {
     "name": "stdout",
     "output_type": "stream",
     "text": [
      "100\n",
      "104\n",
      "108\n",
      "112\n",
      "116\n",
      "120\n",
      "124\n",
      "128\n",
      "132\n",
      "136\n",
      "140\n",
      "144\n",
      "148\n"
     ]
    }
   ],
   "source": [
    "for i in temp:\n",
    "    if i % 4 == 0:\n",
    "        print(i)"
   ]
  },
  {
   "cell_type": "code",
   "execution_count": 110,
   "id": "b6af67c7",
   "metadata": {},
   "outputs": [],
   "source": [
    "# create a list of fruits and print the fruits which starts with vowel(a,e,i,o,u)"
   ]
  },
  {
   "cell_type": "code",
   "execution_count": 111,
   "id": "4113dbbc",
   "metadata": {},
   "outputs": [],
   "source": [
    "group = [\"apple\",\"orange\",\"eagle\",\"owl\",\"unioncorn\",\"icecream\",\"starfruit\",\"kiwi\"]\n"
   ]
  },
  {
   "cell_type": "code",
   "execution_count": 112,
   "id": "8e636fbc",
   "metadata": {},
   "outputs": [
    {
     "name": "stdout",
     "output_type": "stream",
     "text": [
      "apple\n",
      "orange\n",
      "eagle\n",
      "owl\n",
      "unioncorn\n",
      "icecream\n"
     ]
    }
   ],
   "source": [
    "for i in group:\n",
    "    if i.startswith(('a','e','i','o','u')):\n",
    "            print(i)\n",
    "        "
   ]
  },
  {
   "cell_type": "code",
   "execution_count": 113,
   "id": "b9f1f8dd",
   "metadata": {},
   "outputs": [],
   "source": [
    "# take numbers from 30-50 print the numbers which are divisible by both 2 and 5"
   ]
  },
  {
   "cell_type": "code",
   "execution_count": 114,
   "id": "cde06e35",
   "metadata": {},
   "outputs": [],
   "source": [
    "num = list(range(30,50))"
   ]
  },
  {
   "cell_type": "code",
   "execution_count": 115,
   "id": "06214bb1",
   "metadata": {},
   "outputs": [
    {
     "data": {
      "text/plain": [
       "[30,\n",
       " 31,\n",
       " 32,\n",
       " 33,\n",
       " 34,\n",
       " 35,\n",
       " 36,\n",
       " 37,\n",
       " 38,\n",
       " 39,\n",
       " 40,\n",
       " 41,\n",
       " 42,\n",
       " 43,\n",
       " 44,\n",
       " 45,\n",
       " 46,\n",
       " 47,\n",
       " 48,\n",
       " 49]"
      ]
     },
     "execution_count": 115,
     "metadata": {},
     "output_type": "execute_result"
    }
   ],
   "source": [
    "num"
   ]
  },
  {
   "cell_type": "code",
   "execution_count": 116,
   "id": "5b8567fa",
   "metadata": {},
   "outputs": [
    {
     "name": "stdout",
     "output_type": "stream",
     "text": [
      "30\n",
      "40\n"
     ]
    }
   ],
   "source": [
    "for i in num:\n",
    "    if (i % 2 == 0) and (i % 5 == 0):\n",
    "        print(i)"
   ]
  },
  {
   "cell_type": "code",
   "execution_count": null,
   "id": "066c966b",
   "metadata": {},
   "outputs": [],
   "source": [
    "name = [\"Data Science\",\"Data\",\"Data Analyst\",\"Tableau\",\"SQL\",\"Python\",\"Statistics\"]\n",
    "\n",
    "print the values which are having more than 5 characters in it"
   ]
  },
  {
   "cell_type": "code",
   "execution_count": 118,
   "id": "57ac5382",
   "metadata": {},
   "outputs": [],
   "source": [
    "name = [\"Data Science\",\"Data\",\"Data Analyst\",\"Tableau\",\"SQL\",\"Python\",\"Statistics\"]"
   ]
  },
  {
   "cell_type": "code",
   "execution_count": 119,
   "id": "05ec927e",
   "metadata": {},
   "outputs": [
    {
     "name": "stdout",
     "output_type": "stream",
     "text": [
      "Data Science\n",
      "Data Analyst\n",
      "Tableau\n",
      "Python\n",
      "Statistics\n"
     ]
    }
   ],
   "source": [
    "for i in name:\n",
    "    if len(i)>5:\n",
    "        print(i)"
   ]
  },
  {
   "cell_type": "code",
   "execution_count": 94,
   "id": "827592a7",
   "metadata": {},
   "outputs": [],
   "source": [
    "# take numbers from 1-20 print \"hello\" when no. is even and \"bye\" when no. is odd"
   ]
  },
  {
   "cell_type": "code",
   "execution_count": 96,
   "id": "496d895c",
   "metadata": {},
   "outputs": [],
   "source": [
    "num = list(range(1,20))"
   ]
  },
  {
   "cell_type": "code",
   "execution_count": 97,
   "id": "9b16891f",
   "metadata": {
    "scrolled": true
   },
   "outputs": [
    {
     "name": "stdout",
     "output_type": "stream",
     "text": [
      "bye\n",
      "hello\n",
      "bye\n",
      "hello\n",
      "bye\n",
      "hello\n",
      "bye\n",
      "hello\n",
      "bye\n",
      "hello\n",
      "bye\n",
      "hello\n",
      "bye\n",
      "hello\n",
      "bye\n",
      "hello\n",
      "bye\n",
      "hello\n",
      "bye\n"
     ]
    }
   ],
   "source": [
    "for i in num:\n",
    "    if(i % 2 == 0):\n",
    "        print(\"hello\")\n",
    "    elif(i % 2 == 1):\n",
    "        print(\"bye\")"
   ]
  },
  {
   "cell_type": "code",
   "execution_count": null,
   "id": "a0e64711",
   "metadata": {},
   "outputs": [],
   "source": [
    "create a dictionary atleast 5  fruits with prices the keys are fruits and values are prices\n",
    "\n",
    "1.what are the fruits available in the basket = dictionary\n",
    "\n",
    "2.write a prgm to know the price if i purchase 3 apples and 2 oranges\n",
    "\n",
    "3.add fruit for every available fruit\n",
    "\n",
    "4.find the average price of fruits\n",
    "\n",
    "5.which fruit is containing less than 5 letters \n"
   ]
  },
  {
   "cell_type": "code",
   "execution_count": 128,
   "id": "b846eb45",
   "metadata": {},
   "outputs": [],
   "source": [
    "basket = {\"apple\":50,\"mango\":80,\"orange\":30,\"kiwi\":75,\"lychee\":90}"
   ]
  },
  {
   "cell_type": "code",
   "execution_count": 129,
   "id": "080660ae",
   "metadata": {},
   "outputs": [
    {
     "data": {
      "text/plain": [
       "{'apple': 50, 'mango': 80, 'orange': 30, 'kiwi': 75, 'lychee': 90}"
      ]
     },
     "execution_count": 129,
     "metadata": {},
     "output_type": "execute_result"
    }
   ],
   "source": [
    "basket"
   ]
  },
  {
   "cell_type": "code",
   "execution_count": 130,
   "id": "9b415d31",
   "metadata": {},
   "outputs": [
    {
     "data": {
      "text/plain": [
       "dict"
      ]
     },
     "execution_count": 130,
     "metadata": {},
     "output_type": "execute_result"
    }
   ],
   "source": [
    "type(basket)"
   ]
  },
  {
   "cell_type": "code",
   "execution_count": null,
   "id": "e15f919a",
   "metadata": {},
   "outputs": [],
   "source": [
    "1. ask user to enter a number and find the sum of all numbers in the given range"
   ]
  },
  {
   "cell_type": "code",
   "execution_count": 5,
   "id": "0000629a",
   "metadata": {},
   "outputs": [
    {
     "name": "stdout",
     "output_type": "stream",
     "text": [
      "enter the number : 6\n"
     ]
    },
    {
     "data": {
      "text/plain": [
       "15"
      ]
     },
     "execution_count": 5,
     "metadata": {},
     "output_type": "execute_result"
    }
   ],
   "source": [
    "num = int(input(\"enter the number : \"))\n",
    "sum(range(0,num))"
   ]
  },
  {
   "cell_type": "code",
   "execution_count": 7,
   "id": "ea6d3f70",
   "metadata": {},
   "outputs": [
    {
     "name": "stdout",
     "output_type": "stream",
     "text": [
      "enter the number : 10\n"
     ]
    }
   ],
   "source": [
    "num = int(input(\"enter the number : \"))\n",
    "val = list(range(0,num))"
   ]
  },
  {
   "cell_type": "code",
   "execution_count": 8,
   "id": "7f12a630",
   "metadata": {},
   "outputs": [
    {
     "data": {
      "text/plain": [
       "45"
      ]
     },
     "execution_count": 8,
     "metadata": {},
     "output_type": "execute_result"
    }
   ],
   "source": [
    "sum(val)"
   ]
  },
  {
   "cell_type": "code",
   "execution_count": 9,
   "id": "e2d39222",
   "metadata": {},
   "outputs": [
    {
     "name": "stdout",
     "output_type": "stream",
     "text": [
      "enter the number : 8\n",
      "0\n",
      "1\n",
      "2\n",
      "3\n",
      "4\n",
      "5\n",
      "6\n",
      "7\n"
     ]
    }
   ],
   "source": [
    "n = int(input(\"enter the number : \"))\n",
    "\n",
    "for i in range(n):\n",
    "     print(i)"
   ]
  },
  {
   "cell_type": "code",
   "execution_count": 11,
   "id": "fb2cb807",
   "metadata": {},
   "outputs": [
    {
     "name": "stdout",
     "output_type": "stream",
     "text": [
      "enter the number : 6\n",
      "0\n",
      "1\n",
      "2\n",
      "3\n",
      "4\n",
      "5\n",
      "6\n"
     ]
    }
   ],
   "source": [
    "n = int(input(\"enter the number : \"))\n",
    "\n",
    "for i in range(n+1):         # including last number\n",
    "     print(i)           "
   ]
  },
  {
   "cell_type": "code",
   "execution_count": 14,
   "id": "10fc7ba5",
   "metadata": {},
   "outputs": [
    {
     "name": "stdout",
     "output_type": "stream",
     "text": [
      "enter the number : 5\n"
     ]
    }
   ],
   "source": [
    "n = int(input(\"enter the number : \"))\n",
    "\n",
    "total = 0\n",
    "for i in range(n+1):         \n",
    "    total = total + i \n",
    "    "
   ]
  },
  {
   "cell_type": "code",
   "execution_count": 15,
   "id": "11e83246",
   "metadata": {},
   "outputs": [
    {
     "name": "stdout",
     "output_type": "stream",
     "text": [
      "15\n"
     ]
    }
   ],
   "source": [
    "print(total)"
   ]
  },
  {
   "cell_type": "code",
   "execution_count": 20,
   "id": "87cf0da6",
   "metadata": {},
   "outputs": [
    {
     "name": "stdout",
     "output_type": "stream",
     "text": [
      "enter the number : 6\n",
      "21\n"
     ]
    }
   ],
   "source": [
    "n = int(input(\"enter the number : \"))\n",
    "\n",
    "total = 0\n",
    "for i in range(n+1):         \n",
    "    total = total + i \n",
    "print(total)"
   ]
  },
  {
   "cell_type": "code",
   "execution_count": 21,
   "id": "74049ab4",
   "metadata": {},
   "outputs": [
    {
     "name": "stdout",
     "output_type": "stream",
     "text": [
      "enter the number :: 6\n"
     ]
    }
   ],
   "source": [
    "n = int(input(\"enter the number :: \"))\n",
    "total = 1\n",
    "for i in range(n+1):\n",
    "    total = total + i"
   ]
  },
  {
   "cell_type": "code",
   "execution_count": 22,
   "id": "5581df96",
   "metadata": {},
   "outputs": [
    {
     "name": "stdout",
     "output_type": "stream",
     "text": [
      "22\n"
     ]
    }
   ],
   "source": [
    "print(total)"
   ]
  },
  {
   "cell_type": "code",
   "execution_count": 23,
   "id": "f89829d0",
   "metadata": {},
   "outputs": [
    {
     "name": "stdout",
     "output_type": "stream",
     "text": [
      "enter the number :: 6\n",
      "1\n",
      "2\n",
      "4\n",
      "7\n",
      "11\n",
      "16\n",
      "22\n"
     ]
    }
   ],
   "source": [
    "n = int(input(\"enter the number :: \"))\n",
    "total = 1\n",
    "for i in range(n+1):\n",
    "    total = total + i\n",
    "    print(total)"
   ]
  },
  {
   "cell_type": "code",
   "execution_count": 24,
   "id": "22dd1946",
   "metadata": {},
   "outputs": [
    {
     "name": "stdout",
     "output_type": "stream",
     "text": [
      "enter the number :: 7\n",
      "1\n",
      "2\n",
      "4\n",
      "7\n",
      "11\n",
      "16\n",
      "22\n"
     ]
    }
   ],
   "source": [
    "n = int(input(\"enter the number :: \"))\n",
    "total = 1\n",
    "for i in range(n):\n",
    "    total = total + i\n",
    "    print(total)"
   ]
  },
  {
   "cell_type": "code",
   "execution_count": 25,
   "id": "395f9780",
   "metadata": {},
   "outputs": [
    {
     "name": "stdout",
     "output_type": "stream",
     "text": [
      "enter the number :: 6\n",
      "0\n",
      "1\n",
      "3\n",
      "6\n",
      "10\n",
      "15\n",
      "21\n"
     ]
    }
   ],
   "source": [
    "n = int(input(\"enter the number :: \"))\n",
    "total = 0\n",
    "for i in range(n+1):\n",
    "    total = total + i\n",
    "    print(total)"
   ]
  },
  {
   "cell_type": "code",
   "execution_count": 26,
   "id": "d414bc8c",
   "metadata": {},
   "outputs": [
    {
     "name": "stdout",
     "output_type": "stream",
     "text": [
      "enter the number :: 5\n"
     ]
    }
   ],
   "source": [
    "n = int(input(\"enter the number :: \"))\n",
    "total = 1\n",
    "for i in range(n+1):\n",
    "    total = total + i\n",
    "    "
   ]
  },
  {
   "cell_type": "code",
   "execution_count": 27,
   "id": "df352799",
   "metadata": {},
   "outputs": [
    {
     "name": "stdout",
     "output_type": "stream",
     "text": [
      "16\n"
     ]
    }
   ],
   "source": [
    "print(total)"
   ]
  },
  {
   "cell_type": "code",
   "execution_count": null,
   "id": "0e2c544b",
   "metadata": {},
   "outputs": [],
   "source": [
    "take list of alphabets seperate vowels and consonants"
   ]
  },
  {
   "cell_type": "code",
   "execution_count": 25,
   "id": "e64a4efe",
   "metadata": {},
   "outputs": [],
   "source": [
    "alph = [chr(65+i) for i in range(0,26)]    # formula for generating alphabets "
   ]
  },
  {
   "cell_type": "code",
   "execution_count": 26,
   "id": "495ddee6",
   "metadata": {},
   "outputs": [
    {
     "data": {
      "text/plain": [
       "['A',\n",
       " 'B',\n",
       " 'C',\n",
       " 'D',\n",
       " 'E',\n",
       " 'F',\n",
       " 'G',\n",
       " 'H',\n",
       " 'I',\n",
       " 'J',\n",
       " 'K',\n",
       " 'L',\n",
       " 'M',\n",
       " 'N',\n",
       " 'O',\n",
       " 'P',\n",
       " 'Q',\n",
       " 'R',\n",
       " 'S',\n",
       " 'T',\n",
       " 'U',\n",
       " 'V',\n",
       " 'W',\n",
       " 'X',\n",
       " 'Y',\n",
       " 'Z']"
      ]
     },
     "execution_count": 26,
     "metadata": {},
     "output_type": "execute_result"
    }
   ],
   "source": [
    "alph"
   ]
  },
  {
   "cell_type": "code",
   "execution_count": 27,
   "id": "96e015ee",
   "metadata": {},
   "outputs": [
    {
     "name": "stdout",
     "output_type": "stream",
     "text": [
      "vowel = A\n",
      "cons = B\n",
      "cons = C\n",
      "cons = D\n",
      "vowel = E\n",
      "cons = F\n",
      "cons = G\n",
      "cons = H\n",
      "vowel = I\n",
      "cons = J\n",
      "cons = K\n",
      "cons = L\n",
      "cons = M\n",
      "cons = N\n",
      "vowel = O\n",
      "cons = P\n",
      "cons = Q\n",
      "cons = R\n",
      "cons = S\n",
      "cons = T\n",
      "vowel = U\n",
      "cons = V\n",
      "cons = W\n",
      "cons = X\n",
      "cons = Y\n",
      "cons = Z\n"
     ]
    }
   ],
   "source": [
    "v = [\"A\",\"E\",\"I\",\"O\",\"U\"]\n",
    "for i in alph:\n",
    "    if i in v:\n",
    "        print(\"vowel =\",i )\n",
    "    else:\n",
    "        print(\"cons =\",i)"
   ]
  },
  {
   "cell_type": "code",
   "execution_count": 29,
   "id": "ec88b329",
   "metadata": {},
   "outputs": [],
   "source": [
    "vowel = []\n",
    "cons = []"
   ]
  },
  {
   "cell_type": "code",
   "execution_count": 30,
   "id": "faec4a43",
   "metadata": {},
   "outputs": [],
   "source": [
    "\n",
    "for i in alph:\n",
    "    if i in [\"A\",\"E\",\"I\",\"O\",\"U\"]:\n",
    "        vowel.append(i)\n",
    "    else:\n",
    "        cons.append(i)\n",
    "        "
   ]
  },
  {
   "cell_type": "code",
   "execution_count": 31,
   "id": "ff374776",
   "metadata": {},
   "outputs": [
    {
     "data": {
      "text/plain": [
       "['A', 'E', 'I', 'O', 'U']"
      ]
     },
     "execution_count": 31,
     "metadata": {},
     "output_type": "execute_result"
    }
   ],
   "source": [
    "vowel"
   ]
  },
  {
   "cell_type": "code",
   "execution_count": 32,
   "id": "a76bbacf",
   "metadata": {},
   "outputs": [
    {
     "data": {
      "text/plain": [
       "['B',\n",
       " 'C',\n",
       " 'D',\n",
       " 'F',\n",
       " 'G',\n",
       " 'H',\n",
       " 'J',\n",
       " 'K',\n",
       " 'L',\n",
       " 'M',\n",
       " 'N',\n",
       " 'P',\n",
       " 'Q',\n",
       " 'R',\n",
       " 'S',\n",
       " 'T',\n",
       " 'V',\n",
       " 'W',\n",
       " 'X',\n",
       " 'Y',\n",
       " 'Z']"
      ]
     },
     "execution_count": 32,
     "metadata": {},
     "output_type": "execute_result"
    }
   ],
   "source": [
    "cons"
   ]
  },
  {
   "cell_type": "code",
   "execution_count": 1,
   "id": "f381ca66",
   "metadata": {},
   "outputs": [],
   "source": [
    " frnds = [\"varshu\",\"sourav\",\"rishi\",\"tanishka\",\"harshu\"]"
   ]
  },
  {
   "cell_type": "code",
   "execution_count": 2,
   "id": "39d27d09",
   "metadata": {},
   "outputs": [
    {
     "data": {
      "text/plain": [
       "['varshu', 'sourav', 'rishi', 'tanishka', 'harshu']"
      ]
     },
     "execution_count": 2,
     "metadata": {},
     "output_type": "execute_result"
    }
   ],
   "source": [
    "frnds"
   ]
  },
  {
   "cell_type": "code",
   "execution_count": 5,
   "id": "928405e9",
   "metadata": {},
   "outputs": [
    {
     "name": "stdout",
     "output_type": "stream",
     "text": [
      "varshu is my best friend\n",
      "sourav is my best friend\n",
      "rishi is my best friend\n",
      "tanishka is my best friend\n",
      "harshu is my best friend\n"
     ]
    }
   ],
   "source": [
    "for i in frnds:\n",
    "    print(i + \" is my best friend\")  #we can use name instewad of i and also we can also use formatted string"
   ]
  },
  {
   "cell_type": "markdown",
   "id": "7cf02184",
   "metadata": {},
   "source": [
    "# Nested for loop\n",
    "\n",
    "for loop inside a for loop"
   ]
  },
  {
   "cell_type": "code",
   "execution_count": 8,
   "id": "ed4fc895",
   "metadata": {},
   "outputs": [
    {
     "name": "stdout",
     "output_type": "stream",
     "text": [
      "1 * 1 = 1\n",
      "1 * 2 = 2\n",
      "1 * 3 = 3\n",
      "1 * 4 = 4\n",
      "1 * 5 = 5\n",
      "1 * 6 = 6\n",
      "1 * 7 = 7\n",
      "1 * 8 = 8\n",
      "1 * 9 = 9\n",
      "1 * 10 = 10\n",
      "\t\n",
      "2 * 1 = 2\n",
      "2 * 2 = 4\n",
      "2 * 3 = 6\n",
      "2 * 4 = 8\n",
      "2 * 5 = 10\n",
      "2 * 6 = 12\n",
      "2 * 7 = 14\n",
      "2 * 8 = 16\n",
      "2 * 9 = 18\n",
      "2 * 10 = 20\n",
      "\t\n",
      "3 * 1 = 3\n",
      "3 * 2 = 6\n",
      "3 * 3 = 9\n",
      "3 * 4 = 12\n",
      "3 * 5 = 15\n",
      "3 * 6 = 18\n",
      "3 * 7 = 21\n",
      "3 * 8 = 24\n",
      "3 * 9 = 27\n",
      "3 * 10 = 30\n",
      "\t\n",
      "4 * 1 = 4\n",
      "4 * 2 = 8\n",
      "4 * 3 = 12\n",
      "4 * 4 = 16\n",
      "4 * 5 = 20\n",
      "4 * 6 = 24\n",
      "4 * 7 = 28\n",
      "4 * 8 = 32\n",
      "4 * 9 = 36\n",
      "4 * 10 = 40\n",
      "\t\n",
      "5 * 1 = 5\n",
      "5 * 2 = 10\n",
      "5 * 3 = 15\n",
      "5 * 4 = 20\n",
      "5 * 5 = 25\n",
      "5 * 6 = 30\n",
      "5 * 7 = 35\n",
      "5 * 8 = 40\n",
      "5 * 9 = 45\n",
      "5 * 10 = 50\n",
      "\t\n",
      "6 * 1 = 6\n",
      "6 * 2 = 12\n",
      "6 * 3 = 18\n",
      "6 * 4 = 24\n",
      "6 * 5 = 30\n",
      "6 * 6 = 36\n",
      "6 * 7 = 42\n",
      "6 * 8 = 48\n",
      "6 * 9 = 54\n",
      "6 * 10 = 60\n",
      "\t\n",
      "7 * 1 = 7\n",
      "7 * 2 = 14\n",
      "7 * 3 = 21\n",
      "7 * 4 = 28\n",
      "7 * 5 = 35\n",
      "7 * 6 = 42\n",
      "7 * 7 = 49\n",
      "7 * 8 = 56\n",
      "7 * 9 = 63\n",
      "7 * 10 = 70\n",
      "\t\n",
      "8 * 1 = 8\n",
      "8 * 2 = 16\n",
      "8 * 3 = 24\n",
      "8 * 4 = 32\n",
      "8 * 5 = 40\n",
      "8 * 6 = 48\n",
      "8 * 7 = 56\n",
      "8 * 8 = 64\n",
      "8 * 9 = 72\n",
      "8 * 10 = 80\n",
      "\t\n",
      "9 * 1 = 9\n",
      "9 * 2 = 18\n",
      "9 * 3 = 27\n",
      "9 * 4 = 36\n",
      "9 * 5 = 45\n",
      "9 * 6 = 54\n",
      "9 * 7 = 63\n",
      "9 * 8 = 72\n",
      "9 * 9 = 81\n",
      "9 * 10 = 90\n",
      "\t\n",
      "10 * 1 = 10\n",
      "10 * 2 = 20\n",
      "10 * 3 = 30\n",
      "10 * 4 = 40\n",
      "10 * 5 = 50\n",
      "10 * 6 = 60\n",
      "10 * 7 = 70\n",
      "10 * 8 = 80\n",
      "10 * 9 = 90\n",
      "10 * 10 = 100\n",
      "\t\n"
     ]
    }
   ],
   "source": [
    "for i in range(1,11):\n",
    "    for j in range(1,11):\n",
    "        print(f'{i} * {j} = {i * j}')\n",
    "    print('\\t')"
   ]
  },
  {
   "cell_type": "code",
   "execution_count": null,
   "id": "9b6f198c",
   "metadata": {},
   "outputs": [],
   "source": [
    "write a python code using for loop to find the values from 100 to 120"
   ]
  },
  {
   "cell_type": "code",
   "execution_count": 11,
   "id": "d4ed88f4",
   "metadata": {},
   "outputs": [],
   "source": [
    "list1 = []\n",
    "for i in range(100,120):\n",
    "    list1.append(i)"
   ]
  },
  {
   "cell_type": "code",
   "execution_count": 12,
   "id": "9d4b5bd7",
   "metadata": {},
   "outputs": [
    {
     "data": {
      "text/plain": [
       "[100,\n",
       " 101,\n",
       " 102,\n",
       " 103,\n",
       " 104,\n",
       " 105,\n",
       " 106,\n",
       " 107,\n",
       " 108,\n",
       " 109,\n",
       " 110,\n",
       " 111,\n",
       " 112,\n",
       " 113,\n",
       " 114,\n",
       " 115,\n",
       " 116,\n",
       " 117,\n",
       " 118,\n",
       " 119]"
      ]
     },
     "execution_count": 12,
     "metadata": {},
     "output_type": "execute_result"
    }
   ],
   "source": [
    "list1"
   ]
  },
  {
   "cell_type": "markdown",
   "id": "593ac736",
   "metadata": {},
   "source": [
    "# List Comprehension"
   ]
  },
  {
   "cell_type": "code",
   "execution_count": null,
   "id": "792151c1",
   "metadata": {},
   "outputs": [],
   "source": [
    "write a python code using for loop to find the values from 100 to 12"
   ]
  },
  {
   "cell_type": "code",
   "execution_count": null,
   "id": "4f961fb4",
   "metadata": {},
   "outputs": [],
   "source": [
    "list1 = []\n",
    "for i in range(100,120):\n",
    "    list1.append(i)"
   ]
  },
  {
   "cell_type": "code",
   "execution_count": 13,
   "id": "3c914f75",
   "metadata": {},
   "outputs": [
    {
     "data": {
      "text/plain": [
       "[100,\n",
       " 101,\n",
       " 102,\n",
       " 103,\n",
       " 104,\n",
       " 105,\n",
       " 106,\n",
       " 107,\n",
       " 108,\n",
       " 109,\n",
       " 110,\n",
       " 111,\n",
       " 112,\n",
       " 113,\n",
       " 114,\n",
       " 115,\n",
       " 116,\n",
       " 117,\n",
       " 118,\n",
       " 119]"
      ]
     },
     "execution_count": 13,
     "metadata": {},
     "output_type": "execute_result"
    }
   ],
   "source": [
    "[i for i in range(100,120)]"
   ]
  },
  {
   "cell_type": "code",
   "execution_count": 15,
   "id": "25e926a0",
   "metadata": {},
   "outputs": [],
   "source": [
    "list1 = []\n",
    "for i in range(100,120):\n",
    "    list1.append(i ** 2)     # squares"
   ]
  },
  {
   "cell_type": "code",
   "execution_count": 16,
   "id": "ebb55c02",
   "metadata": {},
   "outputs": [
    {
     "data": {
      "text/plain": [
       "[10000,\n",
       " 10201,\n",
       " 10404,\n",
       " 10609,\n",
       " 10816,\n",
       " 11025,\n",
       " 11236,\n",
       " 11449,\n",
       " 11664,\n",
       " 11881,\n",
       " 12100,\n",
       " 12321,\n",
       " 12544,\n",
       " 12769,\n",
       " 12996,\n",
       " 13225,\n",
       " 13456,\n",
       " 13689,\n",
       " 13924,\n",
       " 14161]"
      ]
     },
     "execution_count": 16,
     "metadata": {},
     "output_type": "execute_result"
    }
   ],
   "source": [
    "[i ** 2 for i in range(100,120)]"
   ]
  },
  {
   "cell_type": "code",
   "execution_count": 17,
   "id": "3cd9e7d7",
   "metadata": {},
   "outputs": [],
   "source": [
    "list1 = []\n",
    "for i in range(100,120):\n",
    "    list1.append(i ** 0.5)     # square root"
   ]
  },
  {
   "cell_type": "code",
   "execution_count": 18,
   "id": "01b29d47",
   "metadata": {},
   "outputs": [
    {
     "data": {
      "text/plain": [
       "[10.0,\n",
       " 10.04987562112089,\n",
       " 10.099504938362077,\n",
       " 10.14889156509222,\n",
       " 10.198039027185569,\n",
       " 10.246950765959598,\n",
       " 10.295630140987,\n",
       " 10.344080432788601,\n",
       " 10.392304845413264,\n",
       " 10.44030650891055,\n",
       " 10.488088481701515,\n",
       " 10.535653752852738,\n",
       " 10.583005244258363,\n",
       " 10.63014581273465,\n",
       " 10.677078252031311,\n",
       " 10.723805294763608,\n",
       " 10.770329614269007,\n",
       " 10.816653826391969,\n",
       " 10.862780491200215,\n",
       " 10.908712114635714]"
      ]
     },
     "execution_count": 18,
     "metadata": {},
     "output_type": "execute_result"
    }
   ],
   "source": [
    "[i ** 0.5 for i in range(100,120)]"
   ]
  },
  {
   "cell_type": "code",
   "execution_count": 24,
   "id": "77f6837a",
   "metadata": {},
   "outputs": [
    {
     "data": {
      "text/plain": [
       "'Innomatics Research Labs'"
      ]
     },
     "execution_count": 24,
     "metadata": {},
     "output_type": "execute_result"
    }
   ],
   "source": [
    " \"Innomatics Research Labs\""
   ]
  },
  {
   "cell_type": "code",
   "execution_count": 25,
   "id": "e0b5fc74",
   "metadata": {},
   "outputs": [
    {
     "data": {
      "text/plain": [
       "['I',\n",
       " 'n',\n",
       " 'n',\n",
       " 'o',\n",
       " 'm',\n",
       " 'a',\n",
       " 't',\n",
       " 'i',\n",
       " 'c',\n",
       " 's',\n",
       " ' ',\n",
       " 'R',\n",
       " 'e',\n",
       " 's',\n",
       " 'e',\n",
       " 'a',\n",
       " 'r',\n",
       " 'c',\n",
       " 'h',\n",
       " ' ',\n",
       " 'L',\n",
       " 'a',\n",
       " 'b',\n",
       " 's']"
      ]
     },
     "execution_count": 25,
     "metadata": {},
     "output_type": "execute_result"
    }
   ],
   "source": [
    "[i for i in \"Innomatics Research Labs\"]"
   ]
  },
  {
   "cell_type": "code",
   "execution_count": null,
   "id": "a5279e43",
   "metadata": {},
   "outputs": [],
   "source": [
    "find all even numbers from 20 to 50 using step"
   ]
  },
  {
   "cell_type": "code",
   "execution_count": 27,
   "id": "21c46922",
   "metadata": {},
   "outputs": [
    {
     "data": {
      "text/plain": [
       "[20, 22, 24, 26, 28, 30, 32, 34, 36, 38, 40, 42, 44, 46, 48, 50]"
      ]
     },
     "execution_count": 27,
     "metadata": {},
     "output_type": "execute_result"
    }
   ],
   "source": [
    "[i for i in range(20,51,2)] # finding even numbers using step "
   ]
  },
  {
   "cell_type": "code",
   "execution_count": 28,
   "id": "a687025d",
   "metadata": {},
   "outputs": [],
   "source": [
    "frnds = [\"varshu\",\"sourav\",\"rishi\",\"tanishka\",\"virat\"]"
   ]
  },
  {
   "cell_type": "code",
   "execution_count": 31,
   "id": "03ceb1ec",
   "metadata": {},
   "outputs": [
    {
     "data": {
      "text/plain": [
       "['varshu', 'sourav', 'rishi', 'tanishka', 'virat']"
      ]
     },
     "execution_count": 31,
     "metadata": {},
     "output_type": "execute_result"
    }
   ],
   "source": [
    "[i for i in frnds]"
   ]
  },
  {
   "cell_type": "code",
   "execution_count": 33,
   "id": "950358f9",
   "metadata": {},
   "outputs": [
    {
     "data": {
      "text/plain": [
       "['varshu is my best friend',\n",
       " 'sourav is my best friend',\n",
       " 'rishi is my best friend',\n",
       " 'tanishka is my best friend',\n",
       " 'virat is my best friend']"
      ]
     },
     "execution_count": 33,
     "metadata": {},
     "output_type": "execute_result"
    }
   ],
   "source": [
    "[i + \" is my best friend\" for i in frnds]"
   ]
  },
  {
   "cell_type": "markdown",
   "id": "e2e17c0a",
   "metadata": {},
   "source": [
    "# List Comprehension + Ternary OPerator"
   ]
  },
  {
   "cell_type": "code",
   "execution_count": 34,
   "id": "7fc1f3bf",
   "metadata": {},
   "outputs": [],
   "source": [
    "list3 = list(range(3,23))"
   ]
  },
  {
   "cell_type": "code",
   "execution_count": 36,
   "id": "27fe9413",
   "metadata": {},
   "outputs": [
    {
     "data": {
      "text/plain": [
       "[3, 4, 5, 6, 7, 8, 9, 10, 11, 12, 13, 14, 15, 16, 17, 18, 19, 20, 21, 22]"
      ]
     },
     "execution_count": 36,
     "metadata": {},
     "output_type": "execute_result"
    }
   ],
   "source": [
    "list3"
   ]
  },
  {
   "cell_type": "code",
   "execution_count": 35,
   "id": "0a1eaf59",
   "metadata": {},
   "outputs": [
    {
     "data": {
      "text/plain": [
       "[0, 0, 0, 0, 0, 0, 0, 0, 0, 0, 0, 0, 0, 0, 0, 0, 0, 0, 0, 0]"
      ]
     },
     "execution_count": 35,
     "metadata": {},
     "output_type": "execute_result"
    }
   ],
   "source": [
    "[i * 0 for i in list3]"
   ]
  },
  {
   "cell_type": "code",
   "execution_count": 39,
   "id": "fdb4091b",
   "metadata": {},
   "outputs": [
    {
     "name": "stdout",
     "output_type": "stream",
     "text": [
      "3\n",
      "6\n",
      "9\n",
      "12\n",
      "15\n",
      "18\n",
      "21\n"
     ]
    }
   ],
   "source": [
    "for i in list3:\n",
    "    if(i % 3 == 0):\n",
    "        print(i)"
   ]
  },
  {
   "cell_type": "code",
   "execution_count": 38,
   "id": "cfd167d6",
   "metadata": {},
   "outputs": [
    {
     "data": {
      "text/plain": [
       "[3, 6, 9, 12, 15, 18, 21]"
      ]
     },
     "execution_count": 38,
     "metadata": {},
     "output_type": "execute_result"
    }
   ],
   "source": [
    "[i  for i in list3 if (i % 3 == 0)]"
   ]
  },
  {
   "cell_type": "code",
   "execution_count": 53,
   "id": "b91934de",
   "metadata": {},
   "outputs": [],
   "source": [
    "a = ['a','e','i','o','u']\n",
    "name = \"innomatics research labs\""
   ]
  },
  {
   "cell_type": "code",
   "execution_count": 54,
   "id": "cb6e466c",
   "metadata": {},
   "outputs": [
    {
     "name": "stdout",
     "output_type": "stream",
     "text": [
      "n\n",
      "n\n",
      "m\n",
      "t\n",
      "c\n",
      "s\n",
      " \n",
      "r\n",
      "s\n",
      "r\n",
      "c\n",
      "h\n",
      " \n",
      "l\n",
      "b\n",
      "s\n"
     ]
    }
   ],
   "source": [
    "for i in name:\n",
    "    if i not in a:\n",
    "        print(i)"
   ]
  },
  {
   "cell_type": "code",
   "execution_count": 55,
   "id": "bcefb31a",
   "metadata": {},
   "outputs": [
    {
     "data": {
      "text/plain": [
       "['a', 'e', 'i', 'o', 'u']"
      ]
     },
     "execution_count": 55,
     "metadata": {},
     "output_type": "execute_result"
    }
   ],
   "source": [
    "a"
   ]
  },
  {
   "cell_type": "code",
   "execution_count": 56,
   "id": "a0077810",
   "metadata": {},
   "outputs": [
    {
     "data": {
      "text/plain": [
       "'innomatics research labs'"
      ]
     },
     "execution_count": 56,
     "metadata": {},
     "output_type": "execute_result"
    }
   ],
   "source": [
    "name"
   ]
  },
  {
   "cell_type": "code",
   "execution_count": 57,
   "id": "dd5f7def",
   "metadata": {},
   "outputs": [
    {
     "data": {
      "text/plain": [
       "['n',\n",
       " 'n',\n",
       " 'm',\n",
       " 't',\n",
       " 'c',\n",
       " 's',\n",
       " ' ',\n",
       " 'r',\n",
       " 's',\n",
       " 'r',\n",
       " 'c',\n",
       " 'h',\n",
       " ' ',\n",
       " 'l',\n",
       " 'b',\n",
       " 's']"
      ]
     },
     "execution_count": 57,
     "metadata": {},
     "output_type": "execute_result"
    }
   ],
   "source": [
    "[i for i in name if i not in a] # by using list comprehension method"
   ]
  },
  {
   "cell_type": "code",
   "execution_count": 59,
   "id": "2e000e99",
   "metadata": {},
   "outputs": [],
   "source": [
    "a = ['a','e','i','o','u']\n",
    "name = \"virat is inspiration to many young cricketers\""
   ]
  },
  {
   "cell_type": "code",
   "execution_count": 60,
   "id": "a3fedbb3",
   "metadata": {},
   "outputs": [
    {
     "data": {
      "text/plain": [
       "['v',\n",
       " 'r',\n",
       " 't',\n",
       " ' ',\n",
       " 's',\n",
       " ' ',\n",
       " 'n',\n",
       " 's',\n",
       " 'p',\n",
       " 'r',\n",
       " 't',\n",
       " 'n',\n",
       " ' ',\n",
       " 't',\n",
       " ' ',\n",
       " 'm',\n",
       " 'n',\n",
       " 'y',\n",
       " ' ',\n",
       " 'y',\n",
       " 'n',\n",
       " 'g',\n",
       " ' ',\n",
       " 'c',\n",
       " 'r',\n",
       " 'c',\n",
       " 'k',\n",
       " 't',\n",
       " 'r',\n",
       " 's']"
      ]
     },
     "execution_count": 60,
     "metadata": {},
     "output_type": "execute_result"
    }
   ],
   "source": [
    "[i for i in name if i not in a] "
   ]
  },
  {
   "cell_type": "code",
   "execution_count": 62,
   "id": "296b5491",
   "metadata": {},
   "outputs": [
    {
     "data": {
      "text/plain": [
       "['i', 'a', 'i', 'i', 'i', 'a', 'i', 'o', 'o', 'a', 'o', 'u', 'i', 'e', 'e']"
      ]
     },
     "execution_count": 62,
     "metadata": {},
     "output_type": "execute_result"
    }
   ],
   "source": [
    "[i for i in name if i  in a] "
   ]
  },
  {
   "cell_type": "code",
   "execution_count": null,
   "id": "454fe70b",
   "metadata": {},
   "outputs": [],
   "source": [
    "find the odd numbers from 500 to 550 without using step but using list comprehension"
   ]
  },
  {
   "cell_type": "code",
   "execution_count": 63,
   "id": "fab64513",
   "metadata": {},
   "outputs": [],
   "source": [
    "list2 = list(range(500,550))"
   ]
  },
  {
   "cell_type": "code",
   "execution_count": 72,
   "id": "e118b746",
   "metadata": {},
   "outputs": [
    {
     "data": {
      "text/plain": [
       "[501,\n",
       " 503,\n",
       " 505,\n",
       " 507,\n",
       " 509,\n",
       " 511,\n",
       " 513,\n",
       " 515,\n",
       " 517,\n",
       " 519,\n",
       " 521,\n",
       " 523,\n",
       " 525,\n",
       " 527,\n",
       " 529,\n",
       " 531,\n",
       " 533,\n",
       " 535,\n",
       " 537,\n",
       " 539,\n",
       " 541,\n",
       " 543,\n",
       " 545,\n",
       " 547,\n",
       " 549]"
      ]
     },
     "execution_count": 72,
     "metadata": {},
     "output_type": "execute_result"
    }
   ],
   "source": [
    "[i  for i in list2 if (i %2 == 1)]  #odd "
   ]
  },
  {
   "cell_type": "code",
   "execution_count": null,
   "id": "84a4d1b6",
   "metadata": {},
   "outputs": [],
   "source": [
    "create a list of a-z  using list comprehension"
   ]
  },
  {
   "cell_type": "code",
   "execution_count": 84,
   "id": "4f50f271",
   "metadata": {},
   "outputs": [
    {
     "data": {
      "text/plain": [
       "['a',\n",
       " 'b',\n",
       " 'c',\n",
       " 'd',\n",
       " 'e',\n",
       " 'f',\n",
       " 'g',\n",
       " 'h',\n",
       " 'i',\n",
       " 'j',\n",
       " 'k',\n",
       " 'l',\n",
       " 'm',\n",
       " 'n',\n",
       " 'o',\n",
       " 'p',\n",
       " 'q',\n",
       " 'r',\n",
       " 's',\n",
       " 't',\n",
       " 'u',\n",
       " 'v',\n",
       " 'w',\n",
       " 'x',\n",
       " 'y',\n",
       " 'z']"
      ]
     },
     "execution_count": 84,
     "metadata": {},
     "output_type": "execute_result"
    }
   ],
   "source": [
    "[chr(97+i) for i in range(0,26)] #by using list comprehension"
   ]
  },
  {
   "cell_type": "markdown",
   "id": "b309b756",
   "metadata": {},
   "source": [
    "# Pattern Programming"
   ]
  },
  {
   "cell_type": "code",
   "execution_count": 87,
   "id": "d11b73b4",
   "metadata": {},
   "outputs": [
    {
     "name": "stdout",
     "output_type": "stream",
     "text": [
      " * \n",
      " *  * \n",
      " *  *  * \n",
      " *  *  *  * \n",
      " *  *  *  *  * \n",
      " *  *  *  *  *  * \n",
      " *  *  *  *  *  *  * \n",
      " *  *  *  *  *  *  *  * \n",
      " *  *  *  *  *  *  *  *  * \n"
     ]
    }
   ],
   "source": [
    "for i in range(1,10):\n",
    "    print(\" * \" * i)"
   ]
  },
  {
   "cell_type": "code",
   "execution_count": 89,
   "id": "595608c2",
   "metadata": {},
   "outputs": [
    {
     "name": "stdout",
     "output_type": "stream",
     "text": [
      " 1\n",
      " 1 1\n",
      " 1 1 1\n",
      " 1 1 1 1\n",
      " 1 1 1 1 1\n",
      " 1 1 1 1 1 1\n",
      " 1 1 1 1 1 1 1\n",
      " 1 1 1 1 1 1 1 1\n",
      " 1 1 1 1 1 1 1 1 1\n"
     ]
    }
   ],
   "source": [
    "for i in range(1,10):\n",
    "    print(\" 1\" * i)"
   ]
  },
  {
   "cell_type": "code",
   "execution_count": 95,
   "id": "34f203b8",
   "metadata": {},
   "outputs": [
    {
     "name": "stdout",
     "output_type": "stream",
     "text": [
      " 1\n",
      " 2 2\n",
      " 3 3 3\n",
      " 4 4 4 4\n",
      " 5 5 5 5 5\n",
      " 6 6 6 6 6 6\n",
      " 7 7 7 7 7 7 7\n",
      " 8 8 8 8 8 8 8 8\n",
      " 9 9 9 9 9 9 9 9 9\n"
     ]
    }
   ],
   "source": [
    "for i in range(1,10):\n",
    "    print(f\" {i}\" * i)"
   ]
  },
  {
   "cell_type": "code",
   "execution_count": 99,
   "id": "9fe5bd78",
   "metadata": {},
   "outputs": [
    {
     "name": "stdout",
     "output_type": "stream",
     "text": [
      " *  *  *  *  *  *  *  *  *  * \n",
      " *  *  *  *  *  *  *  *  * \n",
      " *  *  *  *  *  *  *  * \n",
      " *  *  *  *  *  *  * \n",
      " *  *  *  *  *  * \n",
      " *  *  *  *  * \n",
      " *  *  *  * \n",
      " *  *  * \n",
      " *  * \n",
      " * \n"
     ]
    }
   ],
   "source": [
    "for i in range(10,0,-1):\n",
    "    print(\" * \" * i)               #reversing"
   ]
  },
  {
   "cell_type": "code",
   "execution_count": 105,
   "id": "7f20bdff",
   "metadata": {},
   "outputs": [
    {
     "name": "stdout",
     "output_type": "stream",
     "text": [
      "10 10 10 10 10 10 10 10 10 10 \n",
      "9 9 9 9 9 9 9 9 9 \n",
      "8 8 8 8 8 8 8 8 \n",
      "7 7 7 7 7 7 7 \n",
      "6 6 6 6 6 6 \n",
      "5 5 5 5 5 \n",
      "4 4 4 4 \n",
      "3 3 3 \n",
      "2 2 \n",
      "1 \n"
     ]
    }
   ],
   "source": [
    "for i in range(10,0,-1):\n",
    "    print(f\"{i} \" * i)"
   ]
  },
  {
   "cell_type": "code",
   "execution_count": 109,
   "id": "517be1e1",
   "metadata": {},
   "outputs": [
    {
     "name": "stdout",
     "output_type": "stream",
     "text": [
      "enter the no. of rows ::8\n",
      " *\n",
      " * *\n",
      " * * *\n",
      " * * * *\n",
      " * * * * *\n",
      " * * * * * *\n",
      " * * * * * * *\n",
      " * * * * * * * *\n"
     ]
    }
   ],
   "source": [
    "n = int(input(\"enter the no. of rows ::\"))\n",
    "for i in range(1,n+1):\n",
    "    print(\" *\" * i)  "
   ]
  },
  {
   "cell_type": "code",
   "execution_count": 113,
   "id": "9754997b",
   "metadata": {},
   "outputs": [
    {
     "name": "stdout",
     "output_type": "stream",
     "text": [
      "       * \n",
      "      *  * \n",
      "     *  *  * \n",
      "    *  *  *  * \n",
      "   *  *  *  *  * \n",
      "  *  *  *  *  *  * \n"
     ]
    }
   ],
   "source": [
    "n = 7\n",
    "for i in range(1,n):\n",
    "    print(\" \" * (n-i) +' * ' * i)  "
   ]
  },
  {
   "cell_type": "code",
   "execution_count": 144,
   "id": "184840d1",
   "metadata": {},
   "outputs": [
    {
     "name": "stdout",
     "output_type": "stream",
     "text": [
      " * * * * * * *\n",
      "  * * * * * *\n",
      "   * * * * *\n",
      "    * * * *\n",
      "     * * *\n",
      "      * *\n",
      "       *\n"
     ]
    }
   ],
   "source": [
    "n = 7\n",
    "for i in range(n,0,-1):\n",
    "    print(\" \" * (n-i) + ' *' * i)  \n",
    "  "
   ]
  },
  {
   "cell_type": "code",
   "execution_count": 127,
   "id": "cb0dda43",
   "metadata": {},
   "outputs": [
    {
     "name": "stdout",
     "output_type": "stream",
     "text": [
      "       *\n",
      "      * *\n",
      "     * * *\n",
      "    * * * *\n",
      "   * * * * *\n",
      "  * * * * * *\n",
      " * * * * * * *\n",
      "  * * * * * *\n",
      "   * * * * *\n",
      "    * * * *\n",
      "     * * *\n",
      "      * *\n",
      "       *\n"
     ]
    }
   ],
   "source": [
    "n = 7\n",
    "for i in range(1,n):\n",
    "    print(\" \" *(n-i) +' *'* i)  \n",
    "for i in range(n,0,-1):\n",
    "    print(\" \" *(n-i) +' *'* i)  \n",
    "  "
   ]
  },
  {
   "cell_type": "code",
   "execution_count": 126,
   "id": "27ba0d80",
   "metadata": {},
   "outputs": [
    {
     "name": "stdout",
     "output_type": "stream",
     "text": [
      "       1\n",
      "      1 1\n",
      "     1 1 1\n",
      "    1 1 1 1\n",
      "   1 1 1 1 1\n",
      "  1 1 1 1 1 1\n",
      " 2 2 2 2 2 2 2\n",
      "  2 2 2 2 2 2\n",
      "   2 2 2 2 2\n",
      "    2 2 2 2\n",
      "     2 2 2\n",
      "      2 2\n",
      "       2\n"
     ]
    }
   ],
   "source": [
    "n = 7\n",
    "for i in range(1,n):\n",
    "    print(\" \" *(n-i) +' 1'* i)  \n",
    "for i in range(n,0,-1):\n",
    "    print(\" \" * (n-i) +' 2' * i)  \n",
    "\n",
    "  "
   ]
  },
  {
   "cell_type": "code",
   "execution_count": 129,
   "id": "8506b93d",
   "metadata": {},
   "outputs": [
    {
     "name": "stdout",
     "output_type": "stream",
     "text": [
      "* * * * * * * * * * \n",
      "* * * * * * * * * * \n",
      "* * * * * * * * * * \n",
      "* * * * * * * * * * \n",
      "* * * * * * * * * * \n",
      "* * * * * * * * * * \n",
      "* * * * * * * * * * \n",
      "* * * * * * * * * * \n",
      "* * * * * * * * * * \n",
      "* * * * * * * * * * \n"
     ]
    }
   ],
   "source": [
    "for i in range(1,11):\n",
    "    print('* '*10)"
   ]
  },
  {
   "cell_type": "code",
   "execution_count": 132,
   "id": "e4315e01",
   "metadata": {},
   "outputs": [
    {
     "name": "stdout",
     "output_type": "stream",
     "text": [
      "* * * * * \n",
      "* * * * * \n",
      "* * * * * \n",
      "* * * * * \n",
      "* * * * * \n"
     ]
    }
   ],
   "source": [
    "for i in range(1,6):\n",
    "    print(\"* \" * 5)                 # to print the below output"
   ]
  },
  {
   "cell_type": "code",
   "execution_count": 134,
   "id": "82a4dd0f",
   "metadata": {},
   "outputs": [
    {
     "name": "stdout",
     "output_type": "stream",
     "text": [
      " 1 1 1 1 1\n",
      " 2 2 2 2 2\n",
      " 3 3 3 3 3\n",
      " 4 4 4 4 4\n",
      " 5 5 5 5 5\n"
     ]
    }
   ],
   "source": [
    "for i in range(1,6):\n",
    "    print(f' {i}' * 5)"
   ]
  },
  {
   "cell_type": "code",
   "execution_count": 167,
   "id": "54630172",
   "metadata": {},
   "outputs": [
    {
     "name": "stdout",
     "output_type": "stream",
     "text": [
      " A\n",
      " B B\n",
      " C C C\n",
      " D D D D\n",
      " E E E E E\n"
     ]
    }
   ],
   "source": [
    "for i in range(1,6):\n",
    "    print(f' {chr( 64 + i)}' * i)"
   ]
  },
  {
   "cell_type": "code",
   "execution_count": 145,
   "id": "ecb95eb3",
   "metadata": {},
   "outputs": [
    {
     "name": "stdout",
     "output_type": "stream",
     "text": [
      "*      \n",
      "* *     \n",
      "* * *    \n",
      "* * * *   \n",
      "* * * * *  \n"
     ]
    }
   ],
   "source": [
    "n = 6\n",
    "for i in range(1,n):\n",
    "    print(\"* \" * i + ' '*(n-i))"
   ]
  },
  {
   "cell_type": "code",
   "execution_count": 152,
   "id": "f52c07a6",
   "metadata": {},
   "outputs": [
    {
     "name": "stdout",
     "output_type": "stream",
     "text": [
      " 1\n",
      " 2 2\n",
      " 3 3 3\n",
      " 4 4 4 4\n",
      " 5 5 5 5 5\n"
     ]
    }
   ],
   "source": [
    "n = 6\n",
    "for i in range(1,6):\n",
    "    print(f' {i}' * i)"
   ]
  },
  {
   "cell_type": "code",
   "execution_count": 162,
   "id": "004de4fe",
   "metadata": {},
   "outputs": [
    {
     "name": "stdout",
     "output_type": "stream",
     "text": [
      " G\n",
      " H H\n",
      " I I I\n",
      " J J J J\n",
      " K K K K K\n"
     ]
    }
   ],
   "source": [
    "n = 6\n",
    "for i in range(1,6):\n",
    "    print(f' { chr(70 + i)}' * i)"
   ]
  },
  {
   "cell_type": "code",
   "execution_count": 163,
   "id": "23c4f9fc",
   "metadata": {},
   "outputs": [
    {
     "name": "stdout",
     "output_type": "stream",
     "text": [
      " A\n",
      " B B\n",
      " C C C\n",
      " D D D D\n",
      " E E E E E\n"
     ]
    }
   ],
   "source": [
    "n = 6\n",
    "for i in range(1,6):\n",
    "    print(f' { chr(64 + i)}' * i) # upper case"
   ]
  },
  {
   "cell_type": "code",
   "execution_count": 164,
   "id": "c2076326",
   "metadata": {},
   "outputs": [
    {
     "name": "stdout",
     "output_type": "stream",
     "text": [
      " a\n",
      " b b\n",
      " c c c\n",
      " d d d d\n",
      " e e e e e\n"
     ]
    }
   ],
   "source": [
    "n = 6\n",
    "for i in range(1,6):\n",
    "    print(f' { chr(96 + i)}' * i)  # lower case"
   ]
  },
  {
   "cell_type": "code",
   "execution_count": 168,
   "id": "4dd397ff",
   "metadata": {},
   "outputs": [
    {
     "name": "stdout",
     "output_type": "stream",
     "text": [
      "a \n",
      "b b \n",
      "c c c \n",
      "d d d d \n",
      "e e e e e \n"
     ]
    }
   ],
   "source": [
    "for i in range(1,6):\n",
    "    print( (chr(96 + i)+' ') * i)  # lower case"
   ]
  },
  {
   "cell_type": "markdown",
   "id": "54d3b64b",
   "metadata": {},
   "source": [
    "# While Loop"
   ]
  },
  {
   "cell_type": "markdown",
   "id": "167517ef",
   "metadata": {},
   "source": [
    "syntax for while loop :\n",
    "    \n",
    "    while condition:\n",
    "        \n",
    "        #block of code"
   ]
  },
  {
   "cell_type": "markdown",
   "id": "ceb0b870",
   "metadata": {},
   "source": [
    "1. if the condition is true it will enter into block of code\n",
    " \n",
    "2. it is uncontrollable action means it repeats n no. of times \n",
    "\n",
    "3. by default the condition is true\n",
    "\n",
    "4. to make it controllable we have to make the condition false ,it to come out of the loop or else it will repeated infinite times "
   ]
  },
  {
   "cell_type": "code",
   "execution_count": 169,
   "id": "2a41b87f",
   "metadata": {},
   "outputs": [
    {
     "name": "stdout",
     "output_type": "stream",
     "text": [
      "Hello\n",
      "Hello\n",
      "Hello\n",
      "Hello\n",
      "Hello\n"
     ]
    }
   ],
   "source": [
    "a = 10\n",
    "while a > 5:\n",
    "    print(\"Hello\")\n",
    "    a = a -1"
   ]
  },
  {
   "cell_type": "code",
   "execution_count": 170,
   "id": "23c9ddc7",
   "metadata": {},
   "outputs": [],
   "source": [
    "#generate 1 to 20 numbers using for loop and while loop"
   ]
  },
  {
   "cell_type": "code",
   "execution_count": 173,
   "id": "85aa2173",
   "metadata": {},
   "outputs": [
    {
     "name": "stdout",
     "output_type": "stream",
     "text": [
      "1\n",
      "2\n",
      "3\n",
      "4\n",
      "5\n",
      "6\n",
      "7\n",
      "8\n",
      "9\n",
      "10\n",
      "11\n",
      "12\n",
      "13\n",
      "14\n",
      "15\n",
      "16\n",
      "17\n",
      "18\n",
      "19\n",
      "20\n"
     ]
    }
   ],
   "source": [
    "for i in range(1,21):\n",
    "    print(i)"
   ]
  },
  {
   "cell_type": "code",
   "execution_count": 171,
   "id": "e1d6fc64",
   "metadata": {},
   "outputs": [
    {
     "name": "stdout",
     "output_type": "stream",
     "text": [
      "1\n",
      "2\n",
      "3\n",
      "4\n",
      "5\n",
      "6\n",
      "7\n",
      "8\n",
      "9\n",
      "10\n",
      "11\n",
      "12\n",
      "13\n",
      "14\n",
      "15\n",
      "16\n",
      "17\n",
      "18\n",
      "19\n",
      "20\n"
     ]
    }
   ],
   "source": [
    "a = 1\n",
    "\n",
    "while a <=20:\n",
    "    print(a)\n",
    "    a = a + 1\n",
    "    "
   ]
  },
  {
   "cell_type": "code",
   "execution_count": 174,
   "id": "4031f23d",
   "metadata": {},
   "outputs": [],
   "source": [
    "#print the numbers from 10 t0 1 in reverse order using for loop and while loop"
   ]
  },
  {
   "cell_type": "code",
   "execution_count": 185,
   "id": "52484b76",
   "metadata": {},
   "outputs": [
    {
     "name": "stdout",
     "output_type": "stream",
     "text": [
      "10\n",
      "9\n",
      "8\n",
      "7\n",
      "6\n",
      "5\n",
      "4\n",
      "3\n",
      "2\n",
      "1\n"
     ]
    }
   ],
   "source": [
    "for i in range(10,0,-1):\n",
    "    print(i)"
   ]
  },
  {
   "cell_type": "code",
   "execution_count": 186,
   "id": "39fb5a01",
   "metadata": {},
   "outputs": [
    {
     "name": "stdout",
     "output_type": "stream",
     "text": [
      "10\n",
      "9\n",
      "8\n",
      "7\n",
      "6\n",
      "5\n",
      "4\n",
      "3\n",
      "2\n",
      "1\n",
      "0\n"
     ]
    }
   ],
   "source": [
    "a = 10\n",
    "\n",
    "while a >= 0:\n",
    "    print(a)\n",
    "    a = a -1"
   ]
  },
  {
   "cell_type": "code",
   "execution_count": 187,
   "id": "28cf1b41",
   "metadata": {},
   "outputs": [],
   "source": [
    "# print A to Z using for loop and while loop"
   ]
  },
  {
   "cell_type": "code",
   "execution_count": 194,
   "id": "8f0584c3",
   "metadata": {},
   "outputs": [
    {
     "data": {
      "text/plain": [
       "['A',\n",
       " 'B',\n",
       " 'C',\n",
       " 'D',\n",
       " 'E',\n",
       " 'F',\n",
       " 'G',\n",
       " 'H',\n",
       " 'I',\n",
       " 'J',\n",
       " 'K',\n",
       " 'L',\n",
       " 'M',\n",
       " 'N',\n",
       " 'O',\n",
       " 'P',\n",
       " 'Q',\n",
       " 'R',\n",
       " 'S',\n",
       " 'T',\n",
       " 'U',\n",
       " 'V',\n",
       " 'W',\n",
       " 'X',\n",
       " 'Y',\n",
       " 'Z']"
      ]
     },
     "execution_count": 194,
     "metadata": {},
     "output_type": "execute_result"
    }
   ],
   "source": [
    "[chr(65+i) for i in range(0,26)]     "
   ]
  },
  {
   "cell_type": "code",
   "execution_count": 199,
   "id": "35263a0e",
   "metadata": {},
   "outputs": [
    {
     "name": "stdout",
     "output_type": "stream",
     "text": [
      "A\n",
      "B\n",
      "C\n",
      "D\n",
      "E\n",
      "F\n",
      "G\n",
      "H\n",
      "I\n",
      "J\n",
      "K\n",
      "L\n",
      "M\n",
      "N\n",
      "O\n",
      "P\n",
      "Q\n",
      "R\n",
      "S\n",
      "T\n",
      "U\n",
      "V\n",
      "W\n",
      "X\n",
      "Y\n",
      "Z\n"
     ]
    }
   ],
   "source": [
    "a = 1\n",
    "\n",
    "while a <= 26:\n",
    "    print(chr(64+a))\n",
    "    a = a+1"
   ]
  },
  {
   "cell_type": "code",
   "execution_count": 3,
   "id": "64ee060f",
   "metadata": {},
   "outputs": [],
   "source": [
    "# Guessing the Number Game"
   ]
  },
  {
   "cell_type": "code",
   "execution_count": 4,
   "id": "3c14dfd2",
   "metadata": {},
   "outputs": [
    {
     "name": "stdout",
     "output_type": "stream",
     "text": [
      "Guess the number : 5\n",
      "you have 2 attempts only\n",
      "Guess the number : 7\n",
      "you have 1 attempts only\n",
      "Guess the number : 8\n",
      "you have 0 attempts only\n",
      "You lost the game\n"
     ]
    }
   ],
   "source": [
    "import random\n",
    "num = random.randint(0,10)\n",
    "\n",
    "attempts = 3\n",
    "\n",
    "while attempts > 0:\n",
    "    user = int(input(\"Guess the number : \"))\n",
    "    if user == num:\n",
    "        print(\"You won the game\")\n",
    "    else:\n",
    "        attempts = attempts -1\n",
    "        print(f\"you have {attempts} attempts only\")\n",
    "        if attempts == 0:\n",
    "             print(\"You lost the game\")"
   ]
  },
  {
   "cell_type": "code",
   "execution_count": 5,
   "id": "ed466743",
   "metadata": {},
   "outputs": [
    {
     "name": "stdout",
     "output_type": "stream",
     "text": [
      "Guess the number : 4\n",
      "you have 2 attempts only\n",
      "Guess the number : 3\n",
      "You won the game\n"
     ]
    }
   ],
   "source": [
    "import random\n",
    "num = random.randint(0,10)\n",
    "\n",
    "attempts = 3\n",
    "\n",
    "while attempts > 0:\n",
    "    user = int(input(\"Guess the number : \"))\n",
    "    if user == num:\n",
    "        print(\"You won the game\")\n",
    "        break\n",
    "    else:\n",
    "        attempts = attempts -1\n",
    "        print(f\"you have {attempts} attempts only\")\n",
    "        if attempts == 0:\n",
    "             print(\"You lost the game\")\n",
    "                "
   ]
  },
  {
   "cell_type": "markdown",
   "id": "328eb556",
   "metadata": {},
   "source": [
    "# factorial"
   ]
  },
  {
   "cell_type": "code",
   "execution_count": 6,
   "id": "8ef8e528",
   "metadata": {},
   "outputs": [],
   "source": [
    "# Find factorial of a given number using while loop"
   ]
  },
  {
   "cell_type": "code",
   "execution_count": 7,
   "id": "19fb0d9f",
   "metadata": {},
   "outputs": [
    {
     "name": "stdout",
     "output_type": "stream",
     "text": [
      "enter a number to find factorial :: 6\n",
      "720\n"
     ]
    }
   ],
   "source": [
    "n = int(input(\"enter a number to find factorial :: \"))\n",
    "fact = 1\n",
    "while n > 0:\n",
    "    fact = fact * n\n",
    "    n = n - 1\n",
    "print(fact)"
   ]
  },
  {
   "cell_type": "code",
   "execution_count": 8,
   "id": "5b302f4c",
   "metadata": {},
   "outputs": [
    {
     "name": "stdout",
     "output_type": "stream",
     "text": [
      "enter a number to find the factorial :: -5\n",
      "enter a positive number only \n"
     ]
    }
   ],
   "source": [
    "n = int(input(\"enter a number to find the factorial :: \"))\n",
    "fact = 1\n",
    "if n > 0:\n",
    "    while n> 0:\n",
    "        fact = fact * n\n",
    "        n = n - 1\n",
    "    print(fact) \n",
    "else:\n",
    "    print(\"enter a positive number only \")"
   ]
  },
  {
   "cell_type": "markdown",
   "id": "c95eb254",
   "metadata": {},
   "source": [
    "# Palindrome"
   ]
  },
  {
   "cell_type": "code",
   "execution_count": 12,
   "id": "e385417d",
   "metadata": {},
   "outputs": [
    {
     "name": "stdout",
     "output_type": "stream",
     "text": [
      "enter a name:: 1881\n",
      "It is a palindrome\n"
     ]
    }
   ],
   "source": [
    "name = (input(\"enter a name:: \"))\n",
    "\n",
    "while name:\n",
    "    \n",
    "    if name == name [::-1]:\n",
    "        print(\"It is a palindrome\")      #here instead of 0 we can use 0.0,0,false\n",
    "        name = 0\n",
    "    else: \n",
    "        print(\"It is not a palindrome\")\n",
    "        name = ''"
   ]
  },
  {
   "cell_type": "code",
   "execution_count": 13,
   "id": "786688e5",
   "metadata": {},
   "outputs": [
    {
     "name": "stdout",
     "output_type": "stream",
     "text": [
      "enter a name:: sourav\n",
      "It is not a palindrome\n"
     ]
    }
   ],
   "source": [
    "name = (input(\"enter a name:: \"))\n",
    "\n",
    "while name:\n",
    "    \n",
    "    if name == name [::-1]:\n",
    "        print(\"It is a palindrome\")      #here instead of 0 we can use 0.0,0,false\n",
    "        name = 0\n",
    "    else: \n",
    "        print(\"It is not a palindrome\")\n",
    "        name = ''"
   ]
  },
  {
   "cell_type": "code",
   "execution_count": 14,
   "id": "0c562785",
   "metadata": {},
   "outputs": [],
   "source": [
    "# reverse indexing"
   ]
  },
  {
   "cell_type": "code",
   "execution_count": 19,
   "id": "991d715c",
   "metadata": {},
   "outputs": [
    {
     "name": "stdout",
     "output_type": "stream",
     "text": [
      "enter a name::hello\n",
      "o\n",
      "l\n",
      "l\n",
      "e\n",
      "h\n"
     ]
    }
   ],
   "source": [
    "inst = input(\"enter a name::\")\n",
    "\n",
    "for i in range(-1,-len(inst)-1,-1):\n",
    "    print(inst[i])"
   ]
  },
  {
   "cell_type": "code",
   "execution_count": 20,
   "id": "38cee51e",
   "metadata": {},
   "outputs": [],
   "source": [
    "# forward slicing"
   ]
  },
  {
   "cell_type": "code",
   "execution_count": 27,
   "id": "3a2d22aa",
   "metadata": {},
   "outputs": [
    {
     "name": "stdout",
     "output_type": "stream",
     "text": [
      "enter a name :: virat\n",
      "t\n",
      "a\n",
      "r\n",
      "i\n",
      "v\n"
     ]
    }
   ],
   "source": [
    "inst = input(\"enter a name :: \")\n",
    "\n",
    "for i in range(len(inst)-1,-1,-1):\n",
    "    print(inst[i])"
   ]
  },
  {
   "cell_type": "code",
   "execution_count": 28,
   "id": "e2b4b8a1",
   "metadata": {},
   "outputs": [
    {
     "name": "stdout",
     "output_type": "stream",
     "text": [
      "enter a name ::akshitha\n",
      "a\n",
      "h\n",
      "t\n",
      "i\n",
      "h\n",
      "s\n",
      "k\n",
      "a\n"
     ]
    }
   ],
   "source": [
    "name = input(\"enter a name ::\")\n",
    "\n",
    "index = len(name)\n",
    "\n",
    "while index >= 1:\n",
    "    print(name[index - 1])\n",
    "    index = index - 1"
   ]
  },
  {
   "cell_type": "code",
   "execution_count": 29,
   "id": "8dd79e4f",
   "metadata": {},
   "outputs": [],
   "source": [
    "# find the no. of vowels and cons in given input using while loop"
   ]
  },
  {
   "cell_type": "code",
   "execution_count": 38,
   "id": "aa86cf5c",
   "metadata": {},
   "outputs": [
    {
     "name": "stdout",
     "output_type": "stream",
     "text": [
      "enter a name :: viratkohli\n",
      "vowels are 4\n",
      "consonants are 6\n"
     ]
    }
   ],
   "source": [
    "var = input(\"enter a name :: \")\n",
    "vowels = (\"a\",\"e\",\"i\",\"o\",\"u\",'A','E','I','O','U')\n",
    " \n",
    "ov = 0\n",
    "con = 0\n",
    "\n",
    "while var :\n",
    "    \n",
    "    for i in var:\n",
    "        \n",
    "        if i in vowels:\n",
    "            ov = ov + 1\n",
    "        else:\n",
    "            con = con + 1\n",
    "            \n",
    "    break\n",
    "print(\"vowels are\", ov)\n",
    "print(\"consonants are\", con)"
   ]
  },
  {
   "cell_type": "code",
   "execution_count": 32,
   "id": "08a0e990",
   "metadata": {},
   "outputs": [
    {
     "name": "stdout",
     "output_type": "stream",
     "text": [
      " vowels are {4}\n",
      " consonants are {6}\n"
     ]
    }
   ],
   "source": [
    "print(f\" vowels are\", {ov})\n",
    "print(f\" consonants are\",{con})\n"
   ]
  },
  {
   "cell_type": "markdown",
   "id": "9c6e55cc",
   "metadata": {},
   "source": [
    "# Transfer statements"
   ]
  },
  {
   "cell_type": "markdown",
   "id": "9c26e7ab",
   "metadata": {},
   "source": [
    "1. break -----it stops the execution and comes out or exits from the loop\n",
    "\n",
    "2. continue ------ skips the current iteration/value\n",
    "\n",
    "3. pass ----- nothing / none"
   ]
  },
  {
   "cell_type": "markdown",
   "id": "a5f54662",
   "metadata": {},
   "source": [
    "# 1.break -----it stops the execution and comes out or exits from the loop"
   ]
  },
  {
   "cell_type": "code",
   "execution_count": 33,
   "id": "a9047d81",
   "metadata": {},
   "outputs": [],
   "source": [
    "price = [100,500,1000,1500,2000,5000,6000,70000,8000]"
   ]
  },
  {
   "cell_type": "code",
   "execution_count": 34,
   "id": "ebeaa817",
   "metadata": {},
   "outputs": [
    {
     "name": "stdout",
     "output_type": "stream",
     "text": [
      "100\n",
      "500\n",
      "1000\n",
      "1500\n",
      "2000\n",
      "5000\n"
     ]
    }
   ],
   "source": [
    "for i in price:\n",
    "    if i <= 5000:\n",
    "        print(i)\n",
    "    else:\n",
    "        break"
   ]
  },
  {
   "cell_type": "code",
   "execution_count": 36,
   "id": "a35d0492",
   "metadata": {},
   "outputs": [
    {
     "name": "stdout",
     "output_type": "stream",
     "text": [
      "1\n",
      "2\n",
      "3\n",
      "4\n",
      "5\n",
      "6\n",
      "7\n",
      "8\n",
      "9\n",
      "10\n",
      "11\n",
      "12\n",
      "13\n",
      "14\n",
      "15\n",
      "16\n",
      "17\n",
      "18\n",
      "19\n",
      "20\n"
     ]
    }
   ],
   "source": [
    "for i in range(1,100):\n",
    "    if i <= 20:\n",
    "        print(i)\n",
    "    else:\n",
    "        break"
   ]
  },
  {
   "cell_type": "markdown",
   "id": "ce11c8ab",
   "metadata": {},
   "source": [
    "# 2.continue ------ skips the current iteration/value"
   ]
  },
  {
   "cell_type": "code",
   "execution_count": 53,
   "id": "2f6de41d",
   "metadata": {},
   "outputs": [],
   "source": [
    "price = [100,1000,500,1500,6000,5000,2000,7000]"
   ]
  },
  {
   "cell_type": "code",
   "execution_count": 54,
   "id": "689e0e04",
   "metadata": {},
   "outputs": [
    {
     "name": "stdout",
     "output_type": "stream",
     "text": [
      "100\n",
      "1000\n",
      "500\n",
      "1500\n",
      "5000\n",
      "2000\n"
     ]
    }
   ],
   "source": [
    "for i in price:\n",
    "    \n",
    "    if i<= 5000:\n",
    "        print(i)\n",
    "    else:\n",
    "        continue"
   ]
  },
  {
   "cell_type": "code",
   "execution_count": 39,
   "id": "ffaf64e0",
   "metadata": {},
   "outputs": [],
   "source": [
    "# take atleast 5 fruits print all fruits which ends with 'e' using continue"
   ]
  },
  {
   "cell_type": "code",
   "execution_count": 40,
   "id": "ecf3626b",
   "metadata": {},
   "outputs": [],
   "source": [
    "fruits = [\"apple\",\"orange\",\"lychee\",\"kiwi\",\"mango\",\"grape\"]"
   ]
  },
  {
   "cell_type": "code",
   "execution_count": 49,
   "id": "45060585",
   "metadata": {},
   "outputs": [
    {
     "name": "stdout",
     "output_type": "stream",
     "text": [
      "apple\n",
      "orange\n",
      "lychee\n",
      "grape\n"
     ]
    }
   ],
   "source": [
    "\n",
    "for i in fruits:\n",
    "\n",
    "    if i.endswith('e'):\n",
    "            print(i)\n",
    "    else:\n",
    "        continue\n",
    "        "
   ]
  },
  {
   "cell_type": "code",
   "execution_count": 50,
   "id": "bdb421ca",
   "metadata": {},
   "outputs": [
    {
     "name": "stdout",
     "output_type": "stream",
     "text": [
      "kiwi\n",
      "mango\n"
     ]
    }
   ],
   "source": [
    "for i in fruits:\n",
    "    \n",
    "    if i.endswith('e'):\n",
    "        continue\n",
    "    else:\n",
    "        print(i)"
   ]
  },
  {
   "cell_type": "markdown",
   "id": "22c6b509",
   "metadata": {},
   "source": [
    "# 3. pass --- nothing"
   ]
  },
  {
   "cell_type": "code",
   "execution_count": 51,
   "id": "638723f4",
   "metadata": {},
   "outputs": [],
   "source": [
    "for i in range(1,10):\n",
    "    pass"
   ]
  },
  {
   "cell_type": "code",
   "execution_count": 52,
   "id": "5c418cec",
   "metadata": {},
   "outputs": [],
   "source": [
    "def add(a,b):\n",
    "    pass"
   ]
  },
  {
   "cell_type": "code",
   "execution_count": 55,
   "id": "833545e0",
   "metadata": {},
   "outputs": [],
   "source": [
    "# take a range of 10 to 25 values print all the values except 10,15,17 using continue/break/pass"
   ]
  },
  {
   "cell_type": "code",
   "execution_count": 62,
   "id": "35145072",
   "metadata": {},
   "outputs": [
    {
     "name": "stdout",
     "output_type": "stream",
     "text": [
      "1\n",
      "2\n",
      "3\n",
      "4\n",
      "5\n",
      "6\n",
      "7\n",
      "8\n",
      "9\n",
      "11\n",
      "12\n",
      "13\n",
      "14\n",
      "16\n",
      "18\n",
      "19\n",
      "20\n",
      "21\n",
      "22\n",
      "23\n",
      "24\n",
      "25\n"
     ]
    }
   ],
   "source": [
    "for i in range(1,26):\n",
    "    if i in (10,15,17):\n",
    "        continue\n",
    "    else:\n",
    "        print(i)"
   ]
  },
  {
   "cell_type": "code",
   "execution_count": 65,
   "id": "ebaf0168",
   "metadata": {},
   "outputs": [],
   "source": [
    "# Take values from 100 to 150 skip the values which are divisible by 3 and 5 and break the loop when the value is greater than 146"
   ]
  },
  {
   "cell_type": "code",
   "execution_count": 2,
   "id": "8ff3d49e",
   "metadata": {},
   "outputs": [
    {
     "name": "stdout",
     "output_type": "stream",
     "text": [
      "100\n",
      "101\n",
      "102\n",
      "103\n",
      "104\n",
      "106\n",
      "107\n",
      "108\n",
      "109\n",
      "110\n",
      "111\n",
      "112\n",
      "113\n",
      "114\n",
      "115\n",
      "116\n",
      "117\n",
      "118\n",
      "119\n",
      "121\n",
      "122\n",
      "123\n",
      "124\n",
      "125\n",
      "126\n",
      "127\n",
      "128\n",
      "129\n",
      "130\n",
      "131\n",
      "132\n",
      "133\n",
      "134\n",
      "136\n",
      "137\n",
      "138\n",
      "139\n",
      "140\n",
      "141\n",
      "142\n",
      "143\n",
      "144\n",
      "145\n"
     ]
    }
   ],
   "source": [
    "for i in range(100,150):\n",
    "    if i < 146:\n",
    "        if(i%3==0) and(i%5==0):\n",
    "            continue\n",
    "        else:\n",
    "            print(i)\n",
    "            \n",
    "    else:\n",
    "        break"
   ]
  },
  {
   "cell_type": "code",
   "execution_count": 71,
   "id": "26e37567",
   "metadata": {},
   "outputs": [],
   "source": [
    "# ask user input to give a name which should contain atleast 6 letters if less than 6 letters print invalid input \n",
    "# from user input remove vowels print only consonants"
   ]
  },
  {
   "cell_type": "code",
   "execution_count": 5,
   "id": "671e07a4",
   "metadata": {},
   "outputs": [
    {
     "name": "stdout",
     "output_type": "stream",
     "text": [
      "enter the name ::akki\n",
      "enter valid input \n"
     ]
    }
   ],
   "source": [
    "user = input(\"enter the name ::\")\n",
    "vowels = [\"a\",\"e\",\"i\",\"o\",\"u\",\"A\",\"E\",\"I\",\"O\",\"U\"]\n",
    "\n",
    "if len(user)>=6:\n",
    "        for i in name:\n",
    "            if i in vowels:\n",
    "                continue\n",
    "            else:\n",
    "                print(i)\n",
    "else:\n",
    "    print(\"enter valid input \")"
   ]
  },
  {
   "cell_type": "code",
   "execution_count": 7,
   "id": "2bbbc76c",
   "metadata": {},
   "outputs": [
    {
     "name": "stdout",
     "output_type": "stream",
     "text": [
      "enter a name:: akki\n",
      "invalid input\n"
     ]
    }
   ],
   "source": [
    "name = input(\"enter a name:: \")\n",
    "vowels = [\"a\",\"e\",\"i\",\"o\",\"u\",\"A\",\"E\",\"I\",\"O\",\"U\"]\n",
    "\n",
    "if len(name)<6:\n",
    "    print(\"invalid input\")\n",
    "\n",
    "else:\n",
    "    for i in name:\n",
    "        if i in vowels:\n",
    "            continue\n",
    "\n",
    "        else:\n",
    "            print(i)"
   ]
  },
  {
   "cell_type": "code",
   "execution_count": 1,
   "id": "a2d063d4",
   "metadata": {},
   "outputs": [
    {
     "name": "stdout",
     "output_type": "stream",
     "text": [
      "enter a name:: viratkohli\n",
      "valid input\n"
     ]
    }
   ],
   "source": [
    "name = input(\"enter a name:: \")\n",
    "vowels = [\"a\",\"e\",\"i\",\"o\",\"u\",]\n",
    "\n",
    "if len(name)>6:\n",
    "    print(\"valid input\")\n",
    "\n",
    "else:\n",
    "    for i in name:\n",
    "        if i in vowels:\n",
    "            continue\n",
    "\n",
    "        else:\n",
    "            print(i)"
   ]
  },
  {
   "cell_type": "code",
   "execution_count": null,
   "id": "f62a2424",
   "metadata": {},
   "outputs": [],
   "source": []
  },
  {
   "cell_type": "code",
   "execution_count": null,
   "id": "18ee0ff9",
   "metadata": {},
   "outputs": [],
   "source": []
  }
 ],
 "metadata": {
  "kernelspec": {
   "display_name": "Python 3 (ipykernel)",
   "language": "python",
   "name": "python3"
  },
  "language_info": {
   "codemirror_mode": {
    "name": "ipython",
    "version": 3
   },
   "file_extension": ".py",
   "mimetype": "text/x-python",
   "name": "python",
   "nbconvert_exporter": "python",
   "pygments_lexer": "ipython3",
   "version": "3.11.4"
  }
 },
 "nbformat": 4,
 "nbformat_minor": 5
}
