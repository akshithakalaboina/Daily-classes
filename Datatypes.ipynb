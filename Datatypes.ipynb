{
 "cells": [
  {
   "cell_type": "markdown",
   "id": "0541d265",
   "metadata": {},
   "source": [
    "# Datatypes"
   ]
  },
  {
   "cell_type": "markdown",
   "id": "83998601",
   "metadata": {},
   "source": [
    "print()--> To display the output on console\n",
    "\n",
    "id()--> Memory address allocation of an object\n",
    "\n",
    "len()--> NO.of elements/values present ( it is a basic datatype)\n",
    "\n",
    "input()--> Takes the data or input from the user\n",
    "\n",
    "Type()--> Data type of an object"
   ]
  },
  {
   "cell_type": "markdown",
   "id": "e46bfdbc",
   "metadata": {},
   "source": [
    "## Integer Data type ##"
   ]
  },
  {
   "cell_type": "code",
   "execution_count": 35,
   "id": "3c68ade9",
   "metadata": {},
   "outputs": [
    {
     "name": "stdout",
     "output_type": "stream",
     "text": [
      "20\n"
     ]
    }
   ],
   "source": [
    "a = 20\n",
    "print(a)"
   ]
  },
  {
   "cell_type": "code",
   "execution_count": 36,
   "id": "caeb253d",
   "metadata": {},
   "outputs": [
    {
     "data": {
      "text/plain": [
       "140735186507144"
      ]
     },
     "execution_count": 36,
     "metadata": {},
     "output_type": "execute_result"
    }
   ],
   "source": [
    "id(a)"
   ]
  },
  {
   "cell_type": "code",
   "execution_count": 38,
   "id": "0ce2e0bc",
   "metadata": {},
   "outputs": [],
   "source": [
    "x = 30\n",
    "y = 40\n",
    "z = 50"
   ]
  },
  {
   "cell_type": "code",
   "execution_count": 39,
   "id": "c00c933d",
   "metadata": {},
   "outputs": [
    {
     "data": {
      "text/plain": [
       "50"
      ]
     },
     "execution_count": 39,
     "metadata": {},
     "output_type": "execute_result"
    }
   ],
   "source": [
    "z"
   ]
  },
  {
   "cell_type": "code",
   "execution_count": 41,
   "id": "725a8912",
   "metadata": {},
   "outputs": [],
   "source": [
    "x,y,z = 10,15,12"
   ]
  },
  {
   "cell_type": "code",
   "execution_count": 42,
   "id": "09e47c44",
   "metadata": {},
   "outputs": [
    {
     "data": {
      "text/plain": [
       "10"
      ]
     },
     "execution_count": 42,
     "metadata": {},
     "output_type": "execute_result"
    }
   ],
   "source": [
    "x"
   ]
  },
  {
   "cell_type": "code",
   "execution_count": 43,
   "id": "b905bf56",
   "metadata": {},
   "outputs": [
    {
     "data": {
      "text/plain": [
       "15"
      ]
     },
     "execution_count": 43,
     "metadata": {},
     "output_type": "execute_result"
    }
   ],
   "source": [
    "y"
   ]
  },
  {
   "cell_type": "code",
   "execution_count": 44,
   "id": "b959a95f",
   "metadata": {},
   "outputs": [
    {
     "data": {
      "text/plain": [
       "(10, 15)"
      ]
     },
     "execution_count": 44,
     "metadata": {},
     "output_type": "execute_result"
    }
   ],
   "source": [
    "x,y"
   ]
  },
  {
   "cell_type": "code",
   "execution_count": 11,
   "id": "8f985a58",
   "metadata": {},
   "outputs": [
    {
     "data": {
      "text/plain": [
       "(100, 1)"
      ]
     },
     "execution_count": 11,
     "metadata": {},
     "output_type": "execute_result"
    }
   ],
   "source": [
    "p = 100 \n",
    "\n",
    "p.as_integer_ratio()"
   ]
  },
  {
   "cell_type": "code",
   "execution_count": 4,
   "id": "3b512971",
   "metadata": {},
   "outputs": [],
   "source": [
    "p = 100"
   ]
  },
  {
   "cell_type": "code",
   "execution_count": 5,
   "id": "f23b3445",
   "metadata": {},
   "outputs": [
    {
     "data": {
      "text/plain": [
       "3"
      ]
     },
     "execution_count": 5,
     "metadata": {},
     "output_type": "execute_result"
    }
   ],
   "source": [
    "p.bit_count() # no. of 1's present in the binary representation"
   ]
  },
  {
   "cell_type": "code",
   "execution_count": 6,
   "id": "4d5b08ba",
   "metadata": {},
   "outputs": [
    {
     "data": {
      "text/plain": [
       "'0b1100100'"
      ]
     },
     "execution_count": 6,
     "metadata": {},
     "output_type": "execute_result"
    }
   ],
   "source": [
    "bin(p)"
   ]
  },
  {
   "cell_type": "code",
   "execution_count": 7,
   "id": "7d089a9a",
   "metadata": {},
   "outputs": [
    {
     "data": {
      "text/plain": [
       "7"
      ]
     },
     "execution_count": 7,
     "metadata": {},
     "output_type": "execute_result"
    }
   ],
   "source": [
    "p.bit_length()"
   ]
  },
  {
   "cell_type": "markdown",
   "id": "30dc7a02",
   "metadata": {},
   "source": [
    "* .tab --> all the methods/operations/function\n",
    "* .shift+ tab --> it gives description about method"
   ]
  },
  {
   "cell_type": "code",
   "execution_count": 9,
   "id": "9e3d7b65",
   "metadata": {},
   "outputs": [
    {
     "data": {
      "text/plain": [
       "100"
      ]
     },
     "execution_count": 9,
     "metadata": {},
     "output_type": "execute_result"
    }
   ],
   "source": [
    "p"
   ]
  },
  {
   "cell_type": "code",
   "execution_count": 10,
   "id": "f2db93eb",
   "metadata": {},
   "outputs": [
    {
     "data": {
      "text/plain": [
       "int"
      ]
     },
     "execution_count": 10,
     "metadata": {},
     "output_type": "execute_result"
    }
   ],
   "source": [
    "type(p)"
   ]
  },
  {
   "cell_type": "markdown",
   "id": "96f20960",
   "metadata": {},
   "source": [
    "## Float Data Type ##"
   ]
  },
  {
   "cell_type": "code",
   "execution_count": 13,
   "id": "9db3aa21",
   "metadata": {},
   "outputs": [],
   "source": [
    "num = 10.8"
   ]
  },
  {
   "cell_type": "code",
   "execution_count": 14,
   "id": "1e90db3c",
   "metadata": {},
   "outputs": [
    {
     "data": {
      "text/plain": [
       "float"
      ]
     },
     "execution_count": 14,
     "metadata": {},
     "output_type": "execute_result"
    }
   ],
   "source": [
    "type(num)"
   ]
  },
  {
   "cell_type": "code",
   "execution_count": 15,
   "id": "98e2debc",
   "metadata": {},
   "outputs": [
    {
     "data": {
      "text/plain": [
       "2309126842224"
      ]
     },
     "execution_count": 15,
     "metadata": {},
     "output_type": "execute_result"
    }
   ],
   "source": [
    "id(num)"
   ]
  },
  {
   "cell_type": "code",
   "execution_count": 16,
   "id": "a94625d9",
   "metadata": {},
   "outputs": [
    {
     "name": "stdout",
     "output_type": "stream",
     "text": [
      "10.8\n"
     ]
    }
   ],
   "source": [
    "print(num)"
   ]
  },
  {
   "cell_type": "code",
   "execution_count": 17,
   "id": "ccf5e54a",
   "metadata": {},
   "outputs": [
    {
     "data": {
      "text/plain": [
       "(3039929748475085, 281474976710656)"
      ]
     },
     "execution_count": 17,
     "metadata": {},
     "output_type": "execute_result"
    }
   ],
   "source": [
    "num.as_integer_ratio()"
   ]
  },
  {
   "cell_type": "code",
   "execution_count": 19,
   "id": "1d5f4161",
   "metadata": {},
   "outputs": [
    {
     "data": {
      "text/plain": [
       "10.8"
      ]
     },
     "execution_count": 19,
     "metadata": {},
     "output_type": "execute_result"
    }
   ],
   "source": [
    "3039929748475085 / 281474976710656"
   ]
  },
  {
   "cell_type": "code",
   "execution_count": 20,
   "id": "7a5e1f96",
   "metadata": {},
   "outputs": [
    {
     "data": {
      "text/plain": [
       "10.8"
      ]
     },
     "execution_count": 20,
     "metadata": {},
     "output_type": "execute_result"
    }
   ],
   "source": [
    "num.conjugate()"
   ]
  },
  {
   "cell_type": "code",
   "execution_count": 22,
   "id": "6e27f848",
   "metadata": {},
   "outputs": [
    {
     "data": {
      "text/plain": [
       "'0x1.599999999999ap+3'"
      ]
     },
     "execution_count": 22,
     "metadata": {},
     "output_type": "execute_result"
    }
   ],
   "source": [
    "num.hex()"
   ]
  },
  {
   "cell_type": "code",
   "execution_count": 24,
   "id": "f8dfc078",
   "metadata": {},
   "outputs": [
    {
     "data": {
      "text/plain": [
       "False"
      ]
     },
     "execution_count": 24,
     "metadata": {},
     "output_type": "execute_result"
    }
   ],
   "source": [
    "num.is_integer()"
   ]
  },
  {
   "cell_type": "markdown",
   "id": "de054a57",
   "metadata": {},
   "source": [
    "## Complex  Data Type ## "
   ]
  },
  {
   "cell_type": "code",
   "execution_count": 29,
   "id": "67b53f5d",
   "metadata": {},
   "outputs": [],
   "source": [
    "comp = 10+20j"
   ]
  },
  {
   "cell_type": "code",
   "execution_count": 30,
   "id": "62e2e0cf",
   "metadata": {},
   "outputs": [
    {
     "data": {
      "text/plain": [
       "complex"
      ]
     },
     "execution_count": 30,
     "metadata": {},
     "output_type": "execute_result"
    }
   ],
   "source": [
    "type(comp)"
   ]
  },
  {
   "cell_type": "code",
   "execution_count": 31,
   "id": "b7269ff2",
   "metadata": {},
   "outputs": [
    {
     "name": "stdout",
     "output_type": "stream",
     "text": [
      "(10+20j)\n"
     ]
    }
   ],
   "source": [
    "print(comp)"
   ]
  },
  {
   "cell_type": "code",
   "execution_count": 32,
   "id": "8f3220b8",
   "metadata": {},
   "outputs": [
    {
     "data": {
      "text/plain": [
       "2309112921456"
      ]
     },
     "execution_count": 32,
     "metadata": {},
     "output_type": "execute_result"
    }
   ],
   "source": [
    "id(comp)"
   ]
  },
  {
   "cell_type": "code",
   "execution_count": 33,
   "id": "45f93954",
   "metadata": {},
   "outputs": [],
   "source": [
    "x = 10_000_00"
   ]
  },
  {
   "cell_type": "code",
   "execution_count": 34,
   "id": "1d9f92dc",
   "metadata": {},
   "outputs": [
    {
     "data": {
      "text/plain": [
       "1000000"
      ]
     },
     "execution_count": 34,
     "metadata": {},
     "output_type": "execute_result"
    }
   ],
   "source": [
    "x"
   ]
  },
  {
   "cell_type": "code",
   "execution_count": 47,
   "id": "12693e58",
   "metadata": {},
   "outputs": [
    {
     "data": {
      "text/plain": [
       "5.0"
      ]
     },
     "execution_count": 47,
     "metadata": {},
     "output_type": "execute_result"
    }
   ],
   "source": [
    "x = 25\n",
    "b = 5\n",
    "x/b # in normal division  it returns float datatype"
   ]
  },
  {
   "cell_type": "code",
   "execution_count": 48,
   "id": "123d7238",
   "metadata": {},
   "outputs": [
    {
     "data": {
      "text/plain": [
       "5"
      ]
     },
     "execution_count": 48,
     "metadata": {},
     "output_type": "execute_result"
    }
   ],
   "source": [
    "x//5 #in ramainder division it returns int data type"
   ]
  },
  {
   "cell_type": "code",
   "execution_count": 53,
   "id": "066bda26",
   "metadata": {},
   "outputs": [],
   "source": [
    "a = True"
   ]
  },
  {
   "cell_type": "code",
   "execution_count": 54,
   "id": "c41e9206",
   "metadata": {},
   "outputs": [
    {
     "data": {
      "text/plain": [
       "bool"
      ]
     },
     "execution_count": 54,
     "metadata": {},
     "output_type": "execute_result"
    }
   ],
   "source": [
    "type(a)"
   ]
  },
  {
   "cell_type": "code",
   "execution_count": 55,
   "id": "48c511f4",
   "metadata": {},
   "outputs": [
    {
     "data": {
      "text/plain": [
       "140735185037856"
      ]
     },
     "execution_count": 55,
     "metadata": {},
     "output_type": "execute_result"
    }
   ],
   "source": [
    "id(a)"
   ]
  },
  {
   "cell_type": "markdown",
   "id": "aa7023c1",
   "metadata": {},
   "source": [
    "## input() ##"
   ]
  },
  {
   "cell_type": "code",
   "execution_count": 60,
   "id": "c0b9f51c",
   "metadata": {},
   "outputs": [
    {
     "name": "stdout",
     "output_type": "stream",
     "text": [
      "2\n"
     ]
    }
   ],
   "source": [
    "a = input() # by default it is in string datatype"
   ]
  },
  {
   "cell_type": "code",
   "execution_count": 61,
   "id": "a9f2b4e2",
   "metadata": {},
   "outputs": [
    {
     "data": {
      "text/plain": [
       "'2hello'"
      ]
     },
     "execution_count": 61,
     "metadata": {},
     "output_type": "execute_result"
    }
   ],
   "source": [
    "a + 'hello'"
   ]
  },
  {
   "cell_type": "code",
   "execution_count": 62,
   "id": "596443ff",
   "metadata": {},
   "outputs": [
    {
     "name": "stdout",
     "output_type": "stream",
     "text": [
      "6\n"
     ]
    }
   ],
   "source": [
    "a = int(input())"
   ]
  },
  {
   "cell_type": "code",
   "execution_count": 63,
   "id": "4a0c97b2",
   "metadata": {},
   "outputs": [
    {
     "data": {
      "text/plain": [
       "10"
      ]
     },
     "execution_count": 63,
     "metadata": {},
     "output_type": "execute_result"
    }
   ],
   "source": [
    "a + 4"
   ]
  },
  {
   "cell_type": "markdown",
   "id": "62c654a4",
   "metadata": {},
   "source": [
    "## String Data Type ##"
   ]
  },
  {
   "cell_type": "markdown",
   "id": "9f34a50a",
   "metadata": {},
   "source": [
    "it is a text data \n",
    "ex : Hello"
   ]
  },
  {
   "cell_type": "markdown",
   "id": "0169765a",
   "metadata": {},
   "source": [
    "*String consists of alphanumeric(a-z,A-Z,0-9)*\n",
    "\n",
    "*special symbols(@,!,#,$,% etc)*\n",
    "\n"
   ]
  },
  {
   "cell_type": "code",
   "execution_count": 10,
   "id": "d3627ad9",
   "metadata": {},
   "outputs": [],
   "source": [
    "name = 'Hello'  # Single quote"
   ]
  },
  {
   "cell_type": "code",
   "execution_count": 1,
   "id": "231eae36",
   "metadata": {},
   "outputs": [],
   "source": [
    "name = \"Hello\" # Double quote"
   ]
  },
  {
   "cell_type": "code",
   "execution_count": 68,
   "id": "5c8f42a6",
   "metadata": {},
   "outputs": [],
   "source": [
    "name = '''Hello\n",
    "               World''' # if we ant to print mutliple lines go for triple quotes"
   ]
  },
  {
   "cell_type": "code",
   "execution_count": null,
   "id": "8267db2b",
   "metadata": {},
   "outputs": [],
   "source": [
    "name = input(\"Enter your name :: \")"
   ]
  },
  {
   "cell_type": "code",
   "execution_count": 70,
   "id": "08fd9e9b",
   "metadata": {},
   "outputs": [
    {
     "name": "stdout",
     "output_type": "stream",
     "text": [
      "Virat Kohli\n"
     ]
    }
   ],
   "source": [
    "print(name)"
   ]
  },
  {
   "cell_type": "code",
   "execution_count": 71,
   "id": "8b9fe6de",
   "metadata": {},
   "outputs": [
    {
     "data": {
      "text/plain": [
       "str"
      ]
     },
     "execution_count": 71,
     "metadata": {},
     "output_type": "execute_result"
    }
   ],
   "source": [
    "type(name)"
   ]
  },
  {
   "cell_type": "code",
   "execution_count": 73,
   "id": "7e58ae4e",
   "metadata": {},
   "outputs": [
    {
     "data": {
      "text/plain": [
       "2309127826096"
      ]
     },
     "execution_count": 73,
     "metadata": {},
     "output_type": "execute_result"
    }
   ],
   "source": [
    "id(name)"
   ]
  },
  {
   "cell_type": "code",
   "execution_count": 74,
   "id": "721e2093",
   "metadata": {},
   "outputs": [
    {
     "data": {
      "text/plain": [
       "11"
      ]
     },
     "execution_count": 74,
     "metadata": {},
     "output_type": "execute_result"
    }
   ],
   "source": [
    "len(name)"
   ]
  },
  {
   "cell_type": "code",
   "execution_count": 3,
   "id": "fd2b6db4",
   "metadata": {},
   "outputs": [],
   "source": [
    "name = \"Innomatics Research Labs\""
   ]
  },
  {
   "cell_type": "code",
   "execution_count": 4,
   "id": "8c03c5b7",
   "metadata": {},
   "outputs": [
    {
     "name": "stdout",
     "output_type": "stream",
     "text": [
      "Innomatics Research Labs\n"
     ]
    }
   ],
   "source": [
    "print(name)"
   ]
  },
  {
   "cell_type": "code",
   "execution_count": 5,
   "id": "76c6e5b4",
   "metadata": {},
   "outputs": [
    {
     "data": {
      "text/plain": [
       "1629612792112"
      ]
     },
     "execution_count": 5,
     "metadata": {},
     "output_type": "execute_result"
    }
   ],
   "source": [
    "id(name)"
   ]
  },
  {
   "cell_type": "code",
   "execution_count": 6,
   "id": "72f3bf9d",
   "metadata": {},
   "outputs": [
    {
     "data": {
      "text/plain": [
       "24"
      ]
     },
     "execution_count": 6,
     "metadata": {},
     "output_type": "execute_result"
    }
   ],
   "source": [
    "len(name)"
   ]
  },
  {
   "cell_type": "code",
   "execution_count": 8,
   "id": "ab9d7a26",
   "metadata": {},
   "outputs": [
    {
     "data": {
      "text/plain": [
       "0"
      ]
     },
     "execution_count": 8,
     "metadata": {},
     "output_type": "execute_result"
    }
   ],
   "source": [
    "n = ''  #empty string\n",
    "len(n)"
   ]
  },
  {
   "cell_type": "markdown",
   "id": "5d6fa228",
   "metadata": {},
   "source": [
    "# Escape Characters"
   ]
  },
  {
   "cell_type": "code",
   "execution_count": 13,
   "id": "0c415609",
   "metadata": {},
   "outputs": [
    {
     "ename": "SyntaxError",
     "evalue": "unterminated string literal (detected at line 1) (288803653.py, line 1)",
     "output_type": "error",
     "traceback": [
      "\u001b[1;36m  Cell \u001b[1;32mIn[13], line 1\u001b[1;36m\u001b[0m\n\u001b[1;33m    'This is ramya's scooty'\u001b[0m\n\u001b[1;37m                           ^\u001b[0m\n\u001b[1;31mSyntaxError\u001b[0m\u001b[1;31m:\u001b[0m unterminated string literal (detected at line 1)\n"
     ]
    }
   ],
   "source": [
    "'This is ramya's scooty' # it throws an error better use double quote"
   ]
  },
  {
   "cell_type": "code",
   "execution_count": 14,
   "id": "6ef2df17",
   "metadata": {},
   "outputs": [
    {
     "data": {
      "text/plain": [
       "\"This is ramya's scooty\""
      ]
     },
     "execution_count": 14,
     "metadata": {},
     "output_type": "execute_result"
    }
   ],
   "source": [
    "\"This is ramya's scooty\""
   ]
  },
  {
   "cell_type": "code",
   "execution_count": 16,
   "id": "afe27b1e",
   "metadata": {},
   "outputs": [
    {
     "ename": "SyntaxError",
     "evalue": "invalid syntax (3788822922.py, line 1)",
     "output_type": "error",
     "traceback": [
      "\u001b[1;36m  Cell \u001b[1;32mIn[16], line 1\u001b[1;36m\u001b[0m\n\u001b[1;33m    \"Iam learning \"python\" programs\"\u001b[0m\n\u001b[1;37m                   ^\u001b[0m\n\u001b[1;31mSyntaxError\u001b[0m\u001b[1;31m:\u001b[0m invalid syntax\n"
     ]
    }
   ],
   "source": [
    "\"Iam learning \"python\" programs\""
   ]
  },
  {
   "cell_type": "code",
   "execution_count": 17,
   "id": "38beadab",
   "metadata": {},
   "outputs": [
    {
     "data": {
      "text/plain": [
       "\"Iam learning 'python' programs\""
      ]
     },
     "execution_count": 17,
     "metadata": {},
     "output_type": "execute_result"
    }
   ],
   "source": [
    "\"Iam learning 'python' programs\""
   ]
  },
  {
   "cell_type": "code",
   "execution_count": 18,
   "id": "65b344b7",
   "metadata": {},
   "outputs": [
    {
     "data": {
      "text/plain": [
       "'Iam learning \"python\" programs'"
      ]
     },
     "execution_count": 18,
     "metadata": {},
     "output_type": "execute_result"
    }
   ],
   "source": [
    "'Iam learning \"python\" programs'"
   ]
  },
  {
   "cell_type": "code",
   "execution_count": 19,
   "id": "c782a98d",
   "metadata": {},
   "outputs": [
    {
     "data": {
      "text/plain": [
       "'Iam learning \"python\" programs'"
      ]
     },
     "execution_count": 19,
     "metadata": {},
     "output_type": "execute_result"
    }
   ],
   "source": [
    "\"Iam learning \\\"python\\\" programs\""
   ]
  },
  {
   "cell_type": "markdown",
   "id": "74844eb3",
   "metadata": {},
   "source": [
    "# New line (\\n)\n",
    "\n",
    "It is for a new line"
   ]
  },
  {
   "cell_type": "code",
   "execution_count": 22,
   "id": "0224ac54",
   "metadata": {},
   "outputs": [
    {
     "name": "stdout",
     "output_type": "stream",
     "text": [
      "Hello Iam Data Scientist\n",
      "      Iam from Hyderabad\n"
     ]
    }
   ],
   "source": [
    "print(\"\"\"Hello Iam Data Scientist\n",
    "      Iam from Hyderabad\"\"\")"
   ]
  },
  {
   "cell_type": "code",
   "execution_count": 23,
   "id": "5dcfd0a1",
   "metadata": {},
   "outputs": [
    {
     "name": "stdout",
     "output_type": "stream",
     "text": [
      "Hello Iam Data Scientist Iam from Hyderabad\n"
     ]
    }
   ],
   "source": [
    "print(\"\"\"Hello Iam Data Scientist Iam from Hyderabad\"\"\")"
   ]
  },
  {
   "cell_type": "code",
   "execution_count": 24,
   "id": "d3582dfb",
   "metadata": {},
   "outputs": [
    {
     "name": "stdout",
     "output_type": "stream",
     "text": [
      "Hello Iam Data Scientist\n",
      " Iam from Hyderabad\n"
     ]
    }
   ],
   "source": [
    "print(\"\"\"Hello Iam Data Scientist\\n Iam from Hyderabad\"\"\")"
   ]
  },
  {
   "cell_type": "code",
   "execution_count": 25,
   "id": "83f4aba5",
   "metadata": {},
   "outputs": [
    {
     "name": "stdout",
     "output_type": "stream",
     "text": [
      "Hello World\n"
     ]
    }
   ],
   "source": [
    "print(\"Hello World\")"
   ]
  },
  {
   "cell_type": "code",
   "execution_count": 26,
   "id": "5008dc90",
   "metadata": {},
   "outputs": [
    {
     "name": "stdout",
     "output_type": "stream",
     "text": [
      "Hello    World\n"
     ]
    }
   ],
   "source": [
    "print(\"Hello    World\")"
   ]
  },
  {
   "cell_type": "code",
   "execution_count": 30,
   "id": "afebf461",
   "metadata": {},
   "outputs": [],
   "source": [
    "name = \"Innomatics Research Labs\""
   ]
  },
  {
   "cell_type": "code",
   "execution_count": 31,
   "id": "efdff8e8",
   "metadata": {},
   "outputs": [
    {
     "name": "stdout",
     "output_type": "stream",
     "text": [
      "Innomatics Research Labs\n"
     ]
    }
   ],
   "source": [
    "print(name)"
   ]
  },
  {
   "cell_type": "code",
   "execution_count": 39,
   "id": "d796ab36",
   "metadata": {},
   "outputs": [
    {
     "name": "stdout",
     "output_type": "stream",
     "text": [
      "Innomatics\n",
      "\n",
      "Research\n",
      "\n",
      "Labs\n"
     ]
    }
   ],
   "source": [
    "print(\"\"\"Innomatics\\n\n",
    "Research\\n\n",
    "Labs\"\"\")"
   ]
  },
  {
   "cell_type": "code",
   "execution_count": 36,
   "id": "6aca8dc8",
   "metadata": {},
   "outputs": [
    {
     "name": "stdout",
     "output_type": "stream",
     "text": [
      "Innomatics \n",
      " Research \n",
      " Labs \n",
      "\n"
     ]
    }
   ],
   "source": [
    "print(\"Innomatics \\n Research \\n Labs \\n\")"
   ]
  },
  {
   "cell_type": "code",
   "execution_count": 41,
   "id": "27285902",
   "metadata": {},
   "outputs": [
    {
     "name": "stdout",
     "output_type": "stream",
     "text": [
      "Innomatics \t Research \t Labs \t\n"
     ]
    }
   ],
   "source": [
    "print(\"Innomatics \\t Research \\t Labs \\t\") #\\t is for a tab or 4 spaces between data(it is a escape character)"
   ]
  },
  {
   "cell_type": "markdown",
   "id": "66684879",
   "metadata": {},
   "source": [
    "# Backscape\n",
    "\n",
    "(\\b)"
   ]
  },
  {
   "cell_type": "code",
   "execution_count": 42,
   "id": "8f99d92d",
   "metadata": {},
   "outputs": [
    {
     "name": "stdout",
     "output_type": "stream",
     "text": [
      "Hello World\n"
     ]
    }
   ],
   "source": [
    "print(\"Hello World\")"
   ]
  },
  {
   "cell_type": "code",
   "execution_count": 45,
   "id": "95dd0cb3",
   "metadata": {},
   "outputs": [
    {
     "name": "stdout",
     "output_type": "stream",
     "text": [
      "He\bllo Worl\bd\n"
     ]
    }
   ],
   "source": [
    "print(\"He\\bllo Worl\\bd\") #\\b deletes the character"
   ]
  },
  {
   "cell_type": "code",
   "execution_count": 46,
   "id": "ad955b65",
   "metadata": {},
   "outputs": [
    {
     "name": "stdout",
     "output_type": "stream",
     "text": [
      "sum\n",
      "umber\n"
     ]
    }
   ],
   "source": [
    "print('sum\\number')"
   ]
  },
  {
   "cell_type": "code",
   "execution_count": 47,
   "id": "79d47bd0",
   "metadata": {},
   "outputs": [
    {
     "name": "stdout",
     "output_type": "stream",
     "text": [
      "sum\\number\n"
     ]
    }
   ],
   "source": [
    "print('sum\\\\number')"
   ]
  },
  {
   "cell_type": "code",
   "execution_count": 49,
   "id": "3aaa6da4",
   "metadata": {},
   "outputs": [
    {
     "name": "stdout",
     "output_type": "stream",
     "text": [
      "sum\\number\n"
     ]
    }
   ],
   "source": [
    "print(r\"sum\\number\") # r is a raw string"
   ]
  },
  {
   "cell_type": "code",
   "execution_count": 51,
   "id": "6503b53a",
   "metadata": {},
   "outputs": [
    {
     "name": "stdout",
     "output_type": "stream",
     "text": [
      "In\n",
      "omatics\n"
     ]
    }
   ],
   "source": [
    "print(\"In\\nomatics\")"
   ]
  },
  {
   "cell_type": "code",
   "execution_count": 52,
   "id": "350abd93",
   "metadata": {},
   "outputs": [
    {
     "name": "stdout",
     "output_type": "stream",
     "text": [
      "Innomat\bics\n"
     ]
    }
   ],
   "source": [
    "print(\"Innomat\\bics\")"
   ]
  },
  {
   "cell_type": "code",
   "execution_count": 53,
   "id": "a4e25e1d",
   "metadata": {},
   "outputs": [
    {
     "name": "stdout",
     "output_type": "stream",
     "text": [
      "Inn\tomatics\n"
     ]
    }
   ],
   "source": [
    "print(\"Inn\\tomatics\")"
   ]
  },
  {
   "cell_type": "code",
   "execution_count": 54,
   "id": "46454430",
   "metadata": {},
   "outputs": [
    {
     "name": "stdout",
     "output_type": "stream",
     "text": [
      "number\balls\n"
     ]
    }
   ],
   "source": [
    "print(\"number\\balls\")"
   ]
  },
  {
   "cell_type": "code",
   "execution_count": 55,
   "id": "45215277",
   "metadata": {},
   "outputs": [
    {
     "name": "stdout",
     "output_type": "stream",
     "text": [
      "number\\balls\n"
     ]
    }
   ],
   "source": [
    "print(r\"number\\balls\")"
   ]
  },
  {
   "cell_type": "code",
   "execution_count": 58,
   "id": "8e9342c2",
   "metadata": {},
   "outputs": [
    {
     "name": "stdout",
     "output_type": "stream",
     "text": [
      "number\\\\balls\n"
     ]
    }
   ],
   "source": [
    "print(r\"number\\\\balls\")"
   ]
  },
  {
   "cell_type": "code",
   "execution_count": 56,
   "id": "d3eae73c",
   "metadata": {},
   "outputs": [
    {
     "name": "stdout",
     "output_type": "stream",
     "text": [
      "sum\\total\n"
     ]
    }
   ],
   "source": [
    "print(\"sum\\\\total\")"
   ]
  },
  {
   "cell_type": "code",
   "execution_count": 57,
   "id": "28239a1f",
   "metadata": {},
   "outputs": [
    {
     "name": "stdout",
     "output_type": "stream",
     "text": [
      "sum\\\\total\n"
     ]
    }
   ],
   "source": [
    "print(r\"sum\\\\total\")"
   ]
  },
  {
   "cell_type": "code",
   "execution_count": 60,
   "id": "ad34be2c",
   "metadata": {},
   "outputs": [
    {
     "ename": "SyntaxError",
     "evalue": "(unicode error) 'unicodeescape' codec can't decode bytes in position 2-3: truncated \\UXXXXXXXX escape (1822287587.py, line 1)",
     "output_type": "error",
     "traceback": [
      "\u001b[1;36m  Cell \u001b[1;32mIn[60], line 1\u001b[1;36m\u001b[0m\n\u001b[1;33m    print(\"C:\\Users\\hi\\OneDrive\\Desktop\\python\")# it throws an error so use double slash instead of single slash\u001b[0m\n\u001b[1;37m                                               ^\u001b[0m\n\u001b[1;31mSyntaxError\u001b[0m\u001b[1;31m:\u001b[0m (unicode error) 'unicodeescape' codec can't decode bytes in position 2-3: truncated \\UXXXXXXXX escape\n"
     ]
    }
   ],
   "source": [
    "print(\"C:\\Users\\hi\\OneDrive\\Desktop\\python\")# it throws an error so use double slash instead of single slash"
   ]
  },
  {
   "cell_type": "code",
   "execution_count": 61,
   "id": "07002e27",
   "metadata": {},
   "outputs": [
    {
     "name": "stdout",
     "output_type": "stream",
     "text": [
      "C:\\Users\\hi\\OneDrive\\Desktop\\python\n"
     ]
    }
   ],
   "source": [
    "print(\"C:\\\\Users\\\\hi\\\\OneDrive\\\\Desktop\\\\python\")"
   ]
  },
  {
   "cell_type": "markdown",
   "id": "dd090ec7",
   "metadata": {},
   "source": [
    "# Indexing And Slicing"
   ]
  },
  {
   "cell_type": "markdown",
   "id": "103ff580",
   "metadata": {},
   "source": [
    "Indexing - Acessing/Extracting Single element/value\n",
    "\n",
    "1. Forwarding index: it is also known as forwarding index because it is incrementing from left to right\n",
    "    \n",
    "2. Reverse indexing:it is also known as reverse indexing because it is incrementing from right to left\n",
    "\n",
    "Slicing - more than one (group) element"
   ]
  },
  {
   "cell_type": "code",
   "execution_count": 62,
   "id": "ceb961a0",
   "metadata": {},
   "outputs": [],
   "source": [
    "name = \"Innomatics Research Labs\""
   ]
  },
  {
   "cell_type": "code",
   "execution_count": 67,
   "id": "384f7b5e",
   "metadata": {},
   "outputs": [
    {
     "data": {
      "text/plain": [
       "'m'"
      ]
     },
     "execution_count": 67,
     "metadata": {},
     "output_type": "execute_result"
    }
   ],
   "source": [
    " name[4] #name[index number] it is also known as forwarding index because it is incrementing from left to right"
   ]
  },
  {
   "cell_type": "code",
   "execution_count": 65,
   "id": "40a9f1d7",
   "metadata": {},
   "outputs": [
    {
     "data": {
      "text/plain": [
       "'b'"
      ]
     },
     "execution_count": 65,
     "metadata": {},
     "output_type": "execute_result"
    }
   ],
   "source": [
    "name[22]"
   ]
  },
  {
   "cell_type": "code",
   "execution_count": 66,
   "id": "ccfe1ebd",
   "metadata": {},
   "outputs": [
    {
     "data": {
      "text/plain": [
       "'r'"
      ]
     },
     "execution_count": 66,
     "metadata": {},
     "output_type": "execute_result"
    }
   ],
   "source": [
    "name[16]"
   ]
  },
  {
   "cell_type": "code",
   "execution_count": 68,
   "id": "4ad04296",
   "metadata": {},
   "outputs": [
    {
     "data": {
      "text/plain": [
       "'R'"
      ]
     },
     "execution_count": 68,
     "metadata": {},
     "output_type": "execute_result"
    }
   ],
   "source": [
    "name[11]"
   ]
  },
  {
   "cell_type": "code",
   "execution_count": 69,
   "id": "ae7fff92",
   "metadata": {},
   "outputs": [
    {
     "data": {
      "text/plain": [
       "'R'"
      ]
     },
     "execution_count": 69,
     "metadata": {},
     "output_type": "execute_result"
    }
   ],
   "source": [
    "name[-13]#it is also known as reverse indexing because it is incrementing from right to left"
   ]
  },
  {
   "cell_type": "code",
   "execution_count": 71,
   "id": "c45cf0e4",
   "metadata": {},
   "outputs": [],
   "source": [
    "string = \"Hello world\""
   ]
  },
  {
   "cell_type": "code",
   "execution_count": 78,
   "id": "4a0e98fc",
   "metadata": {},
   "outputs": [
    {
     "data": {
      "text/plain": [
       "'H'"
      ]
     },
     "execution_count": 78,
     "metadata": {},
     "output_type": "execute_result"
    }
   ],
   "source": [
    "name[0] #forwarding index"
   ]
  },
  {
   "cell_type": "code",
   "execution_count": 73,
   "id": "5afef118",
   "metadata": {},
   "outputs": [
    {
     "data": {
      "text/plain": [
       "'d'"
      ]
     },
     "execution_count": 73,
     "metadata": {},
     "output_type": "execute_result"
    }
   ],
   "source": [
    "name[10]"
   ]
  },
  {
   "cell_type": "code",
   "execution_count": 74,
   "id": "1c16a89a",
   "metadata": {},
   "outputs": [
    {
     "data": {
      "text/plain": [
       "'w'"
      ]
     },
     "execution_count": 74,
     "metadata": {},
     "output_type": "execute_result"
    }
   ],
   "source": [
    "name[6]"
   ]
  },
  {
   "cell_type": "code",
   "execution_count": 75,
   "id": "d48e0214",
   "metadata": {},
   "outputs": [
    {
     "data": {
      "text/plain": [
       "'r'"
      ]
     },
     "execution_count": 75,
     "metadata": {},
     "output_type": "execute_result"
    }
   ],
   "source": [
    "name[8]"
   ]
  },
  {
   "cell_type": "code",
   "execution_count": 77,
   "id": "87d97f25",
   "metadata": {},
   "outputs": [
    {
     "data": {
      "text/plain": [
       "'H'"
      ]
     },
     "execution_count": 77,
     "metadata": {},
     "output_type": "execute_result"
    }
   ],
   "source": [
    "name[-11] #reverse indexing"
   ]
  },
  {
   "cell_type": "code",
   "execution_count": 79,
   "id": "1b47c5c4",
   "metadata": {},
   "outputs": [
    {
     "data": {
      "text/plain": [
       "'d'"
      ]
     },
     "execution_count": 79,
     "metadata": {},
     "output_type": "execute_result"
    }
   ],
   "source": [
    "name[-1]"
   ]
  },
  {
   "cell_type": "code",
   "execution_count": 80,
   "id": "14850d9c",
   "metadata": {},
   "outputs": [
    {
     "data": {
      "text/plain": [
       "'w'"
      ]
     },
     "execution_count": 80,
     "metadata": {},
     "output_type": "execute_result"
    }
   ],
   "source": [
    "name[-5]"
   ]
  },
  {
   "cell_type": "code",
   "execution_count": 81,
   "id": "e53fb3af",
   "metadata": {},
   "outputs": [
    {
     "data": {
      "text/plain": [
       "'r'"
      ]
     },
     "execution_count": 81,
     "metadata": {},
     "output_type": "execute_result"
    }
   ],
   "source": [
    "name[-3]"
   ]
  },
  {
   "cell_type": "markdown",
   "id": "0eb5a082",
   "metadata": {},
   "source": [
    "syntax:variable_name[index number] for indexing"
   ]
  },
  {
   "cell_type": "markdown",
   "id": "e995a0e1",
   "metadata": {},
   "source": [
    "# Slicing"
   ]
  },
  {
   "cell_type": "markdown",
   "id": "3c7c56ed",
   "metadata": {},
   "source": [
    "acessing group of char/elements from the data"
   ]
  },
  {
   "cell_type": "markdown",
   "id": "a0e6d449",
   "metadata": {},
   "source": [
    " variable_name[Start:Stop:Step] #stop omits the last value"
   ]
  },
  {
   "cell_type": "markdown",
   "id": "d70b7ad3",
   "metadata": {},
   "source": [
    "* Start: if we don't provide start value then it takes first value(0 Index)\n",
    "    \n",
    "* Step: if we don't provide step, value then it takes 1 as default value\n",
    "    \n",
    "* Stop: if we don't provide stop, value then it takes last value\n",
    "    \n",
    ". In Slicing we give more than index number still it acceptsnand goes for last value"
   ]
  },
  {
   "cell_type": "code",
   "execution_count": 90,
   "id": "6a5c6401",
   "metadata": {},
   "outputs": [
    {
     "data": {
      "text/plain": [
       "'nom'"
      ]
     },
     "execution_count": 90,
     "metadata": {},
     "output_type": "execute_result"
    }
   ],
   "source": [
    "name[2:5:1] #eg:2,3,4"
   ]
  },
  {
   "cell_type": "code",
   "execution_count": 120,
   "id": "4adbda3f",
   "metadata": {},
   "outputs": [
    {
     "data": {
      "text/plain": [
       "'ics R'"
      ]
     },
     "execution_count": 120,
     "metadata": {},
     "output_type": "execute_result"
    }
   ],
   "source": [
    "name[7:12:1] #eg: 7,8,9,10,11"
   ]
  },
  {
   "cell_type": "code",
   "execution_count": 119,
   "id": "dee19633",
   "metadata": {},
   "outputs": [
    {
     "data": {
      "text/plain": [
       "'noma'"
      ]
     },
     "execution_count": 119,
     "metadata": {},
     "output_type": "execute_result"
    }
   ],
   "source": [
    "name[2:6:1]"
   ]
  },
  {
   "cell_type": "code",
   "execution_count": 121,
   "id": "0646e7bd",
   "metadata": {},
   "outputs": [
    {
     "data": {
      "text/plain": [
       "'Innomatics'"
      ]
     },
     "execution_count": 121,
     "metadata": {},
     "output_type": "execute_result"
    }
   ],
   "source": [
    "name[0:10:1]"
   ]
  },
  {
   "cell_type": "code",
   "execution_count": 122,
   "id": "37280764",
   "metadata": {},
   "outputs": [
    {
     "data": {
      "text/plain": [
       "'Innomatics'"
      ]
     },
     "execution_count": 122,
     "metadata": {},
     "output_type": "execute_result"
    }
   ],
   "source": [
    "name[:10:1]"
   ]
  },
  {
   "cell_type": "code",
   "execution_count": 123,
   "id": "ddcb56e8",
   "metadata": {},
   "outputs": [
    {
     "data": {
      "text/plain": [
       "'Innomatics Research Labs'"
      ]
     },
     "execution_count": 123,
     "metadata": {},
     "output_type": "execute_result"
    }
   ],
   "source": [
    "name[::1]"
   ]
  },
  {
   "cell_type": "code",
   "execution_count": 91,
   "id": "93a93004",
   "metadata": {},
   "outputs": [],
   "source": [
    "name =\"Hello World\""
   ]
  },
  {
   "cell_type": "code",
   "execution_count": 93,
   "id": "773c1ab3",
   "metadata": {},
   "outputs": [
    {
     "data": {
      "text/plain": [
       "'World'"
      ]
     },
     "execution_count": 93,
     "metadata": {},
     "output_type": "execute_result"
    }
   ],
   "source": [
    "name[6:11:1]"
   ]
  },
  {
   "cell_type": "code",
   "execution_count": 96,
   "id": "ae4c8acc",
   "metadata": {},
   "outputs": [
    {
     "data": {
      "text/plain": [
       "'llo'"
      ]
     },
     "execution_count": 96,
     "metadata": {},
     "output_type": "execute_result"
    }
   ],
   "source": [
    "name[2:5:1]"
   ]
  },
  {
   "cell_type": "code",
   "execution_count": 101,
   "id": "a80cd50b",
   "metadata": {},
   "outputs": [
    {
     "data": {
      "text/plain": [
       "'d'"
      ]
     },
     "execution_count": 101,
     "metadata": {},
     "output_type": "execute_result"
    }
   ],
   "source": [
    "name[10:12:1] #slicing"
   ]
  },
  {
   "cell_type": "code",
   "execution_count": 100,
   "id": "f3df85e0",
   "metadata": {},
   "outputs": [
    {
     "data": {
      "text/plain": [
       "'d'"
      ]
     },
     "execution_count": 100,
     "metadata": {},
     "output_type": "execute_result"
    }
   ],
   "source": [
    "name[10] #indexing"
   ]
  },
  {
   "cell_type": "code",
   "execution_count": 102,
   "id": "02cf3611",
   "metadata": {},
   "outputs": [
    {
     "data": {
      "text/plain": [
       "'Hello '"
      ]
     },
     "execution_count": 102,
     "metadata": {},
     "output_type": "execute_result"
    }
   ],
   "source": [
    "name[-13:-5:1]"
   ]
  },
  {
   "cell_type": "code",
   "execution_count": 103,
   "id": "4abc1069",
   "metadata": {},
   "outputs": [
    {
     "data": {
      "text/plain": [
       "'Hello World'"
      ]
     },
     "execution_count": 103,
     "metadata": {},
     "output_type": "execute_result"
    }
   ],
   "source": [
    "name"
   ]
  },
  {
   "cell_type": "code",
   "execution_count": 106,
   "id": "aa93b81c",
   "metadata": {},
   "outputs": [
    {
     "data": {
      "text/plain": [
       "'el ol'"
      ]
     },
     "execution_count": 106,
     "metadata": {},
     "output_type": "execute_result"
    }
   ],
   "source": [
    "name[1:15:2] #eg: 1,3,5,7,9,11,13"
   ]
  },
  {
   "cell_type": "code",
   "execution_count": 107,
   "id": "045b187e",
   "metadata": {},
   "outputs": [
    {
     "data": {
      "text/plain": [
       "'HloW'"
      ]
     },
     "execution_count": 107,
     "metadata": {},
     "output_type": "execute_result"
    }
   ],
   "source": [
    "name[0:8:2] #0,2,4,6"
   ]
  },
  {
   "cell_type": "markdown",
   "id": "fbc59041",
   "metadata": {},
   "source": [
    "# Reverse Slicing"
   ]
  },
  {
   "cell_type": "markdown",
   "id": "c4174e50",
   "metadata": {},
   "source": [
    "name[start:stop:step]"
   ]
  },
  {
   "cell_type": "code",
   "execution_count": 108,
   "id": "03467d9c",
   "metadata": {},
   "outputs": [],
   "source": [
    "name = \"Innomatics Research Labs\""
   ]
  },
  {
   "cell_type": "code",
   "execution_count": 109,
   "id": "7b2952ed",
   "metadata": {},
   "outputs": [
    {
     "data": {
      "text/plain": [
       "'noma'"
      ]
     },
     "execution_count": 109,
     "metadata": {},
     "output_type": "execute_result"
    }
   ],
   "source": [
    "name[-22:-18:1]"
   ]
  },
  {
   "cell_type": "code",
   "execution_count": 111,
   "id": "264f0c43",
   "metadata": {},
   "outputs": [
    {
     "data": {
      "text/plain": [
       "'amon'"
      ]
     },
     "execution_count": 111,
     "metadata": {},
     "output_type": "execute_result"
    }
   ],
   "source": [
    "name[-19:-23:-1]"
   ]
  },
  {
   "cell_type": "code",
   "execution_count": 112,
   "id": "975b9a02",
   "metadata": {},
   "outputs": [
    {
     "data": {
      "text/plain": [
       "'sbaL hcraeseR scitamonnI'"
      ]
     },
     "execution_count": 112,
     "metadata": {},
     "output_type": "execute_result"
    }
   ],
   "source": [
    "name[::-1]"
   ]
  },
  {
   "cell_type": "code",
   "execution_count": 113,
   "id": "c8dea68d",
   "metadata": {},
   "outputs": [],
   "source": [
    "n = \"World\""
   ]
  },
  {
   "cell_type": "code",
   "execution_count": 115,
   "id": "c75dc835",
   "metadata": {},
   "outputs": [
    {
     "data": {
      "text/plain": [
       "'dlroW'"
      ]
     },
     "execution_count": 115,
     "metadata": {},
     "output_type": "execute_result"
    }
   ],
   "source": [
    "n[::-1] #reversing string"
   ]
  },
  {
   "cell_type": "code",
   "execution_count": 116,
   "id": "aff8a82e",
   "metadata": {},
   "outputs": [
    {
     "data": {
      "text/plain": [
       "'Innomatics Research Labs'"
      ]
     },
     "execution_count": 116,
     "metadata": {},
     "output_type": "execute_result"
    }
   ],
   "source": [
    "name[::1]"
   ]
  },
  {
   "cell_type": "code",
   "execution_count": 117,
   "id": "efb4d6f3",
   "metadata": {},
   "outputs": [
    {
     "data": {
      "text/plain": [
       "'sbaL hcraeseR scitamon'"
      ]
     },
     "execution_count": 117,
     "metadata": {},
     "output_type": "execute_result"
    }
   ],
   "source": [
    "name[-1:-23:-1]"
   ]
  },
  {
   "cell_type": "code",
   "execution_count": 118,
   "id": "6512d6c5",
   "metadata": {},
   "outputs": [
    {
     "data": {
      "text/plain": [
       "'sbaL hcraeseR scitamonn'"
      ]
     },
     "execution_count": 118,
     "metadata": {},
     "output_type": "execute_result"
    }
   ],
   "source": [
    "name[24:0:-1]"
   ]
  },
  {
   "cell_type": "code",
   "execution_count": 8,
   "id": "fff84257",
   "metadata": {},
   "outputs": [],
   "source": [
    "name = \"I am Data Scientist\""
   ]
  },
  {
   "cell_type": "code",
   "execution_count": 9,
   "id": "85e026a9",
   "metadata": {},
   "outputs": [
    {
     "data": {
      "text/plain": [
       "19"
      ]
     },
     "execution_count": 9,
     "metadata": {},
     "output_type": "execute_result"
    }
   ],
   "source": [
    "len(name)"
   ]
  },
  {
   "cell_type": "code",
   "execution_count": 10,
   "id": "8e2c2e85",
   "metadata": {},
   "outputs": [
    {
     "data": {
      "text/plain": [
       "'Data'"
      ]
     },
     "execution_count": 10,
     "metadata": {},
     "output_type": "execute_result"
    }
   ],
   "source": [
    "name[5:9]"
   ]
  },
  {
   "cell_type": "code",
   "execution_count": 12,
   "id": "68eefe82",
   "metadata": {},
   "outputs": [
    {
     "data": {
      "text/plain": [
       "'a'"
      ]
     },
     "execution_count": 12,
     "metadata": {},
     "output_type": "execute_result"
    }
   ],
   "source": [
    "name[8]"
   ]
  },
  {
   "cell_type": "markdown",
   "id": "17865226",
   "metadata": {},
   "source": [
    "# String Manipulation/Methods/Functions"
   ]
  },
  {
   "cell_type": "code",
   "execution_count": 15,
   "id": "5e02f5c3",
   "metadata": {},
   "outputs": [],
   "source": [
    "string = \"I am Data Analyst and Data Scientist too\""
   ]
  },
  {
   "cell_type": "markdown",
   "id": "6454604c",
   "metadata": {},
   "source": [
    "variable_name\n",
    ".tab - it shows all the methods/functions with that particular datatype\n",
    "\n",
    "shift + tab - it gives description"
   ]
  },
  {
   "cell_type": "code",
   "execution_count": 16,
   "id": "3fdf2941",
   "metadata": {},
   "outputs": [
    {
     "data": {
      "text/plain": [
       "'I am data analyst and data scientist too'"
      ]
     },
     "execution_count": 16,
     "metadata": {},
     "output_type": "execute_result"
    }
   ],
   "source": [
    "string.capitalize() #only first character is upper and remaining are lower"
   ]
  },
  {
   "cell_type": "code",
   "execution_count": 17,
   "id": "6f1ebcba",
   "metadata": {},
   "outputs": [
    {
     "data": {
      "text/plain": [
       "'i am data analyst and data scientist too'"
      ]
     },
     "execution_count": 17,
     "metadata": {},
     "output_type": "execute_result"
    }
   ],
   "source": [
    "string.casefold()"
   ]
  },
  {
   "cell_type": "code",
   "execution_count": 18,
   "id": "5261dafe",
   "metadata": {},
   "outputs": [
    {
     "data": {
      "text/plain": [
       "'i am data analyst and data scientist too'"
      ]
     },
     "execution_count": 18,
     "metadata": {},
     "output_type": "execute_result"
    }
   ],
   "source": [
    "string.lower() #converts all into lower case"
   ]
  },
  {
   "cell_type": "code",
   "execution_count": 19,
   "id": "ca83e34e",
   "metadata": {},
   "outputs": [
    {
     "data": {
      "text/plain": [
       "'I AM DATA ANALYST AND DATA SCIENTIST TOO'"
      ]
     },
     "execution_count": 19,
     "metadata": {},
     "output_type": "execute_result"
    }
   ],
   "source": [
    "string.upper() #converts all into upper case"
   ]
  },
  {
   "cell_type": "code",
   "execution_count": 21,
   "id": "d4c9bfed",
   "metadata": {},
   "outputs": [
    {
     "data": {
      "text/plain": [
       "'I am Data Analyst and Data Scientist too'"
      ]
     },
     "execution_count": 21,
     "metadata": {},
     "output_type": "execute_result"
    }
   ],
   "source": [
    "string"
   ]
  },
  {
   "cell_type": "code",
   "execution_count": 25,
   "id": "bb26dafb",
   "metadata": {},
   "outputs": [
    {
     "data": {
      "text/plain": [
       "7"
      ]
     },
     "execution_count": 25,
     "metadata": {},
     "output_type": "execute_result"
    }
   ],
   "source": [
    "string.count('a') #frequency of occurance of a substring"
   ]
  },
  {
   "cell_type": "code",
   "execution_count": 26,
   "id": "12376a3d",
   "metadata": {},
   "outputs": [
    {
     "data": {
      "text/plain": [
       "2"
      ]
     },
     "execution_count": 26,
     "metadata": {},
     "output_type": "execute_result"
    }
   ],
   "source": [
    "string.count('Data')"
   ]
  },
  {
   "cell_type": "code",
   "execution_count": 27,
   "id": "eb40e293",
   "metadata": {},
   "outputs": [
    {
     "data": {
      "text/plain": [
       "'I am Data Analyst and Data Scientist too'"
      ]
     },
     "execution_count": 27,
     "metadata": {},
     "output_type": "execute_result"
    }
   ],
   "source": [
    "string"
   ]
  },
  {
   "cell_type": "code",
   "execution_count": 29,
   "id": "fd176598",
   "metadata": {},
   "outputs": [
    {
     "data": {
      "text/plain": [
       "12"
      ]
     },
     "execution_count": 29,
     "metadata": {},
     "output_type": "execute_result"
    }
   ],
   "source": [
    "string.find('a',10,15)"
   ]
  },
  {
   "cell_type": "code",
   "execution_count": 30,
   "id": "2e855dd0",
   "metadata": {},
   "outputs": [
    {
     "data": {
      "text/plain": [
       "'a'"
      ]
     },
     "execution_count": 30,
     "metadata": {},
     "output_type": "execute_result"
    }
   ],
   "source": [
    "string[12]"
   ]
  },
  {
   "cell_type": "code",
   "execution_count": 39,
   "id": "7178b0d3",
   "metadata": {},
   "outputs": [
    {
     "data": {
      "text/plain": [
       "22"
      ]
     },
     "execution_count": 39,
     "metadata": {},
     "output_type": "execute_result"
    }
   ],
   "source": [
    "string.find('Data',10) #returns to index number(lowest index)"
   ]
  },
  {
   "cell_type": "code",
   "execution_count": 34,
   "id": "49ee533e",
   "metadata": {},
   "outputs": [
    {
     "data": {
      "text/plain": [
       "6"
      ]
     },
     "execution_count": 34,
     "metadata": {},
     "output_type": "execute_result"
    }
   ],
   "source": [
    "string.find('a',3)"
   ]
  },
  {
   "cell_type": "code",
   "execution_count": 35,
   "id": "567d55e6",
   "metadata": {},
   "outputs": [
    {
     "data": {
      "text/plain": [
       "'I am Data Analyst and Data Scientist too'"
      ]
     },
     "execution_count": 35,
     "metadata": {},
     "output_type": "execute_result"
    }
   ],
   "source": [
    "string"
   ]
  },
  {
   "cell_type": "code",
   "execution_count": 36,
   "id": "a1a6d23c",
   "metadata": {},
   "outputs": [
    {
     "data": {
      "text/plain": [
       "'I am SQL Analyst and SQL Scientist too'"
      ]
     },
     "execution_count": 36,
     "metadata": {},
     "output_type": "execute_result"
    }
   ],
   "source": [
    "string.replace('Data','SQL' )"
   ]
  },
  {
   "cell_type": "code",
   "execution_count": 37,
   "id": "f124fdfb",
   "metadata": {},
   "outputs": [
    {
     "data": {
      "text/plain": [
       "'I am SQL Analyst and Data Scientist too'"
      ]
     },
     "execution_count": 37,
     "metadata": {},
     "output_type": "execute_result"
    }
   ],
   "source": [
    "string.replace('Data','SQL',1 )"
   ]
  },
  {
   "cell_type": "code",
   "execution_count": 38,
   "id": "0cfbc6a3",
   "metadata": {},
   "outputs": [
    {
     "data": {
      "text/plain": [
       "'I am SQL Analyst and SQL Scientist too'"
      ]
     },
     "execution_count": 38,
     "metadata": {},
     "output_type": "execute_result"
    }
   ],
   "source": [
    "string.replace('Data','SQL',2 )"
   ]
  },
  {
   "cell_type": "code",
   "execution_count": 41,
   "id": "94b9b933",
   "metadata": {},
   "outputs": [],
   "source": [
    "string1 = \"Iam learning python\""
   ]
  },
  {
   "cell_type": "code",
   "execution_count": 42,
   "id": "522abddc",
   "metadata": {},
   "outputs": [
    {
     "data": {
      "text/plain": [
       "'Iam learning python'"
      ]
     },
     "execution_count": 42,
     "metadata": {},
     "output_type": "execute_result"
    }
   ],
   "source": [
    "string1.capitalize()"
   ]
  },
  {
   "cell_type": "code",
   "execution_count": 43,
   "id": "a95e2926",
   "metadata": {},
   "outputs": [
    {
     "data": {
      "text/plain": [
       "'iam learning python'"
      ]
     },
     "execution_count": 43,
     "metadata": {},
     "output_type": "execute_result"
    }
   ],
   "source": [
    "string1.casefold()"
   ]
  },
  {
   "cell_type": "code",
   "execution_count": 44,
   "id": "a56b7796",
   "metadata": {},
   "outputs": [
    {
     "data": {
      "text/plain": [
       "'iam learning python'"
      ]
     },
     "execution_count": 44,
     "metadata": {},
     "output_type": "execute_result"
    }
   ],
   "source": [
    "string1.lower()"
   ]
  },
  {
   "cell_type": "code",
   "execution_count": 46,
   "id": "5fd93b8f",
   "metadata": {},
   "outputs": [
    {
     "data": {
      "text/plain": [
       "'IAM LEARNING PYTHON'"
      ]
     },
     "execution_count": 46,
     "metadata": {},
     "output_type": "execute_result"
    }
   ],
   "source": [
    "string.upper()"
   ]
  },
  {
   "cell_type": "code",
   "execution_count": 47,
   "id": "7c0d35b6",
   "metadata": {},
   "outputs": [
    {
     "data": {
      "text/plain": [
       "3"
      ]
     },
     "execution_count": 47,
     "metadata": {},
     "output_type": "execute_result"
    }
   ],
   "source": [
    "string.count('n')"
   ]
  },
  {
   "cell_type": "code",
   "execution_count": 48,
   "id": "a13e7065",
   "metadata": {},
   "outputs": [
    {
     "data": {
      "text/plain": [
       "8"
      ]
     },
     "execution_count": 48,
     "metadata": {},
     "output_type": "execute_result"
    }
   ],
   "source": [
    "string.find('n',5)"
   ]
  },
  {
   "cell_type": "code",
   "execution_count": 51,
   "id": "db4cc46f",
   "metadata": {},
   "outputs": [
    {
     "data": {
      "text/plain": [
       "'Iam learning PYthon'"
      ]
     },
     "execution_count": 51,
     "metadata": {},
     "output_type": "execute_result"
    }
   ],
   "source": [
    "string.replace('py','PY')"
   ]
  },
  {
   "cell_type": "code",
   "execution_count": 52,
   "id": "38934db6",
   "metadata": {},
   "outputs": [
    {
     "data": {
      "text/plain": [
       "-1"
      ]
     },
     "execution_count": 52,
     "metadata": {},
     "output_type": "execute_result"
    }
   ],
   "source": [
    "string.find('z',-1)"
   ]
  },
  {
   "cell_type": "code",
   "execution_count": 53,
   "id": "07d54fb5",
   "metadata": {},
   "outputs": [],
   "source": [
    "string = \"I am Data Analyst and Data Scientist too\""
   ]
  },
  {
   "cell_type": "code",
   "execution_count": 54,
   "id": "cd77dc0d",
   "metadata": {},
   "outputs": [
    {
     "data": {
      "text/plain": [
       "-1"
      ]
     },
     "execution_count": 54,
     "metadata": {},
     "output_type": "execute_result"
    }
   ],
   "source": [
    "string.find('z')"
   ]
  },
  {
   "cell_type": "code",
   "execution_count": 55,
   "id": "6a31791f",
   "metadata": {},
   "outputs": [
    {
     "data": {
      "text/plain": [
       "5"
      ]
     },
     "execution_count": 55,
     "metadata": {},
     "output_type": "execute_result"
    }
   ],
   "source": [
    "string.index('Data')"
   ]
  },
  {
   "cell_type": "code",
   "execution_count": 56,
   "id": "e76b8a3e",
   "metadata": {},
   "outputs": [
    {
     "data": {
      "text/plain": [
       "5"
      ]
     },
     "execution_count": 56,
     "metadata": {},
     "output_type": "execute_result"
    }
   ],
   "source": [
    "string.find('Data')"
   ]
  },
  {
   "cell_type": "code",
   "execution_count": 57,
   "id": "111d4e8b",
   "metadata": {},
   "outputs": [
    {
     "data": {
      "text/plain": [
       "'I am Data Analyst and Data Scientist too'"
      ]
     },
     "execution_count": 57,
     "metadata": {},
     "output_type": "execute_result"
    }
   ],
   "source": [
    "string"
   ]
  },
  {
   "cell_type": "code",
   "execution_count": 58,
   "id": "d27996d9",
   "metadata": {},
   "outputs": [
    {
     "data": {
      "text/plain": [
       "['I', 'am', 'Data', 'Analyst', 'and', 'Data', 'Scientist', 'too']"
      ]
     },
     "execution_count": 58,
     "metadata": {},
     "output_type": "execute_result"
    }
   ],
   "source": [
    "string.split()"
   ]
  },
  {
   "cell_type": "code",
   "execution_count": 79,
   "id": "a5a737fa",
   "metadata": {},
   "outputs": [],
   "source": [
    "fruits=\"Mango, banana, Grape, apple\""
   ]
  },
  {
   "cell_type": "code",
   "execution_count": 80,
   "id": "0bf87d1f",
   "metadata": {},
   "outputs": [
    {
     "data": {
      "text/plain": [
       "['Mango,', 'banana,', 'Grape,', 'apple']"
      ]
     },
     "execution_count": 80,
     "metadata": {},
     "output_type": "execute_result"
    }
   ],
   "source": [
    "fruits.split()"
   ]
  },
  {
   "cell_type": "code",
   "execution_count": 66,
   "id": "5fa13969",
   "metadata": {},
   "outputs": [
    {
     "data": {
      "text/plain": [
       "['I', 'am', 'Data', 'Analyst', 'and', 'Data', 'Scientist', 'too']"
      ]
     },
     "execution_count": 66,
     "metadata": {},
     "output_type": "execute_result"
    }
   ],
   "source": [
    "string.split()"
   ]
  },
  {
   "cell_type": "code",
   "execution_count": 67,
   "id": "b49161fe",
   "metadata": {},
   "outputs": [],
   "source": [
    "name = \"  Hello World \""
   ]
  },
  {
   "cell_type": "code",
   "execution_count": 68,
   "id": "aff21d05",
   "metadata": {},
   "outputs": [
    {
     "data": {
      "text/plain": [
       "'Hello World'"
      ]
     },
     "execution_count": 68,
     "metadata": {},
     "output_type": "execute_result"
    }
   ],
   "source": [
    "name.strip()"
   ]
  },
  {
   "cell_type": "code",
   "execution_count": 69,
   "id": "bdae060e",
   "metadata": {},
   "outputs": [
    {
     "data": {
      "text/plain": [
       "'  Hello World'"
      ]
     },
     "execution_count": 69,
     "metadata": {},
     "output_type": "execute_result"
    }
   ],
   "source": [
    "name.rstrip()"
   ]
  },
  {
   "cell_type": "code",
   "execution_count": 70,
   "id": "41bfe8f2",
   "metadata": {},
   "outputs": [
    {
     "data": {
      "text/plain": [
       "'Hello World '"
      ]
     },
     "execution_count": 70,
     "metadata": {},
     "output_type": "execute_result"
    }
   ],
   "source": [
    "name.lstrip()"
   ]
  },
  {
   "cell_type": "code",
   "execution_count": 81,
   "id": "c31a84bc",
   "metadata": {},
   "outputs": [
    {
     "data": {
      "text/plain": [
       "'I am Data Analyst and Data Scientist too'"
      ]
     },
     "execution_count": 81,
     "metadata": {},
     "output_type": "execute_result"
    }
   ],
   "source": [
    "string"
   ]
  },
  {
   "cell_type": "code",
   "execution_count": 82,
   "id": "efb2b0a3",
   "metadata": {},
   "outputs": [
    {
     "data": {
      "text/plain": [
       "'i AM dATA aNALYST AND dATA sCIENTIST TOO'"
      ]
     },
     "execution_count": 82,
     "metadata": {},
     "output_type": "execute_result"
    }
   ],
   "source": [
    "string.swapcase()"
   ]
  },
  {
   "cell_type": "code",
   "execution_count": 83,
   "id": "48c4cde4",
   "metadata": {},
   "outputs": [],
   "source": [
    "name = \"Hello\""
   ]
  },
  {
   "cell_type": "code",
   "execution_count": 86,
   "id": "7b3b9a8b",
   "metadata": {},
   "outputs": [
    {
     "data": {
      "text/plain": [
       "'0000Hello'"
      ]
     },
     "execution_count": 86,
     "metadata": {},
     "output_type": "execute_result"
    }
   ],
   "source": [
    "name.zfill(9) #zfill indicates zero fill"
   ]
  },
  {
   "cell_type": "code",
   "execution_count": 87,
   "id": "e371ced6",
   "metadata": {},
   "outputs": [
    {
     "data": {
      "text/plain": [
       "9"
      ]
     },
     "execution_count": 87,
     "metadata": {},
     "output_type": "execute_result"
    }
   ],
   "source": [
    "len(name.zfill(9))"
   ]
  },
  {
   "cell_type": "code",
   "execution_count": 88,
   "id": "56768cbb",
   "metadata": {},
   "outputs": [
    {
     "data": {
      "text/plain": [
       "'**Hello**'"
      ]
     },
     "execution_count": 88,
     "metadata": {},
     "output_type": "execute_result"
    }
   ],
   "source": [
    "name.center(9,\"*\")"
   ]
  },
  {
   "cell_type": "code",
   "execution_count": 89,
   "id": "ea1573d3",
   "metadata": {},
   "outputs": [
    {
     "data": {
      "text/plain": [
       "'********Hello********'"
      ]
     },
     "execution_count": 89,
     "metadata": {},
     "output_type": "execute_result"
    }
   ],
   "source": [
    "name.center(21,\"*\")"
   ]
  },
  {
   "cell_type": "code",
   "execution_count": 90,
   "id": "3c6707d7",
   "metadata": {},
   "outputs": [
    {
     "data": {
      "text/plain": [
       "'i AM dATA aNALYST AND dATA sCIENTIST TOO'"
      ]
     },
     "execution_count": 90,
     "metadata": {},
     "output_type": "execute_result"
    }
   ],
   "source": [
    "string.swapcase()"
   ]
  },
  {
   "cell_type": "code",
   "execution_count": 93,
   "id": "d98e9515",
   "metadata": {},
   "outputs": [
    {
     "data": {
      "text/plain": [
       "'000Hello'"
      ]
     },
     "execution_count": 93,
     "metadata": {},
     "output_type": "execute_result"
    }
   ],
   "source": [
    "name.zfill(8,)"
   ]
  },
  {
   "cell_type": "code",
   "execution_count": 95,
   "id": "10a45b04",
   "metadata": {},
   "outputs": [
    {
     "data": {
      "text/plain": [
       "'&&&&&&Hello&&&&&&&'"
      ]
     },
     "execution_count": 95,
     "metadata": {},
     "output_type": "execute_result"
    }
   ],
   "source": [
    "name.center(18,\"&\")"
   ]
  },
  {
   "cell_type": "code",
   "execution_count": 96,
   "id": "499127d0",
   "metadata": {},
   "outputs": [
    {
     "data": {
      "text/plain": [
       "'******Hello*******'"
      ]
     },
     "execution_count": 96,
     "metadata": {},
     "output_type": "execute_result"
    }
   ],
   "source": [
    "name.center(18,\"*\")"
   ]
  },
  {
   "cell_type": "markdown",
   "id": "b8c8a134",
   "metadata": {},
   "source": [
    "# Checking conditions"
   ]
  },
  {
   "cell_type": "code",
   "execution_count": 97,
   "id": "5382b064",
   "metadata": {},
   "outputs": [
    {
     "data": {
      "text/plain": [
       "'I am Data Analyst and Data Scientist too'"
      ]
     },
     "execution_count": 97,
     "metadata": {},
     "output_type": "execute_result"
    }
   ],
   "source": [
    "string"
   ]
  },
  {
   "cell_type": "code",
   "execution_count": 98,
   "id": "5c4e15a8",
   "metadata": {},
   "outputs": [
    {
     "data": {
      "text/plain": [
       "False"
      ]
     },
     "execution_count": 98,
     "metadata": {},
     "output_type": "execute_result"
    }
   ],
   "source": [
    "string.isalnum()"
   ]
  },
  {
   "cell_type": "code",
   "execution_count": 99,
   "id": "1988dd41",
   "metadata": {},
   "outputs": [],
   "source": [
    "name = \"hello123\""
   ]
  },
  {
   "cell_type": "code",
   "execution_count": 100,
   "id": "4e7a9ac4",
   "metadata": {},
   "outputs": [
    {
     "data": {
      "text/plain": [
       "True"
      ]
     },
     "execution_count": 100,
     "metadata": {},
     "output_type": "execute_result"
    }
   ],
   "source": [
    "name.isalnum()"
   ]
  },
  {
   "cell_type": "code",
   "execution_count": 101,
   "id": "542fc8ee",
   "metadata": {},
   "outputs": [
    {
     "data": {
      "text/plain": [
       "False"
      ]
     },
     "execution_count": 101,
     "metadata": {},
     "output_type": "execute_result"
    }
   ],
   "source": [
    "name.isalpha()"
   ]
  },
  {
   "cell_type": "code",
   "execution_count": 102,
   "id": "e2a7741d",
   "metadata": {},
   "outputs": [
    {
     "data": {
      "text/plain": [
       "False"
      ]
     },
     "execution_count": 102,
     "metadata": {},
     "output_type": "execute_result"
    }
   ],
   "source": [
    "string.isalpha()"
   ]
  },
  {
   "cell_type": "code",
   "execution_count": 103,
   "id": "e19c0269",
   "metadata": {},
   "outputs": [],
   "source": [
    "n = \"helloworld\"\n"
   ]
  },
  {
   "cell_type": "code",
   "execution_count": 104,
   "id": "bf5b1425",
   "metadata": {},
   "outputs": [
    {
     "data": {
      "text/plain": [
       "True"
      ]
     },
     "execution_count": 104,
     "metadata": {},
     "output_type": "execute_result"
    }
   ],
   "source": [
    "n.isalpha()"
   ]
  },
  {
   "cell_type": "code",
   "execution_count": 105,
   "id": "0d3c4f67",
   "metadata": {},
   "outputs": [
    {
     "data": {
      "text/plain": [
       "False"
      ]
     },
     "execution_count": 105,
     "metadata": {},
     "output_type": "execute_result"
    }
   ],
   "source": [
    "string.isdigit()"
   ]
  },
  {
   "cell_type": "code",
   "execution_count": 106,
   "id": "4e8ff539",
   "metadata": {},
   "outputs": [],
   "source": [
    "num = \"1224\""
   ]
  },
  {
   "cell_type": "code",
   "execution_count": 107,
   "id": "b045fd73",
   "metadata": {},
   "outputs": [
    {
     "data": {
      "text/plain": [
       "True"
      ]
     },
     "execution_count": 107,
     "metadata": {},
     "output_type": "execute_result"
    }
   ],
   "source": [
    "num.isdigit()"
   ]
  },
  {
   "cell_type": "code",
   "execution_count": 109,
   "id": "ee31808a",
   "metadata": {},
   "outputs": [
    {
     "data": {
      "text/plain": [
       "False"
      ]
     },
     "execution_count": 109,
     "metadata": {},
     "output_type": "execute_result"
    }
   ],
   "source": [
    "string.islower()"
   ]
  },
  {
   "cell_type": "code",
   "execution_count": 110,
   "id": "0e527316",
   "metadata": {},
   "outputs": [
    {
     "data": {
      "text/plain": [
       "False"
      ]
     },
     "execution_count": 110,
     "metadata": {},
     "output_type": "execute_result"
    }
   ],
   "source": [
    "string.isspace()"
   ]
  },
  {
   "cell_type": "code",
   "execution_count": 111,
   "id": "1d161df2",
   "metadata": {},
   "outputs": [],
   "source": [
    "z = ' '"
   ]
  },
  {
   "cell_type": "code",
   "execution_count": 112,
   "id": "d0b0dadf",
   "metadata": {},
   "outputs": [
    {
     "data": {
      "text/plain": [
       "True"
      ]
     },
     "execution_count": 112,
     "metadata": {},
     "output_type": "execute_result"
    }
   ],
   "source": [
    "z.isspace()"
   ]
  },
  {
   "cell_type": "code",
   "execution_count": 113,
   "id": "a77d87e4",
   "metadata": {},
   "outputs": [
    {
     "data": {
      "text/plain": [
       "False"
      ]
     },
     "execution_count": 113,
     "metadata": {},
     "output_type": "execute_result"
    }
   ],
   "source": [
    "string.isupper()"
   ]
  },
  {
   "cell_type": "code",
   "execution_count": 114,
   "id": "d1f0fa99",
   "metadata": {},
   "outputs": [
    {
     "data": {
      "text/plain": [
       "False"
      ]
     },
     "execution_count": 114,
     "metadata": {},
     "output_type": "execute_result"
    }
   ],
   "source": [
    "string.islower()"
   ]
  },
  {
   "cell_type": "code",
   "execution_count": 115,
   "id": "4b2ad218",
   "metadata": {},
   "outputs": [
    {
     "data": {
      "text/plain": [
       "'I am Data Analyst and Data Scientist too'"
      ]
     },
     "execution_count": 115,
     "metadata": {},
     "output_type": "execute_result"
    }
   ],
   "source": [
    "string"
   ]
  },
  {
   "cell_type": "code",
   "execution_count": 116,
   "id": "9d3d48f2",
   "metadata": {},
   "outputs": [
    {
     "data": {
      "text/plain": [
       "True"
      ]
     },
     "execution_count": 116,
     "metadata": {},
     "output_type": "execute_result"
    }
   ],
   "source": [
    "string.startswith('I am')"
   ]
  },
  {
   "cell_type": "code",
   "execution_count": 117,
   "id": "d65d2ff2",
   "metadata": {},
   "outputs": [
    {
     "data": {
      "text/plain": [
       "False"
      ]
     },
     "execution_count": 117,
     "metadata": {},
     "output_type": "execute_result"
    }
   ],
   "source": [
    "string.startswith('I amData')"
   ]
  },
  {
   "cell_type": "code",
   "execution_count": 118,
   "id": "a4770c9e",
   "metadata": {},
   "outputs": [
    {
     "data": {
      "text/plain": [
       "True"
      ]
     },
     "execution_count": 118,
     "metadata": {},
     "output_type": "execute_result"
    }
   ],
   "source": [
    "string.startswith('I am Data')"
   ]
  },
  {
   "cell_type": "code",
   "execution_count": 120,
   "id": "d4a9f58b",
   "metadata": {},
   "outputs": [
    {
     "data": {
      "text/plain": [
       "True"
      ]
     },
     "execution_count": 120,
     "metadata": {},
     "output_type": "execute_result"
    }
   ],
   "source": [
    "string.endswith('too')"
   ]
  },
  {
   "cell_type": "code",
   "execution_count": 121,
   "id": "6619b1d6",
   "metadata": {},
   "outputs": [
    {
     "name": "stdout",
     "output_type": "stream",
     "text": [
      "Enter your email ID: vk18@gmail.com\n"
     ]
    },
    {
     "data": {
      "text/plain": [
       "True"
      ]
     },
     "execution_count": 121,
     "metadata": {},
     "output_type": "execute_result"
    }
   ],
   "source": [
    "gmail = input(\"Enter your email ID: \")\n",
    "gmail.endswith(\"@gmail.com\")"
   ]
  },
  {
   "cell_type": "code",
   "execution_count": 123,
   "id": "650b5bb5",
   "metadata": {},
   "outputs": [
    {
     "name": "stdout",
     "output_type": "stream",
     "text": [
      "Enter website: gdgdsjkhdnksl\n"
     ]
    },
    {
     "data": {
      "text/plain": [
       "False"
      ]
     },
     "execution_count": 123,
     "metadata": {},
     "output_type": "execute_result"
    }
   ],
   "source": [
    "website = input(\"Enter website: \")\n",
    "website.startswith('www')\n",
    "website.endswith('.com')"
   ]
  },
  {
   "cell_type": "code",
   "execution_count": 2,
   "id": "30c1843f",
   "metadata": {},
   "outputs": [
    {
     "name": "stdout",
     "output_type": "stream",
     "text": [
      "Enter website: djgndmgl.com\n",
      "False\n",
      "True\n"
     ]
    }
   ],
   "source": [
    "website = input(\"Enter website: \")\n",
    "print(website.startswith('www'))\n",
    "print(website.endswith('.com'))"
   ]
  },
  {
   "cell_type": "code",
   "execution_count": 125,
   "id": "9365e9fc",
   "metadata": {},
   "outputs": [
    {
     "name": "stdout",
     "output_type": "stream",
     "text": [
      "Enter website: www.abdm.net\n"
     ]
    },
    {
     "data": {
      "text/plain": [
       "False"
      ]
     },
     "execution_count": 125,
     "metadata": {},
     "output_type": "execute_result"
    }
   ],
   "source": [
    "website = input(\"Enter website: \")\n",
    "(website.startswith('www')) and (website.endswith('.com'))"
   ]
  },
  {
   "cell_type": "markdown",
   "id": "8d9cc05a",
   "metadata": {},
   "source": [
    "# Formatting Strings"
   ]
  },
  {
   "cell_type": "code",
   "execution_count": 126,
   "id": "0d80a7e4",
   "metadata": {},
   "outputs": [
    {
     "data": {
      "text/plain": [
       "'I am Data Analyst and Data Scientist too'"
      ]
     },
     "execution_count": 126,
     "metadata": {},
     "output_type": "execute_result"
    }
   ],
   "source": [
    "string"
   ]
  },
  {
   "cell_type": "code",
   "execution_count": 139,
   "id": "f2c239d9",
   "metadata": {},
   "outputs": [
    {
     "name": "stdout",
     "output_type": "stream",
     "text": [
      "Enter your name :: Aachal\n",
      "your city name :: Maharasthra\n",
      "Enter your marks :: 92\n"
     ]
    }
   ],
   "source": [
    "name = input(\"Enter your name :: \")\n",
    "city = input(\"your city name :: \")\n",
    "marks = int(input(\"Enter your marks :: \"))\n"
   ]
  },
  {
   "cell_type": "code",
   "execution_count": 143,
   "id": "1d3f2454",
   "metadata": {},
   "outputs": [
    {
     "name": "stdout",
     "output_type": "stream",
     "text": [
      "Hello Aachal you are from Maharasthra marks are 92\n"
     ]
    }
   ],
   "source": [
    "print('Hello '+name+ ' you are from '+city+' marks are ' + str (marks))"
   ]
  },
  {
   "cell_type": "code",
   "execution_count": 144,
   "id": "1db9ee3b",
   "metadata": {},
   "outputs": [
    {
     "name": "stdout",
     "output_type": "stream",
     "text": [
      "Hello Maharasthra you are from Aachal and marks are 92\n"
     ]
    }
   ],
   "source": [
    "print('Hello {} you are from {} and marks are {}'.format(city,name,marks))"
   ]
  },
  {
   "cell_type": "code",
   "execution_count": 145,
   "id": "c75720eb",
   "metadata": {},
   "outputs": [
    {
     "name": "stdout",
     "output_type": "stream",
     "text": [
      "Hello Aachal you are from Maharasthra and marks are 92\n"
     ]
    }
   ],
   "source": [
    "print('Hello {} you are from {} and marks are {}'.format(name,city,marks))"
   ]
  },
  {
   "cell_type": "code",
   "execution_count": 146,
   "id": "89165749",
   "metadata": {},
   "outputs": [
    {
     "name": "stdout",
     "output_type": "stream",
     "text": [
      "Hello Aachal you are from Maharasthra and marks are 92\n"
     ]
    }
   ],
   "source": [
    "print(f'Hello {name} you are from {city} and marks are {marks}')"
   ]
  },
  {
   "cell_type": "code",
   "execution_count": 147,
   "id": "c5fa8b09",
   "metadata": {},
   "outputs": [
    {
     "name": "stdout",
     "output_type": "stream",
     "text": [
      "Hello Aachal you are from Maharasthra and marks are 92\n"
     ]
    }
   ],
   "source": [
    "print('Hello',name,'you are from',city,'and marks are',marks)"
   ]
  },
  {
   "cell_type": "markdown",
   "id": "b62459e5",
   "metadata": {},
   "source": [
    "# Type Casting"
   ]
  },
  {
   "cell_type": "markdown",
   "id": "06897eeb",
   "metadata": {},
   "source": [
    "casting - changing/transforming"
   ]
  },
  {
   "cell_type": "code",
   "execution_count": 148,
   "id": "89e570f7",
   "metadata": {},
   "outputs": [],
   "source": [
    "a = 1010"
   ]
  },
  {
   "cell_type": "code",
   "execution_count": 149,
   "id": "b23f1f77",
   "metadata": {},
   "outputs": [
    {
     "data": {
      "text/plain": [
       "int"
      ]
     },
     "execution_count": 149,
     "metadata": {},
     "output_type": "execute_result"
    }
   ],
   "source": [
    "type(a)"
   ]
  },
  {
   "cell_type": "code",
   "execution_count": 151,
   "id": "535911c6",
   "metadata": {},
   "outputs": [],
   "source": [
    "phone = 9548215267"
   ]
  },
  {
   "cell_type": "code",
   "execution_count": 152,
   "id": "05fda145",
   "metadata": {},
   "outputs": [
    {
     "data": {
      "text/plain": [
       "'9548215267'"
      ]
     },
     "execution_count": 152,
     "metadata": {},
     "output_type": "execute_result"
    }
   ],
   "source": [
    "str(phone)"
   ]
  },
  {
   "cell_type": "code",
   "execution_count": 153,
   "id": "e9ea4a30",
   "metadata": {},
   "outputs": [
    {
     "data": {
      "text/plain": [
       "10"
      ]
     },
     "execution_count": 153,
     "metadata": {},
     "output_type": "execute_result"
    }
   ],
   "source": [
    "len(str(phone))"
   ]
  },
  {
   "cell_type": "code",
   "execution_count": 154,
   "id": "c899f8f5",
   "metadata": {},
   "outputs": [
    {
     "data": {
      "text/plain": [
       "str"
      ]
     },
     "execution_count": 154,
     "metadata": {},
     "output_type": "execute_result"
    }
   ],
   "source": [
    "type(str(phone))"
   ]
  },
  {
   "cell_type": "code",
   "execution_count": 155,
   "id": "2ffb9504",
   "metadata": {},
   "outputs": [
    {
     "name": "stdout",
     "output_type": "stream",
     "text": [
      "Enter first num : 45\n",
      "Enter second num : 55\n"
     ]
    }
   ],
   "source": [
    "a = input(\"Enter first num : \")\n",
    "b = input(\"Enter second num : \")\n"
   ]
  },
  {
   "cell_type": "code",
   "execution_count": 157,
   "id": "90bdd525",
   "metadata": {},
   "outputs": [
    {
     "name": "stdout",
     "output_type": "stream",
     "text": [
      "4555\n"
     ]
    }
   ],
   "source": [
    "print(a+b)"
   ]
  },
  {
   "cell_type": "code",
   "execution_count": 158,
   "id": "21f0870e",
   "metadata": {},
   "outputs": [
    {
     "name": "stdout",
     "output_type": "stream",
     "text": [
      "100\n"
     ]
    }
   ],
   "source": [
    "print(int(a)+int(b))"
   ]
  },
  {
   "cell_type": "code",
   "execution_count": 159,
   "id": "88f85fd9",
   "metadata": {},
   "outputs": [
    {
     "name": "stdout",
     "output_type": "stream",
     "text": [
      "Enter first num : 60\n",
      "Enter second num : 30\n"
     ]
    }
   ],
   "source": [
    "a = int(input(\"Enter first num : \"))\n",
    "b = int(input(\"Enter second num : \"))\n"
   ]
  },
  {
   "cell_type": "code",
   "execution_count": 160,
   "id": "3d963b9f",
   "metadata": {},
   "outputs": [
    {
     "name": "stdout",
     "output_type": "stream",
     "text": [
      "90\n"
     ]
    }
   ],
   "source": [
    "print(a + b)"
   ]
  },
  {
   "cell_type": "markdown",
   "id": "19c68223",
   "metadata": {},
   "source": [
    "Other to Integer"
   ]
  },
  {
   "cell_type": "code",
   "execution_count": 161,
   "id": "8f1cf93c",
   "metadata": {},
   "outputs": [
    {
     "data": {
      "text/plain": [
       "10"
      ]
     },
     "execution_count": 161,
     "metadata": {},
     "output_type": "execute_result"
    }
   ],
   "source": [
    "a = '10'\n",
    "int(a)"
   ]
  },
  {
   "cell_type": "code",
   "execution_count": 164,
   "id": "d2a690b2",
   "metadata": {},
   "outputs": [],
   "source": [
    "a = '10'\n",
    "b = int(a)"
   ]
  },
  {
   "cell_type": "code",
   "execution_count": 165,
   "id": "3067d082",
   "metadata": {},
   "outputs": [
    {
     "data": {
      "text/plain": [
       "10"
      ]
     },
     "execution_count": 165,
     "metadata": {},
     "output_type": "execute_result"
    }
   ],
   "source": [
    "b"
   ]
  },
  {
   "cell_type": "code",
   "execution_count": 166,
   "id": "801b8cfa",
   "metadata": {},
   "outputs": [
    {
     "data": {
      "text/plain": [
       "45"
      ]
     },
     "execution_count": 166,
     "metadata": {},
     "output_type": "execute_result"
    }
   ],
   "source": [
    "#float\n",
    "num=45.25\n",
    "int(num)"
   ]
  },
  {
   "cell_type": "markdown",
   "id": "911444c7",
   "metadata": {},
   "source": [
    "Other to Float"
   ]
  },
  {
   "cell_type": "code",
   "execution_count": 167,
   "id": "d8e3b5dc",
   "metadata": {},
   "outputs": [
    {
     "data": {
      "text/plain": [
       "28.0"
      ]
     },
     "execution_count": 167,
     "metadata": {},
     "output_type": "execute_result"
    }
   ],
   "source": [
    "a = 28\n",
    "float(a)"
   ]
  },
  {
   "cell_type": "code",
   "execution_count": 168,
   "id": "09ec0601",
   "metadata": {},
   "outputs": [
    {
     "data": {
      "text/plain": [
       "14.65"
      ]
     },
     "execution_count": 168,
     "metadata": {},
     "output_type": "execute_result"
    }
   ],
   "source": [
    "a='14.65'\n",
    "float(a)\n"
   ]
  },
  {
   "cell_type": "markdown",
   "id": "79157870",
   "metadata": {},
   "source": [
    "Other to String"
   ]
  },
  {
   "cell_type": "code",
   "execution_count": 169,
   "id": "7b478341",
   "metadata": {},
   "outputs": [
    {
     "data": {
      "text/plain": [
       "'20'"
      ]
     },
     "execution_count": 169,
     "metadata": {},
     "output_type": "execute_result"
    }
   ],
   "source": [
    "a = 20\n",
    "str(a)"
   ]
  },
  {
   "cell_type": "code",
   "execution_count": 170,
   "id": "4feb7beb",
   "metadata": {},
   "outputs": [
    {
     "data": {
      "text/plain": [
       "'175.67'"
      ]
     },
     "execution_count": 170,
     "metadata": {},
     "output_type": "execute_result"
    }
   ],
   "source": [
    "b = 175.67\n",
    "str(b)"
   ]
  },
  {
   "cell_type": "code",
   "execution_count": 171,
   "id": "ac71259b",
   "metadata": {},
   "outputs": [
    {
     "name": "stdout",
     "output_type": "stream",
     "text": [
      "175.67\n"
     ]
    }
   ],
   "source": [
    "b = 175.67\n",
    "print(str(b))"
   ]
  },
  {
   "cell_type": "code",
   "execution_count": 172,
   "id": "c3d278a0",
   "metadata": {},
   "outputs": [
    {
     "data": {
      "text/plain": [
       "str"
      ]
     },
     "execution_count": 172,
     "metadata": {},
     "output_type": "execute_result"
    }
   ],
   "source": [
    "type(str(b))"
   ]
  },
  {
   "cell_type": "markdown",
   "id": "83ffc132",
   "metadata": {},
   "source": [
    "Other to Bool"
   ]
  },
  {
   "cell_type": "code",
   "execution_count": 173,
   "id": "5cc40e36",
   "metadata": {},
   "outputs": [
    {
     "data": {
      "text/plain": [
       "False"
      ]
     },
     "execution_count": 173,
     "metadata": {},
     "output_type": "execute_result"
    }
   ],
   "source": [
    "a = 0\n",
    "bool(0)"
   ]
  },
  {
   "cell_type": "code",
   "execution_count": 174,
   "id": "98f9cf91",
   "metadata": {},
   "outputs": [
    {
     "data": {
      "text/plain": [
       "True"
      ]
     },
     "execution_count": 174,
     "metadata": {},
     "output_type": "execute_result"
    }
   ],
   "source": [
    "f1 = 20.5\n",
    "bool(f1)"
   ]
  },
  {
   "cell_type": "code",
   "execution_count": 175,
   "id": "4040cbe5",
   "metadata": {},
   "outputs": [
    {
     "data": {
      "text/plain": [
       "False"
      ]
     },
     "execution_count": 175,
     "metadata": {},
     "output_type": "execute_result"
    }
   ],
   "source": [
    "string = ''\n",
    "bool(string)"
   ]
  },
  {
   "cell_type": "code",
   "execution_count": 176,
   "id": "8a4a8cb5",
   "metadata": {},
   "outputs": [
    {
     "data": {
      "text/plain": [
       "True"
      ]
     },
     "execution_count": 176,
     "metadata": {},
     "output_type": "execute_result"
    }
   ],
   "source": [
    "a = 5\n",
    "bool(a)"
   ]
  },
  {
   "cell_type": "code",
   "execution_count": 177,
   "id": "69d1de01",
   "metadata": {},
   "outputs": [
    {
     "data": {
      "text/plain": [
       "True"
      ]
     },
     "execution_count": 177,
     "metadata": {},
     "output_type": "execute_result"
    }
   ],
   "source": [
    "f1 = 0.005\n",
    "bool(f1)"
   ]
  },
  {
   "cell_type": "code",
   "execution_count": 181,
   "id": "ab5df20b",
   "metadata": {},
   "outputs": [],
   "source": [
    "a = 10 \n",
    "b = str(10)"
   ]
  },
  {
   "cell_type": "code",
   "execution_count": 179,
   "id": "cc4b63b4",
   "metadata": {},
   "outputs": [
    {
     "data": {
      "text/plain": [
       "int"
      ]
     },
     "execution_count": 179,
     "metadata": {},
     "output_type": "execute_result"
    }
   ],
   "source": [
    "type(a)"
   ]
  },
  {
   "cell_type": "code",
   "execution_count": 182,
   "id": "6a04975e",
   "metadata": {},
   "outputs": [
    {
     "data": {
      "text/plain": [
       "str"
      ]
     },
     "execution_count": 182,
     "metadata": {},
     "output_type": "execute_result"
    }
   ],
   "source": [
    "type(b)"
   ]
  },
  {
   "cell_type": "markdown",
   "id": "29036092",
   "metadata": {},
   "source": [
    "# Collection datatype/ Sequence datatype"
   ]
  },
  {
   "cell_type": "markdown",
   "id": "265befab",
   "metadata": {},
   "source": [
    "List\n",
    "\n",
    "Tuple\n",
    "\n",
    "Set\n",
    "\n",
    "Dictionary \n",
    "\n",
    "Frozen set"
   ]
  },
  {
   "cell_type": "code",
   "execution_count": null,
   "id": "c8e8c15e",
   "metadata": {},
   "outputs": [],
   "source": []
  }
 ],
 "metadata": {
  "kernelspec": {
   "display_name": "Python 3 (ipykernel)",
   "language": "python",
   "name": "python3"
  },
  "language_info": {
   "codemirror_mode": {
    "name": "ipython",
    "version": 3
   },
   "file_extension": ".py",
   "mimetype": "text/x-python",
   "name": "python",
   "nbconvert_exporter": "python",
   "pygments_lexer": "ipython3",
   "version": "3.11.4"
  }
 },
 "nbformat": 4,
 "nbformat_minor": 5
}
