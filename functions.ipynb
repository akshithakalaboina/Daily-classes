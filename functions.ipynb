{
 "cells": [
  {
   "cell_type": "markdown",
   "id": "2e9b1341",
   "metadata": {},
   "source": [
    "Functions are of two types\n",
    "\n",
    "1. predefined \n",
    "\n",
    "2. user defined/custom function"
   ]
  },
  {
   "cell_type": "markdown",
   "id": "c89573e0",
   "metadata": {},
   "source": [
    "predefined ---- by default       ------------------- custom/user defined\n",
    "\n",
    "print() ----------------------------------------------- programmer\n",
    "\n",
    "input()\n",
    "\n",
    "len()\n",
    "\n",
    "type()"
   ]
  },
  {
   "cell_type": "markdown",
   "id": "889ad4c6",
   "metadata": {},
   "source": [
    "user defined/custom\n",
    "\n",
    "1.first we need to define a function(creating a function)\n",
    "\n",
    "2. then we have to call function which we have created"
   ]
  },
  {
   "cell_type": "markdown",
   "id": "5597c4f4",
   "metadata": {},
   "source": [
    "# create/defining the function"
   ]
  },
  {
   "cell_type": "code",
   "execution_count": null,
   "id": "4fc12a64",
   "metadata": {},
   "outputs": [],
   "source": [
    "def function_name(parameters/arguments):\n",
    "    ''' doc string '''   # if we want to write description then use doc string with triple quotes\n",
    "    #block of code\n",
    "    return"
   ]
  },
  {
   "cell_type": "markdown",
   "id": "899d9f59",
   "metadata": {},
   "source": [
    "def ----> it is a keyword used to create or define a function\n",
    "\n",
    "function_name------> should obey identifier rules\n",
    "\n",
    "parameters/arguments -----> inputs for block of code\n",
    "\n",
    "doc string -----> description about the function\n",
    "\n",
    "block of code -----> logics\n",
    "\n",
    "return ---->optional \n",
    "\n"
   ]
  },
  {
   "cell_type": "code",
   "execution_count": 20,
   "id": "13b567d3",
   "metadata": {},
   "outputs": [],
   "source": [
    "def innom():\n",
    "    \n",
    "        ''' This is sample function '''\n",
    "       \n",
    "        print(\"Iam learning python\")   # creating the function\n",
    "        return \"Happy learning\"\n",
    "    "
   ]
  },
  {
   "cell_type": "markdown",
   "id": "10b8894b",
   "metadata": {},
   "source": [
    "# calling the function"
   ]
  },
  {
   "cell_type": "markdown",
   "id": "928867cd",
   "metadata": {},
   "source": [
    "function_name(parameters/arguments)"
   ]
  },
  {
   "cell_type": "code",
   "execution_count": 21,
   "id": "be975599",
   "metadata": {},
   "outputs": [
    {
     "name": "stdout",
     "output_type": "stream",
     "text": [
      "Iam learning python\n"
     ]
    },
    {
     "data": {
      "text/plain": [
       "'Happy learning'"
      ]
     },
     "execution_count": 21,
     "metadata": {},
     "output_type": "execute_result"
    }
   ],
   "source": [
    "innom()          # calling the function"
   ]
  },
  {
   "cell_type": "code",
   "execution_count": 22,
   "id": "81c0ad8f",
   "metadata": {},
   "outputs": [],
   "source": [
    "# create a function using your name and it should be your city name"
   ]
  },
  {
   "cell_type": "code",
   "execution_count": 23,
   "id": "e78dbaf2",
   "metadata": {},
   "outputs": [],
   "source": [
    "def akshitha():\n",
    "    '''This is a class task'''\n",
    "    print(\"Iam from Maharashthra\")\n",
    "    return \"Welcome to my city\""
   ]
  },
  {
   "cell_type": "code",
   "execution_count": 24,
   "id": "d04d5bb7",
   "metadata": {},
   "outputs": [
    {
     "name": "stdout",
     "output_type": "stream",
     "text": [
      "Iam from Maharashthra\n"
     ]
    },
    {
     "data": {
      "text/plain": [
       "'Welcome to my city'"
      ]
     },
     "execution_count": 24,
     "metadata": {},
     "output_type": "execute_result"
    }
   ],
   "source": [
    "akshitha()"
   ]
  },
  {
   "cell_type": "code",
   "execution_count": 35,
   "id": "126f1675",
   "metadata": {},
   "outputs": [
    {
     "name": "stdout",
     "output_type": "stream",
     "text": [
      "hello world\n"
     ]
    }
   ],
   "source": [
    "def fun():\n",
    "    print(\"hello world\")\n",
    "fun()"
   ]
  },
  {
   "cell_type": "code",
   "execution_count": 36,
   "id": "ac5952f7",
   "metadata": {},
   "outputs": [
    {
     "name": "stdout",
     "output_type": "stream",
     "text": [
      "hello world\n"
     ]
    }
   ],
   "source": [
    "def func():\n",
    "    return \"hello world\"\n",
    "fun()"
   ]
  },
  {
   "cell_type": "code",
   "execution_count": 38,
   "id": "5c47bb40",
   "metadata": {},
   "outputs": [],
   "source": [
    "def func():\n",
    "    return \"Innomatics\""
   ]
  },
  {
   "cell_type": "code",
   "execution_count": 39,
   "id": "fa2cb05a",
   "metadata": {},
   "outputs": [
    {
     "data": {
      "text/plain": [
       "'Innomatics'"
      ]
     },
     "execution_count": 39,
     "metadata": {},
     "output_type": "execute_result"
    }
   ],
   "source": [
    "func()"
   ]
  },
  {
   "cell_type": "code",
   "execution_count": 40,
   "id": "02058907",
   "metadata": {},
   "outputs": [
    {
     "name": "stdout",
     "output_type": "stream",
     "text": [
      "hello world\n"
     ]
    },
    {
     "data": {
      "text/plain": [
       "'Innomatics'"
      ]
     },
     "execution_count": 40,
     "metadata": {},
     "output_type": "execute_result"
    }
   ],
   "source": [
    "fun()   #print\n",
    "func()  #return"
   ]
  },
  {
   "cell_type": "code",
   "execution_count": 42,
   "id": "e49d9ac7",
   "metadata": {},
   "outputs": [
    {
     "name": "stdout",
     "output_type": "stream",
     "text": [
      "hello world\n"
     ]
    },
    {
     "data": {
      "text/plain": [
       "NoneType"
      ]
     },
     "execution_count": 42,
     "metadata": {},
     "output_type": "execute_result"
    }
   ],
   "source": [
    "type(fun())"
   ]
  },
  {
   "cell_type": "code",
   "execution_count": 43,
   "id": "e60d84b6",
   "metadata": {},
   "outputs": [],
   "source": [
    "def str1():\n",
    "    print(\"Hello\")\n",
    "def str2():\n",
    "    print(\"World\")"
   ]
  },
  {
   "cell_type": "code",
   "execution_count": 45,
   "id": "00e1372f",
   "metadata": {},
   "outputs": [
    {
     "name": "stdout",
     "output_type": "stream",
     "text": [
      "Hello\n",
      "World\n"
     ]
    },
    {
     "ename": "TypeError",
     "evalue": "unsupported operand type(s) for +: 'NoneType' and 'NoneType'",
     "output_type": "error",
     "traceback": [
      "\u001b[1;31m---------------------------------------------------------------------------\u001b[0m",
      "\u001b[1;31mTypeError\u001b[0m                                 Traceback (most recent call last)",
      "Cell \u001b[1;32mIn[45], line 1\u001b[0m\n\u001b[1;32m----> 1\u001b[0m str1() \u001b[38;5;241m+\u001b[39m str2()\n",
      "\u001b[1;31mTypeError\u001b[0m: unsupported operand type(s) for +: 'NoneType' and 'NoneType'"
     ]
    }
   ],
   "source": [
    "str1() + str2()    # it shows error because the print function only displays/shows the output"
   ]
  },
  {
   "cell_type": "code",
   "execution_count": 46,
   "id": "9ba2df12",
   "metadata": {},
   "outputs": [],
   "source": [
    "def str3():\n",
    "    return \"Hello\"\n",
    "def str4():\n",
    "    return \"World\""
   ]
  },
  {
   "cell_type": "code",
   "execution_count": 47,
   "id": "8bd06ee1",
   "metadata": {},
   "outputs": [
    {
     "data": {
      "text/plain": [
       "'HelloWorld'"
      ]
     },
     "execution_count": 47,
     "metadata": {},
     "output_type": "execute_result"
    }
   ],
   "source": [
    "str3() + str4()  # it doesn't show any error because return type always stores the function"
   ]
  },
  {
   "cell_type": "code",
   "execution_count": 49,
   "id": "63e87e21",
   "metadata": {},
   "outputs": [
    {
     "data": {
      "text/plain": [
       "'HelloWorld'"
      ]
     },
     "execution_count": 49,
     "metadata": {},
     "output_type": "execute_result"
    }
   ],
   "source": [
    "\"Hello\" + \"World\"  #here we can do concatenation of two strings and it stores the values in function"
   ]
  },
  {
   "cell_type": "code",
   "execution_count": 50,
   "id": "6d181414",
   "metadata": {},
   "outputs": [],
   "source": [
    "# Types of arguments \n",
    "1.positional arguments ----> based upon the position\n",
    "\n",
    "2. keyword args\n",
    "\n",
    "3. default args\n",
    "\n",
    "4. variable length args"
   ]
  },
  {
   "cell_type": "markdown",
   "id": "ea1c3663",
   "metadata": {},
   "source": [
    "# positional/ position based arguments"
   ]
  },
  {
   "cell_type": "markdown",
   "id": "1f462155",
   "metadata": {},
   "source": [
    "it is used based upon the position"
   ]
  },
  {
   "cell_type": "code",
   "execution_count": 64,
   "id": "9950bb2c",
   "metadata": {},
   "outputs": [],
   "source": [
    "def add(a,b):\n",
    "    print(a+b)"
   ]
  },
  {
   "cell_type": "code",
   "execution_count": 65,
   "id": "248f93d4",
   "metadata": {},
   "outputs": [
    {
     "name": "stdout",
     "output_type": "stream",
     "text": [
      "18\n"
     ]
    }
   ],
   "source": [
    "add(10,8)"
   ]
  },
  {
   "cell_type": "code",
   "execution_count": 66,
   "id": "5ff31930",
   "metadata": {},
   "outputs": [],
   "source": [
    "def sub(a,b):\n",
    "    print(a-b)"
   ]
  },
  {
   "cell_type": "code",
   "execution_count": 67,
   "id": "18a11225",
   "metadata": {},
   "outputs": [
    {
     "name": "stdout",
     "output_type": "stream",
     "text": [
      "18\n"
     ]
    }
   ],
   "source": [
    "sub(28,10)"
   ]
  },
  {
   "cell_type": "code",
   "execution_count": 68,
   "id": "01a7a6ea",
   "metadata": {},
   "outputs": [],
   "source": [
    "# adding 4 numbers"
   ]
  },
  {
   "cell_type": "code",
   "execution_count": 69,
   "id": "641f6b83",
   "metadata": {},
   "outputs": [],
   "source": [
    "def sum(p,q,r,s):\n",
    "    print(p+q+r+s)"
   ]
  },
  {
   "cell_type": "code",
   "execution_count": 70,
   "id": "c8c76564",
   "metadata": {},
   "outputs": [
    {
     "name": "stdout",
     "output_type": "stream",
     "text": [
      "enter the p value 2\n",
      "enter the q value 4\n",
      "enter the r value 6\n",
      "enter the s value 6\n",
      "18\n"
     ]
    }
   ],
   "source": [
    "p = int(input(\"enter the p value \"))\n",
    "q = int(input(\"enter the q value \"))\n",
    "r = int(input(\"enter the r value \"))\n",
    "s = int(input(\"enter the s value \"))\n",
    "sum(p,q,r,s)"
   ]
  },
  {
   "cell_type": "code",
   "execution_count": 71,
   "id": "8ccb9a82",
   "metadata": {},
   "outputs": [],
   "source": [
    "def even(num):\n",
    "    if (num%2 == 1):\n",
    "        print(\"odd\")\n",
    "    else:\n",
    "        print(\"even\")"
   ]
  },
  {
   "cell_type": "code",
   "execution_count": 72,
   "id": "eed79666",
   "metadata": {},
   "outputs": [
    {
     "name": "stdout",
     "output_type": "stream",
     "text": [
      "even\n"
     ]
    }
   ],
   "source": [
    "even(18)"
   ]
  },
  {
   "cell_type": "markdown",
   "id": "1bedb136",
   "metadata": {},
   "source": [
    "# Keyword based arguments"
   ]
  },
  {
   "cell_type": "markdown",
   "id": "356a2dc1",
   "metadata": {},
   "source": [
    "assigning the values at the time of calling the function"
   ]
  },
  {
   "cell_type": "code",
   "execution_count": 74,
   "id": "8e6872f3",
   "metadata": {},
   "outputs": [],
   "source": [
    "def sub(x,y):\n",
    "    print(x-y)"
   ]
  },
  {
   "cell_type": "code",
   "execution_count": 75,
   "id": "e7947e47",
   "metadata": {},
   "outputs": [
    {
     "name": "stdout",
     "output_type": "stream",
     "text": [
      "-55\n"
     ]
    }
   ],
   "source": [
    "sub(x = 45 , y = 100)"
   ]
  },
  {
   "cell_type": "code",
   "execution_count": 76,
   "id": "b25a4fef",
   "metadata": {},
   "outputs": [
    {
     "name": "stdout",
     "output_type": "stream",
     "text": [
      "-55\n"
     ]
    }
   ],
   "source": [
    "sub(y = 100 , x = 45)"
   ]
  },
  {
   "cell_type": "code",
   "execution_count": 79,
   "id": "0a054dc0",
   "metadata": {},
   "outputs": [],
   "source": [
    "def div(a,b):\n",
    "    print(a/b)"
   ]
  },
  {
   "cell_type": "code",
   "execution_count": 80,
   "id": "f59c8891",
   "metadata": {},
   "outputs": [
    {
     "name": "stdout",
     "output_type": "stream",
     "text": [
      "5.0\n"
     ]
    }
   ],
   "source": [
    "div(a = 100 , b = 20)"
   ]
  },
  {
   "cell_type": "code",
   "execution_count": 81,
   "id": "fbadd563",
   "metadata": {},
   "outputs": [
    {
     "name": "stdout",
     "output_type": "stream",
     "text": [
      "5.0\n"
     ]
    }
   ],
   "source": [
    "div(b = 20 , a = 100)"
   ]
  },
  {
   "cell_type": "code",
   "execution_count": 82,
   "id": "1308cafb",
   "metadata": {},
   "outputs": [],
   "source": [
    " def sub(x,y):\n",
    "        print(x-y)"
   ]
  },
  {
   "cell_type": "code",
   "execution_count": 83,
   "id": "1a369cab",
   "metadata": {},
   "outputs": [
    {
     "name": "stdout",
     "output_type": "stream",
     "text": [
      "6\n"
     ]
    }
   ],
   "source": [
    "sub(x = 10 , y = 4)"
   ]
  },
  {
   "cell_type": "code",
   "execution_count": 84,
   "id": "cd7d16cf",
   "metadata": {},
   "outputs": [
    {
     "name": "stdout",
     "output_type": "stream",
     "text": [
      "80\n"
     ]
    }
   ],
   "source": [
    "sub(100 , y = 20)"
   ]
  },
  {
   "cell_type": "code",
   "execution_count": 86,
   "id": "ab71970c",
   "metadata": {},
   "outputs": [
    {
     "ename": "TypeError",
     "evalue": "sub() got multiple values for argument 'x'",
     "output_type": "error",
     "traceback": [
      "\u001b[1;31m---------------------------------------------------------------------------\u001b[0m",
      "\u001b[1;31mTypeError\u001b[0m                                 Traceback (most recent call last)",
      "Cell \u001b[1;32mIn[86], line 1\u001b[0m\n\u001b[1;32m----> 1\u001b[0m sub(\u001b[38;5;241m100\u001b[39m, x \u001b[38;5;241m=\u001b[39m \u001b[38;5;241m20\u001b[39m)\n",
      "\u001b[1;31mTypeError\u001b[0m: sub() got multiple values for argument 'x'"
     ]
    }
   ],
   "source": [
    "sub(100, x = 20) #got multiple values for argument 'x'"
   ]
  },
  {
   "cell_type": "code",
   "execution_count": 89,
   "id": "56f28c4a",
   "metadata": {},
   "outputs": [
    {
     "ename": "SyntaxError",
     "evalue": "positional argument follows keyword argument (1829687123.py, line 1)",
     "output_type": "error",
     "traceback": [
      "\u001b[1;36m  Cell \u001b[1;32mIn[89], line 1\u001b[1;36m\u001b[0m\n\u001b[1;33m    sub(y = 18, 8) # positional argument follows keyword argument\u001b[0m\n\u001b[1;37m                 ^\u001b[0m\n\u001b[1;31mSyntaxError\u001b[0m\u001b[1;31m:\u001b[0m positional argument follows keyword argument\n"
     ]
    }
   ],
   "source": [
    "sub(y = 18, 8) # positional argument follows keyword argument"
   ]
  },
  {
   "cell_type": "code",
   "execution_count": 90,
   "id": "b2435537",
   "metadata": {},
   "outputs": [
    {
     "name": "stdout",
     "output_type": "stream",
     "text": [
      "18\n"
     ]
    }
   ],
   "source": [
    "sub(28 , y = 10)"
   ]
  },
  {
   "cell_type": "markdown",
   "id": "aef510f2",
   "metadata": {},
   "source": [
    "# Default parameters"
   ]
  },
  {
   "cell_type": "markdown",
   "id": "ab0a1551",
   "metadata": {},
   "source": [
    "it is called at the time of creating"
   ]
  },
  {
   "cell_type": "code",
   "execution_count": 2,
   "id": "ccd6b155",
   "metadata": {},
   "outputs": [],
   "source": [
    "def wishes(name):\n",
    "    print(f\"Hello {name} welcome\")"
   ]
  },
  {
   "cell_type": "code",
   "execution_count": 3,
   "id": "76dacc51",
   "metadata": {},
   "outputs": [
    {
     "name": "stdout",
     "output_type": "stream",
     "text": [
      "Hello Sourav welcome\n"
     ]
    }
   ],
   "source": [
    "wishes(name = \"Sourav\")"
   ]
  },
  {
   "cell_type": "code",
   "execution_count": 4,
   "id": "346c9fdb",
   "metadata": {},
   "outputs": [
    {
     "name": "stdout",
     "output_type": "stream",
     "text": [
      "Enter your name :: sourav\n",
      "Hello sourav welcome\n"
     ]
    }
   ],
   "source": [
    "name = input(\"Enter your name :: \")\n",
    "wishes(name)"
   ]
  },
  {
   "cell_type": "code",
   "execution_count": 5,
   "id": "ad92a0ec",
   "metadata": {},
   "outputs": [],
   "source": [
    "def wishes(name = 'user'):\n",
    "    print(f\"Hello {name} welcome to Innomatics\")"
   ]
  },
  {
   "cell_type": "code",
   "execution_count": 6,
   "id": "f6e98689",
   "metadata": {},
   "outputs": [
    {
     "name": "stdout",
     "output_type": "stream",
     "text": [
      "Hello user welcome to Innomatics\n"
     ]
    }
   ],
   "source": [
    "wishes()"
   ]
  },
  {
   "cell_type": "code",
   "execution_count": 7,
   "id": "194cc641",
   "metadata": {},
   "outputs": [
    {
     "name": "stdout",
     "output_type": "stream",
     "text": [
      "enter your name :: Akshitha\n",
      "Hello Akshitha welcome to Innomatics\n"
     ]
    }
   ],
   "source": [
    "wishes(name = input(\"enter your name :: \"))"
   ]
  },
  {
   "cell_type": "code",
   "execution_count": 8,
   "id": "813225db",
   "metadata": {},
   "outputs": [],
   "source": [
    "# create a function which accepts 3 numbers make sum of 3 numbers do the task using position,keyword and default arguments"
   ]
  },
  {
   "cell_type": "code",
   "execution_count": 11,
   "id": "c5b4ffcf",
   "metadata": {},
   "outputs": [],
   "source": [
    "def sum1(a,b,c):\n",
    "    print(a+b+c)"
   ]
  },
  {
   "cell_type": "code",
   "execution_count": 16,
   "id": "e3a85cf0",
   "metadata": {},
   "outputs": [
    {
     "name": "stdout",
     "output_type": "stream",
     "text": [
      "18\n"
     ]
    }
   ],
   "source": [
    "sum1(5,10,3) #positional arguments"
   ]
  },
  {
   "cell_type": "code",
   "execution_count": 21,
   "id": "842bde30",
   "metadata": {},
   "outputs": [
    {
     "name": "stdout",
     "output_type": "stream",
     "text": [
      "18\n"
     ]
    }
   ],
   "source": [
    "sum1( 10 ,b = 5, c= 3) #keyword  arguments"
   ]
  },
  {
   "cell_type": "code",
   "execution_count": 24,
   "id": "685c23ad",
   "metadata": {},
   "outputs": [],
   "source": [
    "def sum1(a,b,c = 10):\n",
    "    print(a+b+c)        # default  arguments"
   ]
  },
  {
   "cell_type": "code",
   "execution_count": 25,
   "id": "67401d11",
   "metadata": {},
   "outputs": [
    {
     "name": "stdout",
     "output_type": "stream",
     "text": [
      "32\n"
     ]
    }
   ],
   "source": [
    "sum1(10,12)"
   ]
  },
  {
   "cell_type": "code",
   "execution_count": 26,
   "id": "e030288c",
   "metadata": {},
   "outputs": [
    {
     "name": "stdout",
     "output_type": "stream",
     "text": [
      "42\n"
     ]
    }
   ],
   "source": [
    "sum(10,12,c = 20)"
   ]
  },
  {
   "cell_type": "markdown",
   "id": "2fa0ba27",
   "metadata": {},
   "source": [
    "# Variable length arguments"
   ]
  },
  {
   "cell_type": "code",
   "execution_count": 34,
   "id": "19372ffa",
   "metadata": {},
   "outputs": [
    {
     "name": "stdout",
     "output_type": "stream",
     "text": [
      "60\n"
     ]
    }
   ],
   "source": [
    "def add(x,y,z):\n",
    "    print(x+y+z)\n",
    "add(10,20,30)"
   ]
  },
  {
   "cell_type": "code",
   "execution_count": 1,
   "id": "704d5fb9",
   "metadata": {},
   "outputs": [],
   "source": [
    "def add(*n):\n",
    "    return sum(n)"
   ]
  },
  {
   "cell_type": "code",
   "execution_count": 2,
   "id": "ae8e2381",
   "metadata": {},
   "outputs": [
    {
     "data": {
      "text/plain": [
       "6"
      ]
     },
     "execution_count": 2,
     "metadata": {},
     "output_type": "execute_result"
    }
   ],
   "source": [
    "add(1,2,3)"
   ]
  },
  {
   "cell_type": "code",
   "execution_count": 4,
   "id": "d7aefbf0",
   "metadata": {},
   "outputs": [],
   "source": [
    "# create a function that accepts multiple no.of inputs and returns to avg of given numbers"
   ]
  },
  {
   "cell_type": "code",
   "execution_count": 7,
   "id": "dfa165bd",
   "metadata": {},
   "outputs": [],
   "source": [
    "def average(a):\n",
    "    return(sum(a)/len(a))"
   ]
  },
  {
   "cell_type": "code",
   "execution_count": 11,
   "id": "9d2e6f8a",
   "metadata": {},
   "outputs": [
    {
     "data": {
      "text/plain": [
       "5.333333333333333"
      ]
     },
     "execution_count": 11,
     "metadata": {},
     "output_type": "execute_result"
    }
   ],
   "source": [
    "average([3,5,8])"
   ]
  },
  {
   "cell_type": "code",
   "execution_count": 12,
   "id": "b62475da",
   "metadata": {},
   "outputs": [],
   "source": [
    "# create a function that accepts multiple inputs as string find the input which is containing more letters"
   ]
  },
  {
   "cell_type": "code",
   "execution_count": 108,
   "id": "881ccc1a",
   "metadata": {},
   "outputs": [],
   "source": [
    "def maxim(*n):\n",
    "    max_length = 0\n",
    "    max_string = ''\n",
    "    for i in n:\n",
    "        if len(i) > max_length:\n",
    "            max_length = len(i)\n",
    "            max_string = i\n",
    "            \n",
    "    print(max_string)"
   ]
  },
  {
   "cell_type": "code",
   "execution_count": 109,
   "id": "a74d08e6",
   "metadata": {},
   "outputs": [
    {
     "name": "stdout",
     "output_type": "stream",
     "text": [
      "Viratkohli\n"
     ]
    }
   ],
   "source": [
    "maxim(\"Rishi\",\"Sourav\",\"Tanishka\",\"Akki\",\"Viratkohli\")"
   ]
  },
  {
   "cell_type": "code",
   "execution_count": 110,
   "id": "13e83fc3",
   "metadata": {},
   "outputs": [],
   "source": [
    "# create a function that accepts multiple numbers find the minimum value"
   ]
  },
  {
   "cell_type": "code",
   "execution_count": 5,
   "id": "c1dbeac6",
   "metadata": {},
   "outputs": [
    {
     "name": "stdout",
     "output_type": "stream",
     "text": [
      "5\n"
     ]
    }
   ],
   "source": [
    "def find_min(b):\n",
    "    print(min(b))\n",
    "b = [5,7,8,10,12,9]\n",
    "find_min(b)"
   ]
  },
  {
   "cell_type": "markdown",
   "id": "869681b0",
   "metadata": {},
   "source": [
    "# Variable length key values"
   ]
  },
  {
   "cell_type": "code",
   "execution_count": 115,
   "id": "256f24cc",
   "metadata": {},
   "outputs": [],
   "source": [
    "def fun(**n):\n",
    "    for i in n.items():\n",
    "        print(i)"
   ]
  },
  {
   "cell_type": "code",
   "execution_count": 116,
   "id": "24fc327a",
   "metadata": {},
   "outputs": [
    {
     "name": "stdout",
     "output_type": "stream",
     "text": [
      "('name', 'Sourav')\n",
      "('city', 'Maharasthra')\n",
      "('course', 'Data Analyst')\n"
     ]
    }
   ],
   "source": [
    "fun(name = \"Sourav\", city = \"Maharasthra\", course = \"Data Analyst\")"
   ]
  },
  {
   "cell_type": "markdown",
   "id": "7c2bf506",
   "metadata": {},
   "source": [
    "1. when the variable is called inside the function is known as Local variable\n",
    "\n",
    "2.when the variable is called outside the function then it is known as Global variable\n",
    "\n",
    "3.we can make the local variable as Global variable using global keyword"
   ]
  },
  {
   "cell_type": "code",
   "execution_count": 6,
   "id": "5fa24b35",
   "metadata": {},
   "outputs": [],
   "source": [
    "def mul(a,b):\n",
    "    c = 10  #local variable\n",
    "    print(a*b*c)"
   ]
  },
  {
   "cell_type": "code",
   "execution_count": 7,
   "id": "6029b039",
   "metadata": {},
   "outputs": [
    {
     "name": "stdout",
     "output_type": "stream",
     "text": [
      "20\n"
     ]
    }
   ],
   "source": [
    "mul(1,2)"
   ]
  },
  {
   "cell_type": "code",
   "execution_count": 8,
   "id": "7af059d2",
   "metadata": {},
   "outputs": [],
   "source": [
    "z = 25 #global variable\n",
    "def add(x,y):\n",
    "    print(x+y+z)"
   ]
  },
  {
   "cell_type": "code",
   "execution_count": 9,
   "id": "33761960",
   "metadata": {},
   "outputs": [
    {
     "name": "stdout",
     "output_type": "stream",
     "text": [
      "53\n"
     ]
    }
   ],
   "source": [
    "add(10,18)"
   ]
  },
  {
   "cell_type": "code",
   "execution_count": 13,
   "id": "a91e3976",
   "metadata": {},
   "outputs": [],
   "source": [
    "def virat(p,q):\n",
    "    global r\n",
    "    r = 20\n",
    "    print(p+q+r)"
   ]
  },
  {
   "cell_type": "code",
   "execution_count": 15,
   "id": "acc4475e",
   "metadata": {},
   "outputs": [
    {
     "name": "stdout",
     "output_type": "stream",
     "text": [
      "48\n"
     ]
    }
   ],
   "source": [
    "virat(10,18)  #we can make the local variable as Global variable using global keyword"
   ]
  },
  {
   "cell_type": "markdown",
   "id": "f169b2b0",
   "metadata": {},
   "source": [
    "# Lambda Function"
   ]
  },
  {
   "cell_type": "markdown",
   "id": "e28debf4",
   "metadata": {},
   "source": [
    "Lambda function is a nameless or  annonymous function\n",
    "\n",
    "syntax - lambda parameters : Expression/logic"
   ]
  },
  {
   "cell_type": "code",
   "execution_count": 3,
   "id": "6fdeadcf",
   "metadata": {},
   "outputs": [
    {
     "data": {
      "text/plain": [
       "25"
      ]
     },
     "execution_count": 3,
     "metadata": {},
     "output_type": "execute_result"
    }
   ],
   "source": [
    "def square(n):\n",
    "    return n ** 2   #traditional method\n",
    "square(5)"
   ]
  },
  {
   "cell_type": "markdown",
   "id": "c6734352",
   "metadata": {},
   "source": [
    "lambda parameters : expressions/logic"
   ]
  },
  {
   "cell_type": "code",
   "execution_count": 6,
   "id": "f2e16dbf",
   "metadata": {},
   "outputs": [
    {
     "data": {
      "text/plain": [
       "<function __main__.<lambda>(n)>"
      ]
     },
     "execution_count": 6,
     "metadata": {},
     "output_type": "execute_result"
    }
   ],
   "source": [
    "lambda n : n ** 2"
   ]
  },
  {
   "cell_type": "code",
   "execution_count": 7,
   "id": "98475fc8",
   "metadata": {},
   "outputs": [
    {
     "data": {
      "text/plain": [
       "25"
      ]
     },
     "execution_count": 7,
     "metadata": {},
     "output_type": "execute_result"
    }
   ],
   "source": [
    "c = lambda n : n ** 2\n",
    "c(5"
   ]
  },
  {
   "cell_type": "code",
   "execution_count": 8,
   "id": "c170c4dc",
   "metadata": {},
   "outputs": [],
   "source": [
    "# sum of given numbers"
   ]
  },
  {
   "cell_type": "code",
   "execution_count": 10,
   "id": "303c3f39",
   "metadata": {},
   "outputs": [],
   "source": [
    "def add(*n):\n",
    "    return sum(n)"
   ]
  },
  {
   "cell_type": "code",
   "execution_count": 11,
   "id": "ecf4efef",
   "metadata": {},
   "outputs": [
    {
     "data": {
      "text/plain": [
       "15"
      ]
     },
     "execution_count": 11,
     "metadata": {},
     "output_type": "execute_result"
    }
   ],
   "source": [
    "add(1,2,3,4,5)"
   ]
  },
  {
   "cell_type": "code",
   "execution_count": 12,
   "id": "4f9c6a8b",
   "metadata": {},
   "outputs": [],
   "source": [
    "c = lambda *n : sum(n)"
   ]
  },
  {
   "cell_type": "code",
   "execution_count": 13,
   "id": "15681c57",
   "metadata": {},
   "outputs": [
    {
     "data": {
      "text/plain": [
       "45"
      ]
     },
     "execution_count": 13,
     "metadata": {},
     "output_type": "execute_result"
    }
   ],
   "source": [
    "c(1,2,3,4,5,6,7,8,9)"
   ]
  },
  {
   "cell_type": "code",
   "execution_count": 14,
   "id": "f51b1d4c",
   "metadata": {},
   "outputs": [],
   "source": [
    "#create a lambda function to find square root of given values"
   ]
  },
  {
   "cell_type": "code",
   "execution_count": 43,
   "id": "32ca2c64",
   "metadata": {},
   "outputs": [],
   "source": [
    "a = lambda n :  n ** 0.5"
   ]
  },
  {
   "cell_type": "code",
   "execution_count": 45,
   "id": "0c59c68d",
   "metadata": {},
   "outputs": [
    {
     "data": {
      "text/plain": [
       "4.242640687119285"
      ]
     },
     "execution_count": 45,
     "metadata": {},
     "output_type": "execute_result"
    }
   ],
   "source": [
    "a(18)"
   ]
  },
  {
   "cell_type": "code",
   "execution_count": 35,
   "id": "6eada227",
   "metadata": {},
   "outputs": [],
   "source": [
    "#create a lambda function that will perform addition of three numbers"
   ]
  },
  {
   "cell_type": "code",
   "execution_count": 46,
   "id": "888b2a50",
   "metadata": {},
   "outputs": [],
   "source": [
    "c = lambda x,y,z : x+y+z"
   ]
  },
  {
   "cell_type": "code",
   "execution_count": 47,
   "id": "2542607d",
   "metadata": {},
   "outputs": [
    {
     "data": {
      "text/plain": [
       "18"
      ]
     },
     "execution_count": 47,
     "metadata": {},
     "output_type": "execute_result"
    }
   ],
   "source": [
    "c(8,2,8)"
   ]
  },
  {
   "cell_type": "markdown",
   "id": "1b85d8fb",
   "metadata": {},
   "source": [
    "# Recursive/Recursion Functions "
   ]
  },
  {
   "cell_type": "markdown",
   "id": "ba2dbded",
   "metadata": {},
   "source": [
    "the function in the same function or the function that calls itself"
   ]
  },
  {
   "cell_type": "code",
   "execution_count": 54,
   "id": "fd34d545",
   "metadata": {},
   "outputs": [],
   "source": [
    "def factorial(n):\n",
    "    if n == 0 or n == 1:\n",
    "        return 1\n",
    "    else:\n",
    "        fact = n * factorial(n-1)\n",
    "    return fact"
   ]
  },
  {
   "cell_type": "code",
   "execution_count": 56,
   "id": "6d79b4cb",
   "metadata": {},
   "outputs": [
    {
     "data": {
      "text/plain": [
       "6402373705728000"
      ]
     },
     "execution_count": 56,
     "metadata": {},
     "output_type": "execute_result"
    }
   ],
   "source": [
    "factorial(18)"
   ]
  },
  {
   "cell_type": "markdown",
   "id": "b87a355d",
   "metadata": {},
   "source": [
    "# Fibonacci sequence"
   ]
  },
  {
   "cell_type": "code",
   "execution_count": 57,
   "id": "cd7b0139",
   "metadata": {},
   "outputs": [],
   "source": [
    "def fib(n):\n",
    "    if n <=1:\n",
    "        return n\n",
    "    else:\n",
    "        return fib(n-1) + fib(n-2)"
   ]
  },
  {
   "cell_type": "code",
   "execution_count": 58,
   "id": "f48d1134",
   "metadata": {},
   "outputs": [
    {
     "name": "stdout",
     "output_type": "stream",
     "text": [
      "0\n",
      "1\n",
      "1\n",
      "2\n",
      "3\n",
      "5\n",
      "8\n",
      "13\n"
     ]
    }
   ],
   "source": [
    "n = 8\n",
    "for i in range(n):\n",
    "    print(fib(i))"
   ]
  },
  {
   "cell_type": "code",
   "execution_count": 66,
   "id": "b3cb8825",
   "metadata": {},
   "outputs": [],
   "source": [
    "# ask user to enter a number to find the numbers of sequence in fibonacci sequence"
   ]
  },
  {
   "cell_type": "code",
   "execution_count": 3,
   "id": "1f94c057",
   "metadata": {},
   "outputs": [],
   "source": [
    "def fib(n):\n",
    "    if n<=1:\n",
    "        return n\n",
    "    else:\n",
    "        return fib(n-1) + fib(n-2)"
   ]
  },
  {
   "cell_type": "code",
   "execution_count": 4,
   "id": "57dce036",
   "metadata": {},
   "outputs": [
    {
     "name": "stdout",
     "output_type": "stream",
     "text": [
      "enter the number :: 12\n",
      "0\n",
      "1\n",
      "1\n",
      "2\n",
      "3\n",
      "5\n",
      "8\n",
      "13\n",
      "21\n",
      "34\n",
      "55\n",
      "89\n"
     ]
    }
   ],
   "source": [
    "n = int(input(\"enter the number :: \"))\n",
    "for i in range(n):\n",
    "    print(fib(i))"
   ]
  },
  {
   "cell_type": "markdown",
   "id": "380e40b4",
   "metadata": {},
   "source": [
    "# Filter Function"
   ]
  },
  {
   "cell_type": "markdown",
   "id": "188a07c4",
   "metadata": {},
   "source": [
    "based upon some conditions we are going to filter the function"
   ]
  },
  {
   "cell_type": "markdown",
   "id": "22d8f124",
   "metadata": {},
   "source": [
    "syntax: filter(function name ,sequence)  sequence can be list, tuple, dictionary or string"
   ]
  },
  {
   "cell_type": "code",
   "execution_count": 9,
   "id": "dd641e37",
   "metadata": {},
   "outputs": [],
   "source": [
    "def even(n):\n",
    "    if n%2 == 0:\n",
    "        return n\n",
    "        "
   ]
  },
  {
   "cell_type": "code",
   "execution_count": 13,
   "id": "1c70eadc",
   "metadata": {},
   "outputs": [],
   "source": [
    "list1 = [1,2,3,4,5,6,7,8,9,10]"
   ]
  },
  {
   "cell_type": "code",
   "execution_count": 14,
   "id": "d671846f",
   "metadata": {},
   "outputs": [
    {
     "data": {
      "text/plain": [
       "<filter at 0x1ceb7be59f0>"
      ]
     },
     "execution_count": 14,
     "metadata": {},
     "output_type": "execute_result"
    }
   ],
   "source": [
    "filter(even,list1)"
   ]
  },
  {
   "cell_type": "code",
   "execution_count": 15,
   "id": "e3e18bc0",
   "metadata": {},
   "outputs": [
    {
     "data": {
      "text/plain": [
       "[2, 4, 6, 8, 10]"
      ]
     },
     "execution_count": 15,
     "metadata": {},
     "output_type": "execute_result"
    }
   ],
   "source": [
    "list(filter(even,list1))"
   ]
  },
  {
   "cell_type": "code",
   "execution_count": 18,
   "id": "9f5c5cf5",
   "metadata": {},
   "outputs": [
    {
     "data": {
      "text/plain": [
       "(<function __main__.<lambda>(x)>, [2, 5, 7, 9, 10, 15, 25])"
      ]
     },
     "execution_count": 18,
     "metadata": {},
     "output_type": "execute_result"
    }
   ],
   "source": [
    "lambda x : x%2 == 0,[2,5,7,9,10,15,25]"
   ]
  },
  {
   "cell_type": "code",
   "execution_count": 19,
   "id": "413bd595",
   "metadata": {},
   "outputs": [
    {
     "data": {
      "text/plain": [
       "<filter at 0x1ceb7be5cc0>"
      ]
     },
     "execution_count": 19,
     "metadata": {},
     "output_type": "execute_result"
    }
   ],
   "source": [
    "filter(lambda x : x%2 == 0,[2,5,7,9,10,15,25])"
   ]
  },
  {
   "cell_type": "code",
   "execution_count": 20,
   "id": "6a7dba60",
   "metadata": {},
   "outputs": [
    {
     "data": {
      "text/plain": [
       "[2, 10]"
      ]
     },
     "execution_count": 20,
     "metadata": {},
     "output_type": "execute_result"
    }
   ],
   "source": [
    "list(filter(lambda x : x%2 == 0,[2,5,7,9,10,15,25]))"
   ]
  },
  {
   "cell_type": "code",
   "execution_count": 22,
   "id": "72ea63a1",
   "metadata": {},
   "outputs": [],
   "source": [
    "def odd(n):\n",
    "    if n%2 == 1:\n",
    "        return n\n",
    "        "
   ]
  },
  {
   "cell_type": "code",
   "execution_count": 23,
   "id": "a4bbe3ed",
   "metadata": {},
   "outputs": [
    {
     "data": {
      "text/plain": [
       "[1, 3, 5, 7, 9]"
      ]
     },
     "execution_count": 23,
     "metadata": {},
     "output_type": "execute_result"
    }
   ],
   "source": [
    "list(filter(lambda a: a%2 == 1,[1,3,2,5,7,9,4,6,8]))"
   ]
  },
  {
   "cell_type": "code",
   "execution_count": 34,
   "id": "6bfeb5f1",
   "metadata": {},
   "outputs": [],
   "source": [
    "# using filter function find only positive values in [1,-10,2,0,15,21,56,-1,0.5,-3]"
   ]
  },
  {
   "cell_type": "code",
   "execution_count": 35,
   "id": "0c228f24",
   "metadata": {},
   "outputs": [
    {
     "data": {
      "text/plain": [
       "[1, 2, 0, 15, 21, 56, 0.5]"
      ]
     },
     "execution_count": 35,
     "metadata": {},
     "output_type": "execute_result"
    }
   ],
   "source": [
    "list(filter(lambda n : n >= 0,[1,-10,2,0,15,21,56,-1,0.5,-3]))"
   ]
  },
  {
   "cell_type": "code",
   "execution_count": 41,
   "id": "d27cf007",
   "metadata": {},
   "outputs": [
    {
     "data": {
      "text/plain": [
       "(1, 2, 0, 15, 21, 56, 0.5)"
      ]
     },
     "execution_count": 41,
     "metadata": {},
     "output_type": "execute_result"
    }
   ],
   "source": [
    "tuple(filter(lambda n : n >= 0,[1,-10,2,0,15,21,56,-1,0.5,-3]))"
   ]
  },
  {
   "cell_type": "markdown",
   "id": "8169a82c",
   "metadata": {},
   "source": [
    "# Map/Mapping Function"
   ]
  },
  {
   "cell_type": "markdown",
   "id": "d23a33b7",
   "metadata": {},
   "source": [
    "# Map()"
   ]
  },
  {
   "cell_type": "markdown",
   "id": "014131de",
   "metadata": {},
   "source": [
    " functionlity on each and every element present in the sequence"
   ]
  },
  {
   "cell_type": "code",
   "execution_count": 10,
   "id": "a0e07cd2",
   "metadata": {},
   "outputs": [],
   "source": [
    "def fun(n):\n",
    "    if n %2 == 0:\n",
    "        return \"Even\"\n",
    "    else:\n",
    "        return \"Odd\""
   ]
  },
  {
   "cell_type": "code",
   "execution_count": 11,
   "id": "80ab438e",
   "metadata": {},
   "outputs": [
    {
     "data": {
      "text/plain": [
       "[51, 52, 53, 54, 55, 56, 57, 58, 59, 60, 61, 62, 63, 64]"
      ]
     },
     "execution_count": 11,
     "metadata": {},
     "output_type": "execute_result"
    }
   ],
   "source": [
    "values = list(range(51,65))\n",
    "values"
   ]
  },
  {
   "cell_type": "code",
   "execution_count": 12,
   "id": "35cc0d6a",
   "metadata": {},
   "outputs": [
    {
     "data": {
      "text/plain": [
       "['Odd',\n",
       " 'Even',\n",
       " 'Odd',\n",
       " 'Even',\n",
       " 'Odd',\n",
       " 'Even',\n",
       " 'Odd',\n",
       " 'Even',\n",
       " 'Odd',\n",
       " 'Even',\n",
       " 'Odd',\n",
       " 'Even',\n",
       " 'Odd',\n",
       " 'Even']"
      ]
     },
     "execution_count": 12,
     "metadata": {},
     "output_type": "execute_result"
    }
   ],
   "source": [
    "list(map(fun,values))"
   ]
  },
  {
   "cell_type": "code",
   "execution_count": 13,
   "id": "09edf203",
   "metadata": {},
   "outputs": [],
   "source": [
    "list2 = [1,-10,2,0,15,21,56,-1,0.5,-3]\n",
    "\n",
    "def f(n):\n",
    "    if  n >= 0:\n",
    "        return \"Positive\"\n",
    "    else:\n",
    "        return \"Negative\""
   ]
  },
  {
   "cell_type": "code",
   "execution_count": 14,
   "id": "dc7739e9",
   "metadata": {},
   "outputs": [
    {
     "data": {
      "text/plain": [
       "{'Negative', 'Positive'}"
      ]
     },
     "execution_count": 14,
     "metadata": {},
     "output_type": "execute_result"
    }
   ],
   "source": [
    "set(map(f,list2))  # set does not allow duplicate values"
   ]
  },
  {
   "cell_type": "code",
   "execution_count": 15,
   "id": "7725e394",
   "metadata": {},
   "outputs": [
    {
     "data": {
      "text/plain": [
       "['Positive',\n",
       " 'Negative',\n",
       " 'Positive',\n",
       " 'Positive',\n",
       " 'Positive',\n",
       " 'Positive',\n",
       " 'Positive',\n",
       " 'Negative',\n",
       " 'Positive',\n",
       " 'Negative']"
      ]
     },
     "execution_count": 15,
     "metadata": {},
     "output_type": "execute_result"
    }
   ],
   "source": [
    "list(map(f,list2))"
   ]
  },
  {
   "cell_type": "code",
   "execution_count": 16,
   "id": "ee42e85e",
   "metadata": {},
   "outputs": [],
   "source": [
    "# take combination of integers,float and string print only float values\n",
    "# print only strings\n",
    "# replace integer values with a name called integer, float values as float,str as string "
   ]
  },
  {
   "cell_type": "code",
   "execution_count": 17,
   "id": "ecb0cebc",
   "metadata": {},
   "outputs": [],
   "source": [
    "val = (10,18,0.5,1.8,\"virat\",\"sourav\",2.5,30)"
   ]
  },
  {
   "cell_type": "code",
   "execution_count": 18,
   "id": "15cb1956",
   "metadata": {},
   "outputs": [],
   "source": [
    "def var(a):\n",
    "    if type(a) == float:\n",
    "        return val\n",
    "    "
   ]
  },
  {
   "cell_type": "code",
   "execution_count": 19,
   "id": "3c9c2e49",
   "metadata": {},
   "outputs": [
    {
     "data": {
      "text/plain": [
       "[0.5, 1.8, 2.5]"
      ]
     },
     "execution_count": 19,
     "metadata": {},
     "output_type": "execute_result"
    }
   ],
   "source": [
    "list(filter(var,val))"
   ]
  },
  {
   "cell_type": "code",
   "execution_count": 20,
   "id": "89b00533",
   "metadata": {},
   "outputs": [],
   "source": [
    "def var(a):\n",
    "    if type(a) == str:\n",
    "        return val\n",
    "\n"
   ]
  },
  {
   "cell_type": "code",
   "execution_count": 21,
   "id": "52ae4ab0",
   "metadata": {},
   "outputs": [
    {
     "data": {
      "text/plain": [
       "['virat', 'sourav']"
      ]
     },
     "execution_count": 21,
     "metadata": {},
     "output_type": "execute_result"
    }
   ],
   "source": [
    "list(filter(var,val))"
   ]
  },
  {
   "cell_type": "code",
   "execution_count": 22,
   "id": "fa1c113f",
   "metadata": {},
   "outputs": [],
   "source": [
    "def var(a):\n",
    "    if type(a) == int :\n",
    "        return \" Integer \"\n",
    "    elif type(a) == str :\n",
    "        return \" String \"\n",
    "    else:\n",
    "        return \" Float \"\n",
    "    "
   ]
  },
  {
   "cell_type": "code",
   "execution_count": 23,
   "id": "838d719e",
   "metadata": {},
   "outputs": [
    {
     "data": {
      "text/plain": [
       "[' Integer ',\n",
       " ' Integer ',\n",
       " ' Float ',\n",
       " ' Float ',\n",
       " ' String ',\n",
       " ' String ',\n",
       " ' Float ',\n",
       " ' Integer ']"
      ]
     },
     "execution_count": 23,
     "metadata": {},
     "output_type": "execute_result"
    }
   ],
   "source": [
    "list(map(var,val))"
   ]
  },
  {
   "cell_type": "markdown",
   "id": "10ed737f",
   "metadata": {},
   "source": [
    "# reduce()"
   ]
  },
  {
   "cell_type": "markdown",
   "id": "06a9cea6",
   "metadata": {},
   "source": [
    "reduce()----- it returns to a single value\n"
   ]
  },
  {
   "cell_type": "code",
   "execution_count": 29,
   "id": "db9af800",
   "metadata": {},
   "outputs": [],
   "source": [
    "from functools import reduce"
   ]
  },
  {
   "cell_type": "code",
   "execution_count": 30,
   "id": "e6c37fc4",
   "metadata": {},
   "outputs": [],
   "source": [
    "def add(x,y):\n",
    "    return x + y"
   ]
  },
  {
   "cell_type": "code",
   "execution_count": 31,
   "id": "0da21d63",
   "metadata": {},
   "outputs": [],
   "source": [
    "val = list(range(1,10))"
   ]
  },
  {
   "cell_type": "code",
   "execution_count": 32,
   "id": "1a672e71",
   "metadata": {},
   "outputs": [
    {
     "data": {
      "text/plain": [
       "45"
      ]
     },
     "execution_count": 32,
     "metadata": {},
     "output_type": "execute_result"
    }
   ],
   "source": [
    "reduce(add,val)"
   ]
  },
  {
   "cell_type": "code",
   "execution_count": 33,
   "id": "b517dcd3",
   "metadata": {},
   "outputs": [],
   "source": [
    "def fact(a,b):\n",
    "    return a*b"
   ]
  },
  {
   "cell_type": "code",
   "execution_count": 34,
   "id": "f22fd7dc",
   "metadata": {},
   "outputs": [
    {
     "name": "stdout",
     "output_type": "stream",
     "text": [
      "Enter a number to find the factorial :: 5\n"
     ]
    },
    {
     "data": {
      "text/plain": [
       "120"
      ]
     },
     "execution_count": 34,
     "metadata": {},
     "output_type": "execute_result"
    }
   ],
   "source": [
    "n = int(input(\"Enter a number to find the factorial :: \"))\n",
    "seq = tuple(range(1,n+1))\n",
    "reduce(fact,seq)"
   ]
  },
  {
   "cell_type": "markdown",
   "id": "cd6f6d09",
   "metadata": {},
   "source": [
    "# zip()"
   ]
  },
  {
   "cell_type": "markdown",
   "id": "5d50d0b1",
   "metadata": {},
   "source": [
    "zip() function can be used in dictionary"
   ]
  },
  {
   "cell_type": "code",
   "execution_count": 61,
   "id": "28955974",
   "metadata": {},
   "outputs": [
    {
     "name": "stdout",
     "output_type": "stream",
     "text": [
      "('Apple', 'Tomato', 1)\n",
      "('Mango', 'Carrot', 2)\n",
      "('Banana', 'Potato', 3)\n"
     ]
    }
   ],
   "source": [
    "fruits = [\"Apple\",\"Mango\",\"Banana\",\"Lychee\",\"Grapes\",\"Orange\"]\n",
    "veg = (\"Tomato\",\"Carrot\",\"Potato\")\n",
    "number = (1,2,3,4,5,6)\n",
    "for i in zip(fruits,veg,number):\n",
    "    print(i)"
   ]
  },
  {
   "cell_type": "code",
   "execution_count": 62,
   "id": "c7150b7c",
   "metadata": {},
   "outputs": [
    {
     "name": "stdout",
     "output_type": "stream",
     "text": [
      "('apple', 'Tomato', 1)\n",
      "('mango', 'Carrot', 2)\n",
      "('banana', 'Potato', 3)\n",
      "('lychee', 'Onion', 4)\n"
     ]
    }
   ],
   "source": [
    "fruits = [\"apple\",\"mango\",\"banana\",\"lychee\",\"grapes\",\"orange\"]\n",
    "veg = (\"Tomato\",\"Carrot\",\"Potato\",\"Onion\")\n",
    "number = (1,2,3,4,5,6)\n",
    "for i in zip(fruits,veg,number):\n",
    "    print(i)"
   ]
  },
  {
   "cell_type": "markdown",
   "id": "20b024f1",
   "metadata": {},
   "source": [
    "# enumerate"
   ]
  },
  {
   "cell_type": "markdown",
   "id": "8721519e",
   "metadata": {},
   "source": [
    "1.use to count the number of iterations\n",
    "\n",
    "2.if we want to assign an index number"
   ]
  },
  {
   "cell_type": "code",
   "execution_count": 63,
   "id": "cbc81515",
   "metadata": {},
   "outputs": [
    {
     "name": "stdout",
     "output_type": "stream",
     "text": [
      "(0, 'apple')\n",
      "(1, 'mango')\n",
      "(2, 'banana')\n",
      "(3, 'lychee')\n",
      "(4, 'grapes')\n",
      "(5, 'orange')\n"
     ]
    }
   ],
   "source": [
    "for i in enumerate(fruits):\n",
    "    print(i)"
   ]
  },
  {
   "cell_type": "code",
   "execution_count": 64,
   "id": "98323b7a",
   "metadata": {},
   "outputs": [
    {
     "name": "stdout",
     "output_type": "stream",
     "text": [
      "(1, 'apple')\n",
      "(2, 'mango')\n",
      "(3, 'banana')\n",
      "(4, 'lychee')\n",
      "(5, 'grapes')\n",
      "(6, 'orange')\n"
     ]
    }
   ],
   "source": [
    "for i in enumerate(fruits,1):\n",
    "    print(i)"
   ]
  },
  {
   "cell_type": "code",
   "execution_count": 65,
   "id": "1519b909",
   "metadata": {},
   "outputs": [
    {
     "name": "stdout",
     "output_type": "stream",
     "text": [
      "(1, 'Tomato')\n",
      "(2, 'Carrot')\n",
      "(3, 'Potato')\n",
      "(4, 'Onion')\n"
     ]
    }
   ],
   "source": [
    "for i in enumerate(veg,1):\n",
    "    print(i)"
   ]
  },
  {
   "cell_type": "code",
   "execution_count": 66,
   "id": "b028a1bf",
   "metadata": {},
   "outputs": [
    {
     "name": "stdout",
     "output_type": "stream",
     "text": [
      "(1, 1)\n",
      "(2, 2)\n",
      "(3, 3)\n",
      "(4, 4)\n",
      "(5, 5)\n",
      "(6, 6)\n"
     ]
    }
   ],
   "source": [
    "for i in enumerate(number,1):\n",
    "    print(i)"
   ]
  },
  {
   "cell_type": "code",
   "execution_count": 68,
   "id": "a6ef8474",
   "metadata": {},
   "outputs": [],
   "source": [
    " # create a function that accepts multiple values and return to sum of all numbers \n",
    "  #   1.using normal method\n",
    "  #   2.using lambda function\n",
    "  #   3.using reduce function"
   ]
  },
  {
   "cell_type": "code",
   "execution_count": 5,
   "id": "c0c57f75",
   "metadata": {},
   "outputs": [
    {
     "data": {
      "text/plain": [
       "18"
      ]
     },
     "execution_count": 5,
     "metadata": {},
     "output_type": "execute_result"
    }
   ],
   "source": [
    "def val(*n):\n",
    "    return sum(n)  #normal method\n",
    "val(3,1,6,8)"
   ]
  },
  {
   "cell_type": "code",
   "execution_count": 7,
   "id": "20bea844",
   "metadata": {},
   "outputs": [
    {
     "data": {
      "text/plain": [
       "77"
      ]
     },
     "execution_count": 7,
     "metadata": {},
     "output_type": "execute_result"
    }
   ],
   "source": [
    "a = lambda * n : sum(n)\n",
    "a(10,20,47)                #using lambda"
   ]
  },
  {
   "cell_type": "code",
   "execution_count": 14,
   "id": "5d0694be",
   "metadata": {},
   "outputs": [],
   "source": [
    "from functools import reduce   #using reduce function"
   ]
  },
  {
   "cell_type": "code",
   "execution_count": 15,
   "id": "0f072249",
   "metadata": {},
   "outputs": [],
   "source": [
    "def sum(x,y):\n",
    "    return x+y"
   ]
  },
  {
   "cell_type": "code",
   "execution_count": 16,
   "id": "d4091566",
   "metadata": {},
   "outputs": [],
   "source": [
    "val = list(range(1,10))"
   ]
  },
  {
   "cell_type": "code",
   "execution_count": 17,
   "id": "dc91bdb4",
   "metadata": {},
   "outputs": [
    {
     "data": {
      "text/plain": [
       "45"
      ]
     },
     "execution_count": 17,
     "metadata": {},
     "output_type": "execute_result"
    }
   ],
   "source": [
    "reduce(sum,val)"
   ]
  },
  {
   "cell_type": "code",
   "execution_count": 18,
   "id": "b226a224",
   "metadata": {},
   "outputs": [],
   "source": [
    "# web = [\"www.fb.com\",\"https://insta.com\",\"www.innomatics.com\",\"ww.hdfc\",\"htt.oracle.com\",\"www.Hyd.co.in\"]\n",
    "#find the valid websites using\n",
    "#1.procedure\n",
    "#2.function\n",
    "#3.lambda\n",
    "#4.filter"
   ]
  },
  {
   "cell_type": "code",
   "execution_count": 36,
   "id": "972c7702",
   "metadata": {},
   "outputs": [
    {
     "name": "stdout",
     "output_type": "stream",
     "text": [
      "www.fb.com\n",
      "https://insta.com\n",
      "www.innomatics.com\n",
      "www.Hyd.co.in\n"
     ]
    }
   ],
   "source": [
    "#prodecure\n",
    "web =[\"www.fb.com\",\"https://insta.com\",\"www.innomatics.com\",\"ww.hdfc\",\"htt.oracle.com\",\"www.Hyd.co.in\"]\n",
    "for i in web:\n",
    "    if i.startswith(('www','https://')) and i.endswith(('.com','co.in')):\n",
    "        print(i)"
   ]
  },
  {
   "cell_type": "code",
   "execution_count": 53,
   "id": "d5e053d7",
   "metadata": {},
   "outputs": [],
   "source": [
    "# function\n",
    "def valid(*n):\n",
    "    for i in n:\n",
    "        if i.startswith(('www.','https://')) and i.endswith(('.com','co.in')):\n",
    "            print(i)"
   ]
  },
  {
   "cell_type": "code",
   "execution_count": 55,
   "id": "e0baa3f9",
   "metadata": {},
   "outputs": [],
   "source": [
    "valid()"
   ]
  },
  {
   "cell_type": "code",
   "execution_count": 51,
   "id": "86547409",
   "metadata": {},
   "outputs": [
    {
     "name": "stdout",
     "output_type": "stream",
     "text": [
      "www.fb.com\n",
      "https://insta.com\n",
      "www.innomatics.com\n",
      "www.Hyd.co.in\n"
     ]
    }
   ],
   "source": [
    "# lambda\n",
    "c = lambda i :i.startswith(('www.','https://')) and i.endswith(('.com','co.in'))\n",
    "for i in web :\n",
    "    if c(i) == True:\n",
    "        print(i)"
   ]
  },
  {
   "cell_type": "code",
   "execution_count": 48,
   "id": "6f29c6ea",
   "metadata": {},
   "outputs": [
    {
     "name": "stdout",
     "output_type": "stream",
     "text": [
      "www.fb.com\n",
      "https://insta.com\n",
      "www.innomatics.com\n",
      "www.Hyd.co.in\n"
     ]
    },
    {
     "data": {
      "text/plain": [
       "[]"
      ]
     },
     "execution_count": 48,
     "metadata": {},
     "output_type": "execute_result"
    }
   ],
   "source": [
    "# filter\n",
    "list(filter(valid,web))\n"
   ]
  },
  {
   "cell_type": "code",
   "execution_count": null,
   "id": "c08231ed",
   "metadata": {},
   "outputs": [],
   "source": []
  }
 ],
 "metadata": {
  "kernelspec": {
   "display_name": "Python 3 (ipykernel)",
   "language": "python",
   "name": "python3"
  },
  "language_info": {
   "codemirror_mode": {
    "name": "ipython",
    "version": 3
   },
   "file_extension": ".py",
   "mimetype": "text/x-python",
   "name": "python",
   "nbconvert_exporter": "python",
   "pygments_lexer": "ipython3",
   "version": "3.11.4"
  }
 },
 "nbformat": 4,
 "nbformat_minor": 5
}
