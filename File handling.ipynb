{
 "cells": [
  {
   "cell_type": "markdown",
   "id": "77c27ed0",
   "metadata": {},
   "source": [
    "# File handling"
   ]
  },
  {
   "cell_type": "markdown",
   "id": "4d6eb568",
   "metadata": {},
   "source": [
    "Functions of File:\n",
    "\n",
    "open()\n",
    "\n",
    "read()\n",
    "\n",
    "write()\n",
    "\n",
    "append()\n",
    "\n",
    "create() ------if we dont have file then we can creare using create() function"
   ]
  },
  {
   "cell_type": "markdown",
   "id": "0eef26b1",
   "metadata": {},
   "source": [
    "# Opening a File"
   ]
  },
  {
   "cell_type": "code",
   "execution_count": null,
   "id": "fc61349b",
   "metadata": {},
   "outputs": [],
   "source": [
    "open(file_path/file_name)"
   ]
  },
  {
   "cell_type": "markdown",
   "id": "0127aaeb",
   "metadata": {},
   "source": [
    "# File Path "
   ]
  },
  {
   "cell_type": "code",
   "execution_count": 35,
   "id": "4b02864e",
   "metadata": {},
   "outputs": [],
   "source": [
    "file = open(\"C:\\\\Users\\\\hi\\\\OneDrive\\\\Desktop\\\\Aachal.txt\")"
   ]
  },
  {
   "cell_type": "code",
   "execution_count": 36,
   "id": "89099765",
   "metadata": {},
   "outputs": [],
   "source": [
    "file1 = open(r\"C:\\Users\\hi\\OneDrive\\Desktop\\Aachal.txt\")"
   ]
  },
  {
   "cell_type": "code",
   "execution_count": 37,
   "id": "d419161d",
   "metadata": {},
   "outputs": [],
   "source": [
    "file3 = open('Aachal.txt')  #current working directory"
   ]
  },
  {
   "cell_type": "code",
   "execution_count": 38,
   "id": "c753a7af",
   "metadata": {},
   "outputs": [
    {
     "name": "stdout",
     "output_type": "stream",
     "text": [
      "Hi \n",
      "This is Akshitha\n",
      "Iam from Maharasthra\n",
      "currently, Iam learning Data Science\n",
      "\n"
     ]
    }
   ],
   "source": [
    "print(file3.read())"
   ]
  },
  {
   "cell_type": "code",
   "execution_count": 39,
   "id": "2a55c6b0",
   "metadata": {},
   "outputs": [
    {
     "data": {
      "text/plain": [
       "'C:\\\\Users\\\\hi\\\\Python Files'"
      ]
     },
     "execution_count": 39,
     "metadata": {},
     "output_type": "execute_result"
    }
   ],
   "source": [
    "import os\n",
    "os.getcwd()"
   ]
  },
  {
   "cell_type": "code",
   "execution_count": 40,
   "id": "4c6b6387",
   "metadata": {},
   "outputs": [
    {
     "name": "stdout",
     "output_type": "stream",
     "text": [
      "Hi \n",
      "This is Akshitha\n",
      "Iam from Maharasthra\n",
      "currently, Iam learning Data Science\n",
      "\n",
      "\n"
     ]
    }
   ],
   "source": [
    "print(file1.read())"
   ]
  },
  {
   "cell_type": "markdown",
   "id": "ed2f0e49",
   "metadata": {},
   "source": [
    " # Reading Text"
   ]
  },
  {
   "cell_type": "markdown",
   "id": "81f8d4f7",
   "metadata": {},
   "source": [
    "mode = r"
   ]
  },
  {
   "cell_type": "code",
   "execution_count": 98,
   "id": "94b210bf",
   "metadata": {},
   "outputs": [],
   "source": [
    "f = open('Demo.txt','r')"
   ]
  },
  {
   "cell_type": "code",
   "execution_count": 93,
   "id": "b332a3c3",
   "metadata": {},
   "outputs": [
    {
     "name": "stdout",
     "output_type": "stream",
     "text": [
      "python program is easy to learn for beginner Hello\n",
      "How are you\n",
      "Bye\n",
      "Iam fine\n",
      "I am learning Data Science\n"
     ]
    }
   ],
   "source": [
    "print(f.read())   # reads entire text in the file"
   ]
  },
  {
   "cell_type": "code",
   "execution_count": 43,
   "id": "abbd1a1a",
   "metadata": {},
   "outputs": [
    {
     "name": "stdout",
     "output_type": "stream",
     "text": [
      "5\n"
     ]
    }
   ],
   "source": [
    "a = 5\n",
    "print(a)"
   ]
  },
  {
   "cell_type": "code",
   "execution_count": 105,
   "id": "5cdf1f00",
   "metadata": {},
   "outputs": [
    {
     "data": {
      "text/plain": [
       "''"
      ]
     },
     "execution_count": 105,
     "metadata": {},
     "output_type": "execute_result"
    }
   ],
   "source": [
    "f.readline()  # it acess line by line"
   ]
  },
  {
   "cell_type": "code",
   "execution_count": 101,
   "id": "07431d9b",
   "metadata": {},
   "outputs": [
    {
     "name": "stdout",
     "output_type": "stream",
     "text": [
      "Bye\n",
      "\n"
     ]
    }
   ],
   "source": [
    "print(f.readline())   # it acesses all the lines in the list at a time "
   ]
  },
  {
   "cell_type": "code",
   "execution_count": 46,
   "id": "9179b717",
   "metadata": {},
   "outputs": [],
   "source": [
    "for i in f.readlines():\n",
    "    print(i)"
   ]
  },
  {
   "cell_type": "markdown",
   "id": "eb7455e6",
   "metadata": {},
   "source": [
    "# Writing to the file"
   ]
  },
  {
   "cell_type": "markdown",
   "id": "e048f731",
   "metadata": {},
   "source": [
    "w - To add text to the file.It overwrites existed text\n",
    "- It checks the file is eisted or not.if not it creates the file"
   ]
  },
  {
   "cell_type": "code",
   "execution_count": 85,
   "id": "2e99019a",
   "metadata": {},
   "outputs": [],
   "source": [
    "f = open('Demo.txt','w')"
   ]
  },
  {
   "cell_type": "code",
   "execution_count": 86,
   "id": "b3580319",
   "metadata": {},
   "outputs": [
    {
     "data": {
      "text/plain": [
       "45"
      ]
     },
     "execution_count": 86,
     "metadata": {},
     "output_type": "execute_result"
    }
   ],
   "source": [
    "f.write(\"python program is easy to learn for beginner \")"
   ]
  },
  {
   "cell_type": "code",
   "execution_count": 87,
   "id": "36a62469",
   "metadata": {},
   "outputs": [],
   "source": [
    "f.writelines([ \"Hello\\n\",\"How are you\\n\",\"Bye\\n\"])"
   ]
  },
  {
   "cell_type": "code",
   "execution_count": 88,
   "id": "f83d9549",
   "metadata": {},
   "outputs": [],
   "source": [
    "f.close()"
   ]
  },
  {
   "cell_type": "markdown",
   "id": "7cba8458",
   "metadata": {},
   "source": [
    "# Appending to File"
   ]
  },
  {
   "cell_type": "code",
   "execution_count": 89,
   "id": "f8574146",
   "metadata": {},
   "outputs": [],
   "source": [
    "f = open('Demo.txt','a')"
   ]
  },
  {
   "cell_type": "code",
   "execution_count": 90,
   "id": "f5899687",
   "metadata": {},
   "outputs": [
    {
     "data": {
      "text/plain": [
       "35"
      ]
     },
     "execution_count": 90,
     "metadata": {},
     "output_type": "execute_result"
    }
   ],
   "source": [
    "f.write(\"Iam fine\\nI am learning Data Science\")"
   ]
  },
  {
   "cell_type": "code",
   "execution_count": 91,
   "id": "deffebbc",
   "metadata": {},
   "outputs": [],
   "source": [
    "f.close()"
   ]
  },
  {
   "cell_type": "markdown",
   "id": "345ff33a",
   "metadata": {},
   "source": [
    "# Creating a File"
   ]
  },
  {
   "cell_type": "code",
   "execution_count": 94,
   "id": "bc4ef16c",
   "metadata": {},
   "outputs": [],
   "source": [
    "file = open('python.txt','x') # it creates new file but if that file is already exists then it throws an error"
   ]
  },
  {
   "cell_type": "code",
   "execution_count": 95,
   "id": "98933297",
   "metadata": {},
   "outputs": [],
   "source": [
    "file1 = open('sample3.txt','x')"
   ]
  },
  {
   "cell_type": "code",
   "execution_count": 96,
   "id": "ebc4d312",
   "metadata": {},
   "outputs": [
    {
     "data": {
      "text/plain": [
       "5"
      ]
     },
     "execution_count": 96,
     "metadata": {},
     "output_type": "execute_result"
    }
   ],
   "source": [
    "file1.write(\"Hello\")"
   ]
  },
  {
   "cell_type": "markdown",
   "id": "a1a489ac",
   "metadata": {},
   "source": [
    "# Multiple modes"
   ]
  },
  {
   "cell_type": "markdown",
   "id": "c89e668a",
   "metadata": {},
   "source": [
    "r+ ---read and write----first priority read\n",
    "\n",
    "w+ ------write and read----first priority write\n",
    "\n",
    "a+----- append and read"
   ]
  },
  {
   "cell_type": "code",
   "execution_count": 19,
   "id": "77f37ec5",
   "metadata": {},
   "outputs": [],
   "source": [
    "file =open(r\"C:\\Users\\hi\\OneDrive\\Desktop\\Aachal.txt\",'r+')"
   ]
  },
  {
   "cell_type": "code",
   "execution_count": 20,
   "id": "68536f28",
   "metadata": {},
   "outputs": [
    {
     "data": {
      "text/plain": [
       "'Hi \\nThis is Akshitha\\nIam from Maharasthra\\ncurrently, Iam learning Data Science\\n\\nHello Iam a data scientist'"
      ]
     },
     "execution_count": 20,
     "metadata": {},
     "output_type": "execute_result"
    }
   ],
   "source": [
    "file.read()"
   ]
  },
  {
   "cell_type": "code",
   "execution_count": 21,
   "id": "39130cb6",
   "metadata": {},
   "outputs": [
    {
     "data": {
      "text/plain": [
       "57"
      ]
     },
     "execution_count": 21,
     "metadata": {},
     "output_type": "execute_result"
    }
   ],
   "source": [
    "file.write(\"Here Iam doing read and write operations at the same time\")"
   ]
  },
  {
   "cell_type": "code",
   "execution_count": 22,
   "id": "6f020ac6",
   "metadata": {},
   "outputs": [],
   "source": [
    "file.close()"
   ]
  },
  {
   "cell_type": "code",
   "execution_count": 34,
   "id": "6e838ade",
   "metadata": {},
   "outputs": [],
   "source": [
    "file1 = open(r\"C:\\\\Users\\\\hi\\\\OneDrive\\\\Desktop\\\\Aachal.txt\",'r+')"
   ]
  },
  {
   "cell_type": "code",
   "execution_count": 35,
   "id": "48eebc56",
   "metadata": {},
   "outputs": [
    {
     "data": {
      "text/plain": [
       "'Hi \\nThis is Akshitha\\nIam from Maharasthra\\ncurrently, Iam learning Data Science\\n\\nHello Iam a data scientistHere Iam doing read and write operations at the same timeHello Iam a data scientist'"
      ]
     },
     "execution_count": 35,
     "metadata": {},
     "output_type": "execute_result"
    }
   ],
   "source": [
    "file1.read()"
   ]
  },
  {
   "cell_type": "code",
   "execution_count": 36,
   "id": "7f6715d8",
   "metadata": {},
   "outputs": [
    {
     "data": {
      "text/plain": [
       "26"
      ]
     },
     "execution_count": 36,
     "metadata": {},
     "output_type": "execute_result"
    }
   ],
   "source": [
    "file1.write(\"Hello Iam a data scientist\")"
   ]
  },
  {
   "cell_type": "code",
   "execution_count": 37,
   "id": "7c446af1",
   "metadata": {},
   "outputs": [],
   "source": [
    "file1.close()"
   ]
  },
  {
   "cell_type": "code",
   "execution_count": 38,
   "id": "7c112548",
   "metadata": {},
   "outputs": [],
   "source": [
    "file1 = open(r\"C:\\\\Users\\\\hi\\\\OneDrive\\\\Desktop\\\\Aachal.txt\",'a+')"
   ]
  },
  {
   "cell_type": "code",
   "execution_count": 39,
   "id": "afb12ed9",
   "metadata": {},
   "outputs": [
    {
     "data": {
      "text/plain": [
       "''"
      ]
     },
     "execution_count": 39,
     "metadata": {},
     "output_type": "execute_result"
    }
   ],
   "source": [
    "file1.read()"
   ]
  },
  {
   "cell_type": "code",
   "execution_count": 40,
   "id": "2d70582f",
   "metadata": {},
   "outputs": [
    {
     "data": {
      "text/plain": [
       "0"
      ]
     },
     "execution_count": 40,
     "metadata": {},
     "output_type": "execute_result"
    }
   ],
   "source": [
    "file1.seek(0)"
   ]
  },
  {
   "cell_type": "code",
   "execution_count": 41,
   "id": "75de524a",
   "metadata": {},
   "outputs": [
    {
     "data": {
      "text/plain": [
       "'Hi \\nThis is Akshitha\\nIam from Maharasthra\\ncurrently, Iam learning Data Science\\n\\nHello Iam a data scientistHere Iam doing read and write operations at the same timeHello Iam a data scientistHello Iam a data scientist'"
      ]
     },
     "execution_count": 41,
     "metadata": {},
     "output_type": "execute_result"
    }
   ],
   "source": [
    "file1.read()"
   ]
  },
  {
   "cell_type": "markdown",
   "id": "beefed02",
   "metadata": {},
   "source": [
    "# CSV file"
   ]
  },
  {
   "cell_type": "markdown",
   "id": "d0b52997",
   "metadata": {},
   "source": [
    "comma seperated values"
   ]
  },
  {
   "cell_type": "code",
   "execution_count": 91,
   "id": "77366c85",
   "metadata": {},
   "outputs": [],
   "source": [
    "f = open(r\"C:\\Users\\hi\\Downloads\\Mphasis- HR Interview Schedule - Malla Reddy Institute of Technology.xlsx\",'w+')"
   ]
  },
  {
   "cell_type": "markdown",
   "id": "83c9bc4a",
   "metadata": {},
   "source": [
    "# File Attributes"
   ]
  },
  {
   "cell_type": "markdown",
   "id": "513f3dc8",
   "metadata": {},
   "source": [
    "modes\n",
    "\n",
    "closed\n",
    "\n",
    "readable\n",
    "\n",
    "writable\n",
    "\n",
    "name\n",
    "\n",
    "seekable"
   ]
  },
  {
   "cell_type": "code",
   "execution_count": 98,
   "id": "18f98573",
   "metadata": {},
   "outputs": [],
   "source": [
    "file = open(r\"C:\\Users\\hi\\Downloads\\Iris.csv\",'r+')"
   ]
  },
  {
   "cell_type": "code",
   "execution_count": 99,
   "id": "a7199484",
   "metadata": {},
   "outputs": [
    {
     "data": {
      "text/plain": [
       "'r+'"
      ]
     },
     "execution_count": 99,
     "metadata": {},
     "output_type": "execute_result"
    }
   ],
   "source": [
    "file.mode"
   ]
  },
  {
   "cell_type": "code",
   "execution_count": 100,
   "id": "0a498c4f",
   "metadata": {},
   "outputs": [],
   "source": [
    "file.mode\n",
    "file.close()"
   ]
  },
  {
   "cell_type": "code",
   "execution_count": 101,
   "id": "e28e28c7",
   "metadata": {},
   "outputs": [
    {
     "data": {
      "text/plain": [
       "True"
      ]
     },
     "execution_count": 101,
     "metadata": {},
     "output_type": "execute_result"
    }
   ],
   "source": [
    "file.closed"
   ]
  },
  {
   "cell_type": "code",
   "execution_count": 102,
   "id": "4763a15b",
   "metadata": {},
   "outputs": [
    {
     "data": {
      "text/plain": [
       "'C:\\\\Users\\\\hi\\\\Downloads\\\\Iris.csv'"
      ]
     },
     "execution_count": 102,
     "metadata": {},
     "output_type": "execute_result"
    }
   ],
   "source": [
    "file.name"
   ]
  },
  {
   "cell_type": "code",
   "execution_count": 119,
   "id": "3552f786",
   "metadata": {},
   "outputs": [],
   "source": [
    "file = open(r\"C:\\Users\\hi\\Downloads\\Iris.csv\",'r')"
   ]
  },
  {
   "cell_type": "code",
   "execution_count": 120,
   "id": "3a5008e2",
   "metadata": {},
   "outputs": [
    {
     "data": {
      "text/plain": [
       "True"
      ]
     },
     "execution_count": 120,
     "metadata": {},
     "output_type": "execute_result"
    }
   ],
   "source": [
    "file.readable()"
   ]
  },
  {
   "cell_type": "code",
   "execution_count": 121,
   "id": "499111b5",
   "metadata": {},
   "outputs": [
    {
     "data": {
      "text/plain": [
       "False"
      ]
     },
     "execution_count": 121,
     "metadata": {},
     "output_type": "execute_result"
    }
   ],
   "source": [
    "file.writable()"
   ]
  },
  {
   "cell_type": "code",
   "execution_count": 122,
   "id": "20aa4739",
   "metadata": {},
   "outputs": [
    {
     "data": {
      "text/plain": [
       "True"
      ]
     },
     "execution_count": 122,
     "metadata": {},
     "output_type": "execute_result"
    }
   ],
   "source": [
    "file.seekable()"
   ]
  },
  {
   "cell_type": "markdown",
   "id": "143cd802",
   "metadata": {},
   "source": [
    "# Binary files"
   ]
  },
  {
   "cell_type": "markdown",
   "id": "d6a62bf1",
   "metadata": {},
   "source": [
    ".bin"
   ]
  },
  {
   "cell_type": "markdown",
   "id": "a4d26350",
   "metadata": {},
   "source": [
    "Binary files are\n",
    "\n",
    "Images\n",
    "\n",
    "videos\n",
    "\n",
    "audio\n",
    "\n",
    "voice"
   ]
  },
  {
   "cell_type": "code",
   "execution_count": 152,
   "id": "4bec12c6",
   "metadata": {},
   "outputs": [],
   "source": [
    "image =(r\"C:\\Users\\hi\\OneDrive\\Desktop\\captain_america_collage__by_pinkzeo1_degrcet-pre.jpg\")"
   ]
  },
  {
   "cell_type": "code",
   "execution_count": 153,
   "id": "c9d43236",
   "metadata": {},
   "outputs": [
    {
     "name": "stdout",
     "output_type": "stream",
     "text": [
      "C:\\Users\\hi\\OneDrive\\Desktop\\captain_america_collage__by_pinkzeo1_degrcet-pre.jpg\n"
     ]
    }
   ],
   "source": [
    "print(image)"
   ]
  },
  {
   "cell_type": "code",
   "execution_count": 156,
   "id": "39e6dac3",
   "metadata": {},
   "outputs": [],
   "source": [
    "f =open(\"cricket.txt\",'w+')"
   ]
  },
  {
   "cell_type": "code",
   "execution_count": 157,
   "id": "1073e33d",
   "metadata": {},
   "outputs": [
    {
     "data": {
      "text/plain": [
       "79"
      ]
     },
     "execution_count": 157,
     "metadata": {},
     "output_type": "execute_result"
    }
   ],
   "source": [
    "f.write(\"The World Cup 2023 starts from October 2023. This Tournament is hosted by India\")"
   ]
  },
  {
   "cell_type": "code",
   "execution_count": 158,
   "id": "65a3bb7e",
   "metadata": {},
   "outputs": [
    {
     "data": {
      "text/plain": [
       "'The World Cup 2023 starts from October 2023. This Tournament is hosted by India'"
      ]
     },
     "execution_count": 158,
     "metadata": {},
     "output_type": "execute_result"
    }
   ],
   "source": [
    "f.seek(0)\n",
    "f.read()"
   ]
  },
  {
   "cell_type": "code",
   "execution_count": 159,
   "id": "6f41221a",
   "metadata": {},
   "outputs": [],
   "source": [
    "f.close()"
   ]
  },
  {
   "cell_type": "markdown",
   "id": "25e4522c",
   "metadata": {},
   "source": [
    "# Context manager"
   ]
  },
  {
   "cell_type": "code",
   "execution_count": 133,
   "id": "6997abe7",
   "metadata": {},
   "outputs": [],
   "source": [
    "f3 = open('sample1.txt','w+')"
   ]
  },
  {
   "cell_type": "code",
   "execution_count": 134,
   "id": "a8b87793",
   "metadata": {},
   "outputs": [
    {
     "data": {
      "text/plain": [
       "14"
      ]
     },
     "execution_count": 134,
     "metadata": {},
     "output_type": "execute_result"
    }
   ],
   "source": [
    "f3.write(\"**************\")"
   ]
  },
  {
   "cell_type": "code",
   "execution_count": 136,
   "id": "1d4540d8",
   "metadata": {},
   "outputs": [
    {
     "data": {
      "text/plain": [
       "'**************'"
      ]
     },
     "execution_count": 136,
     "metadata": {},
     "output_type": "execute_result"
    }
   ],
   "source": [
    "f3.seek(0)\n",
    "f3.read()"
   ]
  },
  {
   "cell_type": "code",
   "execution_count": 137,
   "id": "2e3d1492",
   "metadata": {},
   "outputs": [],
   "source": [
    "f3 = open(\"data2.txt\",'w+')"
   ]
  },
  {
   "cell_type": "code",
   "execution_count": 139,
   "id": "d27d165a",
   "metadata": {},
   "outputs": [],
   "source": [
    "with open(\"data3.txt\",'w+') as f4:\n",
    "    f4.write(\"Hello Iam checking Context Manager\")"
   ]
  },
  {
   "cell_type": "code",
   "execution_count": 145,
   "id": "3dcebead",
   "metadata": {},
   "outputs": [
    {
     "name": "stdout",
     "output_type": "stream",
     "text": [
      "python program is easy to learn for beginner Hello\n",
      "How are you\n",
      "Bye\n",
      "Iam fine\n",
      "I am learning Data Science\n"
     ]
    }
   ],
   "source": [
    "with open(r\"C:\\Users\\hi\\Python Files\\Demo.txt\") as file6:\n",
    "    print(file6.read())"
   ]
  },
  {
   "cell_type": "code",
   "execution_count": 146,
   "id": "3705f211",
   "metadata": {},
   "outputs": [],
   "source": [
    "# create a file using normal method and context manager that should contain what is data science"
   ]
  },
  {
   "cell_type": "code",
   "execution_count": 174,
   "id": "4510210d",
   "metadata": {},
   "outputs": [],
   "source": [
    "name = open(r\"datascience.txt\",'w+')"
   ]
  },
  {
   "cell_type": "code",
   "execution_count": 177,
   "id": "fb82e9c6",
   "metadata": {},
   "outputs": [
    {
     "data": {
      "text/plain": [
       "266"
      ]
     },
     "execution_count": 177,
     "metadata": {},
     "output_type": "execute_result"
    }
   ],
   "source": [
    "name.write(\"Artificial intelligence is the intelligence of machines or software, as opposed to the intelligence of humans or animals. It is also the field of study in computer science that develops and studies intelligent machines. AI  may also refer to the machines themselves.\")"
   ]
  },
  {
   "cell_type": "code",
   "execution_count": 178,
   "id": "66fcab13",
   "metadata": {},
   "outputs": [
    {
     "data": {
      "text/plain": [
       "'Artificial intelligence is the intelligence of machines or software, as opposed to the intelligence of humans or animals. It is also the field of study in computer science that develops and studies intelligent machines. AI  may also refer to the machines themselves.'"
      ]
     },
     "execution_count": 178,
     "metadata": {},
     "output_type": "execute_result"
    }
   ],
   "source": [
    "name.seek(0)\n",
    "name.read()"
   ]
  },
  {
   "cell_type": "code",
   "execution_count": 179,
   "id": "40bc226d",
   "metadata": {},
   "outputs": [
    {
     "name": "stdout",
     "output_type": "stream",
     "text": [
      "Artificial intelligence is the intelligence of machines or software, as opposed to the intelligence of humans or animals. It is also the field of study in computer science that develops and studies intelligent machines. AI  may also refer to the machines themselves.\n"
     ]
    }
   ],
   "source": [
    "with open('datascience.txt','r+') as n:\n",
    "    print(n.read())"
   ]
  },
  {
   "cell_type": "code",
   "execution_count": 180,
   "id": "34069e18",
   "metadata": {},
   "outputs": [],
   "source": [
    "import shutil"
   ]
  },
  {
   "cell_type": "code",
   "execution_count": 182,
   "id": "2b4b4a8c",
   "metadata": {},
   "outputs": [
    {
     "ename": "TypeError",
     "evalue": "move() missing 1 required positional argument: 'dst'",
     "output_type": "error",
     "traceback": [
      "\u001b[1;31m---------------------------------------------------------------------------\u001b[0m",
      "\u001b[1;31mTypeError\u001b[0m                                 Traceback (most recent call last)",
      "Cell \u001b[1;32mIn[182], line 1\u001b[0m\n\u001b[1;32m----> 1\u001b[0m shutil\u001b[38;5;241m.\u001b[39mmove(\u001b[38;5;124mr\u001b[39m\u001b[38;5;124m\"\u001b[39m\u001b[38;5;124mC:\u001b[39m\u001b[38;5;124m\\\u001b[39m\u001b[38;5;124mUsers\u001b[39m\u001b[38;5;124m\\\u001b[39m\u001b[38;5;124mhi\u001b[39m\u001b[38;5;124m\\\u001b[39m\u001b[38;5;124mOneDrive\u001b[39m\u001b[38;5;124m\\\u001b[39m\u001b[38;5;124mDesktop\u001b[39m\u001b[38;5;124m\\\u001b[39m\u001b[38;5;124mdata science.txt\u001b[39m\u001b[38;5;124m\"\u001b[39m,)\n",
      "\u001b[1;31mTypeError\u001b[0m: move() missing 1 required positional argument: 'dst'"
     ]
    }
   ],
   "source": [
    "shutil.move(r\"C:\\Users\\hi\\OneDrive\\Desktop\\data science.txt\",)"
   ]
  },
  {
   "cell_type": "markdown",
   "id": "7c271785",
   "metadata": {},
   "source": [
    "Python is a high-level, general-purpose programming language. Its design philosophy emphasizes code readability with the use of significant indentation. Python is dynamically typed and garbage-collected. It supports multiple programming paradigms, including structured, object-oriented and functional programming. "
   ]
  },
  {
   "cell_type": "code",
   "execution_count": null,
   "id": "ba9582c4",
   "metadata": {},
   "outputs": [],
   "source": [
    "create a file using context manager andacess it using normal method.\n",
    "Apply followings changes"
   ]
  },
  {
   "cell_type": "code",
   "execution_count": 181,
   "id": "0d45fadc",
   "metadata": {},
   "outputs": [],
   "source": [
    "# Add python one feature after first line\n",
    "# Replace 'Python' with 'python'\n",
    "# what is the frequency of occurance of 'python'\n",
    "# seperate each word\n",
    "# How many times 'i' is  repeated?"
   ]
  },
  {
   "cell_type": "code",
   "execution_count": 2,
   "id": "3c581f58",
   "metadata": {},
   "outputs": [],
   "source": [
    "with open('python.txt','w+') as p:\n",
    "    p.write('Python is a high-level, general-purpose programming language. Its design philosophy emphasizes code readability with the use of significant indentation. Python is dynamically typed and garbage-collected. It supports multiple programming paradigms, including structured, object-oriented and functional programming.')"
   ]
  },
  {
   "cell_type": "code",
   "execution_count": 3,
   "id": "4d0ce04e",
   "metadata": {},
   "outputs": [],
   "source": [
    "f7 = open('python.txt','r+')"
   ]
  },
  {
   "cell_type": "code",
   "execution_count": 4,
   "id": "4e564ef1",
   "metadata": {},
   "outputs": [],
   "source": [
    "f7.seek(0)\n",
    "string = f7.read()"
   ]
  },
  {
   "cell_type": "code",
   "execution_count": 5,
   "id": "c665a567",
   "metadata": {},
   "outputs": [
    {
     "data": {
      "text/plain": [
       "'Python is a high-level, general-purpose programming language. Its design philosophy emphasizes code readability with the use of significant indentation. Python is dynamically typed and garbage-collected. It supports multiple programming paradigms, including structured, object-oriented and functional programming.'"
      ]
     },
     "execution_count": 5,
     "metadata": {},
     "output_type": "execute_result"
    }
   ],
   "source": [
    "string"
   ]
  },
  {
   "cell_type": "code",
   "execution_count": 6,
   "id": "1753697a",
   "metadata": {},
   "outputs": [
    {
     "data": {
      "text/plain": [
       "57"
      ]
     },
     "execution_count": 6,
     "metadata": {},
     "output_type": "execute_result"
    }
   ],
   "source": [
    "string.find('age')"
   ]
  },
  {
   "cell_type": "code",
   "execution_count": 7,
   "id": "1bcb526b",
   "metadata": {},
   "outputs": [
    {
     "data": {
      "text/plain": [
       "'a'"
      ]
     },
     "execution_count": 7,
     "metadata": {},
     "output_type": "execute_result"
    }
   ],
   "source": [
    "string[57]"
   ]
  },
  {
   "cell_type": "code",
   "execution_count": 8,
   "id": "e1f82325",
   "metadata": {},
   "outputs": [
    {
     "data": {
      "text/plain": [
       "'g'"
      ]
     },
     "execution_count": 8,
     "metadata": {},
     "output_type": "execute_result"
    }
   ],
   "source": [
    "string[58]"
   ]
  },
  {
   "cell_type": "code",
   "execution_count": 9,
   "id": "9a96607d",
   "metadata": {},
   "outputs": [
    {
     "data": {
      "text/plain": [
       "'e'"
      ]
     },
     "execution_count": 9,
     "metadata": {},
     "output_type": "execute_result"
    }
   ],
   "source": [
    "string[59]"
   ]
  },
  {
   "cell_type": "code",
   "execution_count": 10,
   "id": "eeadb3df",
   "metadata": {},
   "outputs": [],
   "source": [
    "f7.seek(61)\n",
    "f7.write(\"Python is a Interpreted Language\")\n",
    "f7.close() "
   ]
  },
  {
   "cell_type": "code",
   "execution_count": 11,
   "id": "22f21e2a",
   "metadata": {},
   "outputs": [
    {
     "ename": "ValueError",
     "evalue": "I/O operation on closed file.",
     "output_type": "error",
     "traceback": [
      "\u001b[1;31m---------------------------------------------------------------------------\u001b[0m",
      "\u001b[1;31mValueError\u001b[0m                                Traceback (most recent call last)",
      "Cell \u001b[1;32mIn[11], line 1\u001b[0m\n\u001b[1;32m----> 1\u001b[0m f7\u001b[38;5;241m.\u001b[39mseek(\u001b[38;5;241m0\u001b[39m)\n\u001b[0;32m      2\u001b[0m string \u001b[38;5;241m=\u001b[39m f7\u001b[38;5;241m.\u001b[39mread()\n",
      "\u001b[1;31mValueError\u001b[0m: I/O operation on closed file."
     ]
    }
   ],
   "source": [
    "f7.seek(0)\n",
    "string = f7.read()"
   ]
  },
  {
   "cell_type": "code",
   "execution_count": 12,
   "id": "84c7b618",
   "metadata": {},
   "outputs": [],
   "source": [
    "string = string.replace(\"Python\",\"python\")"
   ]
  },
  {
   "cell_type": "code",
   "execution_count": 13,
   "id": "728d5097",
   "metadata": {},
   "outputs": [
    {
     "ename": "SyntaxError",
     "evalue": "'(' was never closed (2153532720.py, line 5)",
     "output_type": "error",
     "traceback": [
      "\u001b[1;36m  Cell \u001b[1;32mIn[13], line 5\u001b[1;36m\u001b[0m\n\u001b[1;33m    print(\"Hello World\"\u001b[0m\n\u001b[1;37m         ^\u001b[0m\n\u001b[1;31mSyntaxError\u001b[0m\u001b[1;31m:\u001b[0m '(' was never closed\n"
     ]
    }
   ],
   "source": [
    "print(\"Hello World\")\n",
    "print(\"Hello World\")\n",
    "print(\"Hello World\")\n",
    "print(\"Hello World\")\n",
    "print(\"Hello World\"\n",
    "print(\"Hello World\")\n",
    "print(\"Hello World\")\n",
    "print(\"Hello World\")\n",
    "print(\"Hello World\")\n",
    "print(\"Hello World\")"
   ]
  },
  {
   "cell_type": "code",
   "execution_count": 14,
   "id": "4728e35d",
   "metadata": {},
   "outputs": [
    {
     "ename": "SyntaxError",
     "evalue": "incomplete input (2638896055.py, line 3)",
     "output_type": "error",
     "traceback": [
      "\u001b[1;36m  Cell \u001b[1;32mIn[14], line 3\u001b[1;36m\u001b[0m\n\u001b[1;33m    print(a+b\u001b[0m\n\u001b[1;37m             ^\u001b[0m\n\u001b[1;31mSyntaxError\u001b[0m\u001b[1;31m:\u001b[0m incomplete input\n"
     ]
    }
   ],
   "source": [
    "a = int(input(\"Enter a number :: \"))\n",
    "b = int(input(\"Enter the second number :: \"))\n",
    "print(a+b"
   ]
  },
  {
   "cell_type": "code",
   "execution_count": null,
   "id": "33bedb2a",
   "metadata": {},
   "outputs": [],
   "source": []
  }
 ],
 "metadata": {
  "kernelspec": {
   "display_name": "Python 3 (ipykernel)",
   "language": "python",
   "name": "python3"
  },
  "language_info": {
   "codemirror_mode": {
    "name": "ipython",
    "version": 3
   },
   "file_extension": ".py",
   "mimetype": "text/x-python",
   "name": "python",
   "nbconvert_exporter": "python",
   "pygments_lexer": "ipython3",
   "version": "3.11.4"
  }
 },
 "nbformat": 4,
 "nbformat_minor": 5
}
