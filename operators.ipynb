{
 "cells": [
  {
   "cell_type": "markdown",
   "id": "f1eeac71",
   "metadata": {},
   "source": [
    "## Operators"
   ]
  },
  {
   "cell_type": "markdown",
   "id": "4ddaefbc",
   "metadata": {},
   "source": [
    " # Arithematic Operations"
   ]
  },
  {
   "cell_type": "markdown",
   "id": "f78c4da9",
   "metadata": {},
   "source": [
    "1. Addition"
   ]
  },
  {
   "cell_type": "code",
   "execution_count": 1,
   "id": "9e861b14",
   "metadata": {},
   "outputs": [
    {
     "data": {
      "text/plain": [
       "15"
      ]
     },
     "execution_count": 1,
     "metadata": {},
     "output_type": "execute_result"
    }
   ],
   "source": [
    "a = 10\n",
    "b = 5\n",
    "a + b "
   ]
  },
  {
   "cell_type": "code",
   "execution_count": 2,
   "id": "4b031d52",
   "metadata": {},
   "outputs": [
    {
     "data": {
      "text/plain": [
       "13.0"
      ]
     },
     "execution_count": 2,
     "metadata": {},
     "output_type": "execute_result"
    }
   ],
   "source": [
    "a = 10.5\n",
    "b = 2.5\n",
    "a + b"
   ]
  },
  {
   "cell_type": "code",
   "execution_count": 4,
   "id": "07f856f9",
   "metadata": {},
   "outputs": [
    {
     "data": {
      "text/plain": [
       "'Hello World'"
      ]
     },
     "execution_count": 4,
     "metadata": {},
     "output_type": "execute_result"
    }
   ],
   "source": [
    "a = \"Hello \"\n",
    "b = \"World\"\n",
    "a + b"
   ]
  },
  {
   "cell_type": "code",
   "execution_count": 5,
   "id": "f7b7c5ca",
   "metadata": {},
   "outputs": [
    {
     "data": {
      "text/plain": [
       "(12+8j)"
      ]
     },
     "execution_count": 5,
     "metadata": {},
     "output_type": "execute_result"
    }
   ],
   "source": [
    "a = 10 + 3j\n",
    "b = 2 + 5j\n",
    "a + b"
   ]
  },
  {
   "cell_type": "markdown",
   "id": "7121a5ef",
   "metadata": {},
   "source": [
    " 2. Subtraction  "
   ]
  },
  {
   "cell_type": "code",
   "execution_count": 6,
   "id": "65ebb5d9",
   "metadata": {},
   "outputs": [
    {
     "data": {
      "text/plain": [
       "5"
      ]
     },
     "execution_count": 6,
     "metadata": {},
     "output_type": "execute_result"
    }
   ],
   "source": [
    "a = 10\n",
    "b = 5\n",
    "a - b "
   ]
  },
  {
   "cell_type": "code",
   "execution_count": 7,
   "id": "9e275a8e",
   "metadata": {},
   "outputs": [
    {
     "data": {
      "text/plain": [
       "3.999999999999999"
      ]
     },
     "execution_count": 7,
     "metadata": {},
     "output_type": "execute_result"
    }
   ],
   "source": [
    "a = 10.2\n",
    "b = 6.2\n",
    "a -b "
   ]
  },
  {
   "cell_type": "markdown",
   "id": "698d3432",
   "metadata": {},
   "source": [
    "3. Multiplication"
   ]
  },
  {
   "cell_type": "code",
   "execution_count": 9,
   "id": "c88c4380",
   "metadata": {},
   "outputs": [
    {
     "data": {
      "text/plain": [
       "32"
      ]
     },
     "execution_count": 9,
     "metadata": {},
     "output_type": "execute_result"
    }
   ],
   "source": [
    "a = 8 \n",
    "b = 4\n",
    "a * b"
   ]
  },
  {
   "cell_type": "code",
   "execution_count": 10,
   "id": "17b8700b",
   "metadata": {},
   "outputs": [
    {
     "data": {
      "text/plain": [
       "51.0"
      ]
     },
     "execution_count": 10,
     "metadata": {},
     "output_type": "execute_result"
    }
   ],
   "source": [
    "a = 10.2\n",
    "b = 5\n",
    "a * b"
   ]
  },
  {
   "cell_type": "markdown",
   "id": "fce40fa7",
   "metadata": {},
   "source": [
    "4. Repetition"
   ]
  },
  {
   "cell_type": "code",
   "execution_count": 11,
   "id": "5a258399",
   "metadata": {},
   "outputs": [
    {
     "data": {
      "text/plain": [
       "' Akshitha Akshitha Akshitha Akshitha Akshitha'"
      ]
     },
     "execution_count": 11,
     "metadata": {},
     "output_type": "execute_result"
    }
   ],
   "source": [
    "a = \" Akshitha\"\n",
    "b = 5\n",
    "a * b"
   ]
  },
  {
   "cell_type": "markdown",
   "id": "c55843f2",
   "metadata": {},
   "source": [
    "4. Division"
   ]
  },
  {
   "cell_type": "code",
   "execution_count": 12,
   "id": "3aed377d",
   "metadata": {},
   "outputs": [
    {
     "data": {
      "text/plain": [
       "5.1"
      ]
     },
     "execution_count": 12,
     "metadata": {},
     "output_type": "execute_result"
    }
   ],
   "source": [
    "51 / 10"
   ]
  },
  {
   "cell_type": "code",
   "execution_count": 13,
   "id": "b561f617",
   "metadata": {},
   "outputs": [
    {
     "data": {
      "text/plain": [
       "5"
      ]
     },
     "execution_count": 13,
     "metadata": {},
     "output_type": "execute_result"
    }
   ],
   "source": [
    "51 // 10"
   ]
  },
  {
   "cell_type": "code",
   "execution_count": 14,
   "id": "97b5a40a",
   "metadata": {},
   "outputs": [
    {
     "data": {
      "text/plain": [
       "1"
      ]
     },
     "execution_count": 14,
     "metadata": {},
     "output_type": "execute_result"
    }
   ],
   "source": [
    "51 % 10 "
   ]
  },
  {
   "cell_type": "markdown",
   "id": "cc56e8cf",
   "metadata": {},
   "source": [
    "/ - returns to exact value\n",
    "\n",
    "// - returns Quotient\n",
    " \n",
    "% - returns remainder"
   ]
  },
  {
   "cell_type": "code",
   "execution_count": 15,
   "id": "3939958c",
   "metadata": {},
   "outputs": [
    {
     "data": {
      "text/plain": [
       "85.33333333333333"
      ]
     },
     "execution_count": 15,
     "metadata": {},
     "output_type": "execute_result"
    }
   ],
   "source": [
    "256 / 3"
   ]
  },
  {
   "cell_type": "code",
   "execution_count": 16,
   "id": "e49800b8",
   "metadata": {},
   "outputs": [
    {
     "data": {
      "text/plain": [
       "85"
      ]
     },
     "execution_count": 16,
     "metadata": {},
     "output_type": "execute_result"
    }
   ],
   "source": [
    "256 //3"
   ]
  },
  {
   "cell_type": "code",
   "execution_count": 17,
   "id": "5f967538",
   "metadata": {},
   "outputs": [
    {
     "data": {
      "text/plain": [
       "1"
      ]
     },
     "execution_count": 17,
     "metadata": {},
     "output_type": "execute_result"
    }
   ],
   "source": [
    "256 % 3"
   ]
  },
  {
   "cell_type": "code",
   "execution_count": 18,
   "id": "3f052d94",
   "metadata": {},
   "outputs": [
    {
     "data": {
      "text/plain": [
       "10.0"
      ]
     },
     "execution_count": 18,
     "metadata": {},
     "output_type": "execute_result"
    }
   ],
   "source": [
    "20 / 2"
   ]
  },
  {
   "cell_type": "markdown",
   "id": "43e2ae29",
   "metadata": {},
   "source": [
    "5. Power"
   ]
  },
  {
   "cell_type": "code",
   "execution_count": 19,
   "id": "a09a8ea9",
   "metadata": {},
   "outputs": [
    {
     "data": {
      "text/plain": [
       "27"
      ]
     },
     "execution_count": 19,
     "metadata": {},
     "output_type": "execute_result"
    }
   ],
   "source": [
    "3 ** 3"
   ]
  },
  {
   "cell_type": "code",
   "execution_count": 20,
   "id": "5b1cf9cc",
   "metadata": {},
   "outputs": [
    {
     "data": {
      "text/plain": [
       "1024"
      ]
     },
     "execution_count": 20,
     "metadata": {},
     "output_type": "execute_result"
    }
   ],
   "source": [
    "4 ** 5"
   ]
  },
  {
   "cell_type": "code",
   "execution_count": 21,
   "id": "a191c79f",
   "metadata": {},
   "outputs": [
    {
     "data": {
      "text/plain": [
       "4096"
      ]
     },
     "execution_count": 21,
     "metadata": {},
     "output_type": "execute_result"
    }
   ],
   "source": [
    "16 ** 3"
   ]
  },
  {
   "cell_type": "code",
   "execution_count": 24,
   "id": "b24d2b95",
   "metadata": {},
   "outputs": [
    {
     "data": {
      "text/plain": [
       "1475789056"
      ]
     },
     "execution_count": 24,
     "metadata": {},
     "output_type": "execute_result"
    }
   ],
   "source": [
    "14 ** 8"
   ]
  },
  {
   "cell_type": "markdown",
   "id": "9a4fe43c",
   "metadata": {},
   "source": [
    "## Relational/Comaparative Operators"
   ]
  },
  {
   "cell_type": "markdown",
   "id": "ad3dc484",
   "metadata": {},
   "source": [
    "==,!=,<,>,<=,>="
   ]
  },
  {
   "cell_type": "code",
   "execution_count": 25,
   "id": "1f33ba3c",
   "metadata": {},
   "outputs": [],
   "source": [
    "a = 400 \n",
    "b = 400.1\n",
    "c = 399.9"
   ]
  },
  {
   "cell_type": "code",
   "execution_count": 26,
   "id": "aa46a4b4",
   "metadata": {},
   "outputs": [
    {
     "data": {
      "text/plain": [
       "False"
      ]
     },
     "execution_count": 26,
     "metadata": {},
     "output_type": "execute_result"
    }
   ],
   "source": [
    "a == b"
   ]
  },
  {
   "cell_type": "code",
   "execution_count": 27,
   "id": "6592e780",
   "metadata": {},
   "outputs": [
    {
     "data": {
      "text/plain": [
       "False"
      ]
     },
     "execution_count": 27,
     "metadata": {},
     "output_type": "execute_result"
    }
   ],
   "source": [
    "a == c"
   ]
  },
  {
   "cell_type": "code",
   "execution_count": 28,
   "id": "f2fdf783",
   "metadata": {},
   "outputs": [
    {
     "data": {
      "text/plain": [
       "False"
      ]
     },
     "execution_count": 28,
     "metadata": {},
     "output_type": "execute_result"
    }
   ],
   "source": [
    "b == c"
   ]
  },
  {
   "cell_type": "code",
   "execution_count": 29,
   "id": "e50176ca",
   "metadata": {},
   "outputs": [
    {
     "data": {
      "text/plain": [
       "False"
      ]
     },
     "execution_count": 29,
     "metadata": {},
     "output_type": "execute_result"
    }
   ],
   "source": [
    "b == a"
   ]
  },
  {
   "cell_type": "code",
   "execution_count": 30,
   "id": "8d8ed4a2",
   "metadata": {},
   "outputs": [
    {
     "data": {
      "text/plain": [
       "True"
      ]
     },
     "execution_count": 30,
     "metadata": {},
     "output_type": "execute_result"
    }
   ],
   "source": [
    "a != b"
   ]
  },
  {
   "cell_type": "code",
   "execution_count": 31,
   "id": "8952194a",
   "metadata": {},
   "outputs": [
    {
     "data": {
      "text/plain": [
       "True"
      ]
     },
     "execution_count": 31,
     "metadata": {},
     "output_type": "execute_result"
    }
   ],
   "source": [
    "a != c"
   ]
  },
  {
   "cell_type": "code",
   "execution_count": 32,
   "id": "28f4981f",
   "metadata": {},
   "outputs": [
    {
     "data": {
      "text/plain": [
       "True"
      ]
     },
     "execution_count": 32,
     "metadata": {},
     "output_type": "execute_result"
    }
   ],
   "source": [
    "b != c"
   ]
  },
  {
   "cell_type": "code",
   "execution_count": 33,
   "id": "0476735e",
   "metadata": {},
   "outputs": [
    {
     "data": {
      "text/plain": [
       "True"
      ]
     },
     "execution_count": 33,
     "metadata": {},
     "output_type": "execute_result"
    }
   ],
   "source": [
    "b != a"
   ]
  },
  {
   "cell_type": "code",
   "execution_count": 34,
   "id": "46e70b5b",
   "metadata": {},
   "outputs": [
    {
     "data": {
      "text/plain": [
       "True"
      ]
     },
     "execution_count": 34,
     "metadata": {},
     "output_type": "execute_result"
    }
   ],
   "source": [
    "a < b"
   ]
  },
  {
   "cell_type": "code",
   "execution_count": 35,
   "id": "20e97c7e",
   "metadata": {},
   "outputs": [
    {
     "data": {
      "text/plain": [
       "False"
      ]
     },
     "execution_count": 35,
     "metadata": {},
     "output_type": "execute_result"
    }
   ],
   "source": [
    "a < c"
   ]
  },
  {
   "cell_type": "code",
   "execution_count": 36,
   "id": "77b88084",
   "metadata": {},
   "outputs": [
    {
     "data": {
      "text/plain": [
       "False"
      ]
     },
     "execution_count": 36,
     "metadata": {},
     "output_type": "execute_result"
    }
   ],
   "source": [
    "b < a"
   ]
  },
  {
   "cell_type": "code",
   "execution_count": 37,
   "id": "137807bb",
   "metadata": {},
   "outputs": [
    {
     "data": {
      "text/plain": [
       "False"
      ]
     },
     "execution_count": 37,
     "metadata": {},
     "output_type": "execute_result"
    }
   ],
   "source": [
    "b < c"
   ]
  },
  {
   "cell_type": "code",
   "execution_count": 38,
   "id": "002f7294",
   "metadata": {},
   "outputs": [
    {
     "data": {
      "text/plain": [
       "False"
      ]
     },
     "execution_count": 38,
     "metadata": {},
     "output_type": "execute_result"
    }
   ],
   "source": [
    "a > b"
   ]
  },
  {
   "cell_type": "code",
   "execution_count": 39,
   "id": "0a7fe3bd",
   "metadata": {},
   "outputs": [
    {
     "data": {
      "text/plain": [
       "True"
      ]
     },
     "execution_count": 39,
     "metadata": {},
     "output_type": "execute_result"
    }
   ],
   "source": [
    "a > c"
   ]
  },
  {
   "cell_type": "code",
   "execution_count": 40,
   "id": "f50adb16",
   "metadata": {},
   "outputs": [
    {
     "data": {
      "text/plain": [
       "True"
      ]
     },
     "execution_count": 40,
     "metadata": {},
     "output_type": "execute_result"
    }
   ],
   "source": [
    "b > a"
   ]
  },
  {
   "cell_type": "code",
   "execution_count": 41,
   "id": "4115c04e",
   "metadata": {},
   "outputs": [
    {
     "data": {
      "text/plain": [
       "True"
      ]
     },
     "execution_count": 41,
     "metadata": {},
     "output_type": "execute_result"
    }
   ],
   "source": [
    "b > c"
   ]
  },
  {
   "cell_type": "code",
   "execution_count": 42,
   "id": "3eaf0c65",
   "metadata": {},
   "outputs": [
    {
     "data": {
      "text/plain": [
       "True"
      ]
     },
     "execution_count": 42,
     "metadata": {},
     "output_type": "execute_result"
    }
   ],
   "source": [
    "a <= b"
   ]
  },
  {
   "cell_type": "code",
   "execution_count": 43,
   "id": "8a264966",
   "metadata": {},
   "outputs": [
    {
     "data": {
      "text/plain": [
       "True"
      ]
     },
     "execution_count": 43,
     "metadata": {},
     "output_type": "execute_result"
    }
   ],
   "source": [
    "b >= c"
   ]
  },
  {
   "cell_type": "code",
   "execution_count": 44,
   "id": "e82c7869",
   "metadata": {},
   "outputs": [],
   "source": [
    "x = \"Hello \"\n",
    "y = \"Hai\""
   ]
  },
  {
   "cell_type": "code",
   "execution_count": 52,
   "id": "a6bc76b4",
   "metadata": {},
   "outputs": [
    {
     "data": {
      "text/plain": [
       "False"
      ]
     },
     "execution_count": 52,
     "metadata": {},
     "output_type": "execute_result"
    }
   ],
   "source": [
    "x == y"
   ]
  },
  {
   "cell_type": "code",
   "execution_count": 53,
   "id": "32cf1757",
   "metadata": {},
   "outputs": [
    {
     "data": {
      "text/plain": [
       "True"
      ]
     },
     "execution_count": 53,
     "metadata": {},
     "output_type": "execute_result"
    }
   ],
   "source": [
    "x != y"
   ]
  },
  {
   "cell_type": "code",
   "execution_count": 54,
   "id": "dab09dbd",
   "metadata": {},
   "outputs": [
    {
     "data": {
      "text/plain": [
       "False"
      ]
     },
     "execution_count": 54,
     "metadata": {},
     "output_type": "execute_result"
    }
   ],
   "source": [
    "x > y"
   ]
  },
  {
   "cell_type": "code",
   "execution_count": 55,
   "id": "9dd826c6",
   "metadata": {},
   "outputs": [
    {
     "data": {
      "text/plain": [
       "True"
      ]
     },
     "execution_count": 55,
     "metadata": {},
     "output_type": "execute_result"
    }
   ],
   "source": [
    "x < y"
   ]
  },
  {
   "cell_type": "code",
   "execution_count": 56,
   "id": "1e631d2a",
   "metadata": {},
   "outputs": [
    {
     "data": {
      "text/plain": [
       "True"
      ]
     },
     "execution_count": 56,
     "metadata": {},
     "output_type": "execute_result"
    }
   ],
   "source": [
    "x <= y"
   ]
  },
  {
   "cell_type": "code",
   "execution_count": 58,
   "id": "c69ac162",
   "metadata": {},
   "outputs": [
    {
     "data": {
      "text/plain": [
       "False"
      ]
     },
     "execution_count": 58,
     "metadata": {},
     "output_type": "execute_result"
    }
   ],
   "source": [
    "x >= y"
   ]
  },
  {
   "cell_type": "markdown",
   "id": "e7161dc2",
   "metadata": {},
   "source": [
    "## Logical Operators"
   ]
  },
  {
   "cell_type": "markdown",
   "id": "ae68b8a4",
   "metadata": {},
   "source": [
    "and,or,not"
   ]
  },
  {
   "cell_type": "code",
   "execution_count": 60,
   "id": "35bdf721",
   "metadata": {},
   "outputs": [],
   "source": [
    "a = 150\n",
    "b = 300\n",
    "c = 200"
   ]
  },
  {
   "cell_type": "code",
   "execution_count": 61,
   "id": "e1070c6e",
   "metadata": {},
   "outputs": [
    {
     "data": {
      "text/plain": [
       "False"
      ]
     },
     "execution_count": 61,
     "metadata": {},
     "output_type": "execute_result"
    }
   ],
   "source": [
    "(a == b) and (b == c)"
   ]
  },
  {
   "cell_type": "code",
   "execution_count": 62,
   "id": "6b460a12",
   "metadata": {},
   "outputs": [
    {
     "data": {
      "text/plain": [
       "True"
      ]
     },
     "execution_count": 62,
     "metadata": {},
     "output_type": "execute_result"
    }
   ],
   "source": [
    "(a != b) and (b != c)"
   ]
  },
  {
   "cell_type": "code",
   "execution_count": 63,
   "id": "3f6e2a4a",
   "metadata": {},
   "outputs": [
    {
     "data": {
      "text/plain": [
       "True"
      ]
     },
     "execution_count": 63,
     "metadata": {},
     "output_type": "execute_result"
    }
   ],
   "source": [
    "(5< 10) and (6> 3)"
   ]
  },
  {
   "cell_type": "code",
   "execution_count": 64,
   "id": "847d4c58",
   "metadata": {},
   "outputs": [],
   "source": [
    "x = 5.7\n",
    "y = 10.6\n",
    "z = 20"
   ]
  },
  {
   "cell_type": "code",
   "execution_count": 65,
   "id": "ba96421c",
   "metadata": {},
   "outputs": [
    {
     "data": {
      "text/plain": [
       "False"
      ]
     },
     "execution_count": 65,
     "metadata": {},
     "output_type": "execute_result"
    }
   ],
   "source": [
    "(x == y) and (y == z)"
   ]
  },
  {
   "cell_type": "code",
   "execution_count": 66,
   "id": "97456d64",
   "metadata": {},
   "outputs": [
    {
     "data": {
      "text/plain": [
       "True"
      ]
     },
     "execution_count": 66,
     "metadata": {},
     "output_type": "execute_result"
    }
   ],
   "source": [
    "(x != y) and (y != z)"
   ]
  },
  {
   "cell_type": "code",
   "execution_count": 67,
   "id": "a29965cd",
   "metadata": {},
   "outputs": [
    {
     "data": {
      "text/plain": [
       "True"
      ]
     },
     "execution_count": 67,
     "metadata": {},
     "output_type": "execute_result"
    }
   ],
   "source": [
    "(x < y) and ( y < z)"
   ]
  },
  {
   "cell_type": "code",
   "execution_count": 68,
   "id": "75184de5",
   "metadata": {},
   "outputs": [
    {
     "data": {
      "text/plain": [
       "False"
      ]
     },
     "execution_count": 68,
     "metadata": {},
     "output_type": "execute_result"
    }
   ],
   "source": [
    "(x > y) and ( y > z)"
   ]
  },
  {
   "cell_type": "code",
   "execution_count": 69,
   "id": "21eb1dca",
   "metadata": {},
   "outputs": [
    {
     "data": {
      "text/plain": [
       "10.6"
      ]
     },
     "execution_count": 69,
     "metadata": {},
     "output_type": "execute_result"
    }
   ],
   "source": [
    "x and y"
   ]
  },
  {
   "cell_type": "code",
   "execution_count": 70,
   "id": "cf04d257",
   "metadata": {},
   "outputs": [
    {
     "data": {
      "text/plain": [
       "20"
      ]
     },
     "execution_count": 70,
     "metadata": {},
     "output_type": "execute_result"
    }
   ],
   "source": [
    "y and z"
   ]
  },
  {
   "cell_type": "code",
   "execution_count": 71,
   "id": "e213c7a7",
   "metadata": {},
   "outputs": [
    {
     "data": {
      "text/plain": [
       "5.7"
      ]
     },
     "execution_count": 71,
     "metadata": {},
     "output_type": "execute_result"
    }
   ],
   "source": [
    "z and x"
   ]
  },
  {
   "cell_type": "code",
   "execution_count": 72,
   "id": "f02c5e76",
   "metadata": {},
   "outputs": [
    {
     "data": {
      "text/plain": [
       "20"
      ]
     },
     "execution_count": 72,
     "metadata": {},
     "output_type": "execute_result"
    }
   ],
   "source": [
    "x and y and z"
   ]
  },
  {
   "cell_type": "markdown",
   "id": "858ac40a",
   "metadata": {},
   "source": [
    "# Logical OR"
   ]
  },
  {
   "cell_type": "code",
   "execution_count": 2,
   "id": "e67207df",
   "metadata": {},
   "outputs": [],
   "source": [
    "a = 20\n",
    "b = 30 \n",
    "c = 40"
   ]
  },
  {
   "cell_type": "code",
   "execution_count": 3,
   "id": "f9e6fe22",
   "metadata": {},
   "outputs": [
    {
     "data": {
      "text/plain": [
       "True"
      ]
     },
     "execution_count": 3,
     "metadata": {},
     "output_type": "execute_result"
    }
   ],
   "source": [
    "(a > b) or ( b < c)"
   ]
  },
  {
   "cell_type": "code",
   "execution_count": 4,
   "id": "8676a161",
   "metadata": {},
   "outputs": [
    {
     "data": {
      "text/plain": [
       "True"
      ]
     },
     "execution_count": 4,
     "metadata": {},
     "output_type": "execute_result"
    }
   ],
   "source": [
    "(a == b) or (a <= b)"
   ]
  },
  {
   "cell_type": "code",
   "execution_count": 5,
   "id": "4d3d37b0",
   "metadata": {},
   "outputs": [
    {
     "data": {
      "text/plain": [
       "False"
      ]
     },
     "execution_count": 5,
     "metadata": {},
     "output_type": "execute_result"
    }
   ],
   "source": [
    "(a == b) or (a == c)"
   ]
  },
  {
   "cell_type": "code",
   "execution_count": 6,
   "id": "bccd651a",
   "metadata": {},
   "outputs": [
    {
     "data": {
      "text/plain": [
       "True"
      ]
     },
     "execution_count": 6,
     "metadata": {},
     "output_type": "execute_result"
    }
   ],
   "source": [
    "(a == b) or (a == c) or (a < b)"
   ]
  },
  {
   "cell_type": "code",
   "execution_count": null,
   "id": "16a33b0a",
   "metadata": {},
   "outputs": [],
   "source": [
    "in Logical AND : If any condition is False, the complete condition is False\n",
    "    \n",
    "Logical OR : If any condition is True, the complete condition is True\n",
    "    "
   ]
  },
  {
   "cell_type": "code",
   "execution_count": 8,
   "id": "1384ad5e",
   "metadata": {},
   "outputs": [
    {
     "data": {
      "text/plain": [
       "False"
      ]
     },
     "execution_count": 8,
     "metadata": {},
     "output_type": "execute_result"
    }
   ],
   "source": [
    "\"Hello\" > \"hello\""
   ]
  },
  {
   "cell_type": "code",
   "execution_count": 9,
   "id": "aa383adb",
   "metadata": {},
   "outputs": [
    {
     "data": {
      "text/plain": [
       "True"
      ]
     },
     "execution_count": 9,
     "metadata": {},
     "output_type": "execute_result"
    }
   ],
   "source": [
    "\"virat\" > \"kohli\""
   ]
  },
  {
   "cell_type": "markdown",
   "id": "6c40c77d",
   "metadata": {},
   "source": [
    "In strings the condition runs according to the ASCII value"
   ]
  },
  {
   "cell_type": "markdown",
   "id": "b93aa935",
   "metadata": {},
   "source": [
    "In Logical OR  it takes the first value in the logical or value"
   ]
  },
  {
   "cell_type": "code",
   "execution_count": 13,
   "id": "7d32b7f3",
   "metadata": {},
   "outputs": [
    {
     "data": {
      "text/plain": [
       "18"
      ]
     },
     "execution_count": 13,
     "metadata": {},
     "output_type": "execute_result"
    }
   ],
   "source": [
    "18 or 11 or 7"
   ]
  },
  {
   "cell_type": "code",
   "execution_count": 14,
   "id": "ba57741e",
   "metadata": {},
   "outputs": [
    {
     "data": {
      "text/plain": [
       "18"
      ]
     },
     "execution_count": 14,
     "metadata": {},
     "output_type": "execute_result"
    }
   ],
   "source": [
    "18 or 77"
   ]
  },
  {
   "cell_type": "markdown",
   "id": "d6f4d404",
   "metadata": {},
   "source": [
    " Logical NOT"
   ]
  },
  {
   "cell_type": "code",
   "execution_count": 15,
   "id": "e6bf40a4",
   "metadata": {},
   "outputs": [],
   "source": [
    "a = 18\n",
    "b = 77 "
   ]
  },
  {
   "cell_type": "code",
   "execution_count": 16,
   "id": "fcc2c21f",
   "metadata": {},
   "outputs": [
    {
     "data": {
      "text/plain": [
       "False"
      ]
     },
     "execution_count": 16,
     "metadata": {},
     "output_type": "execute_result"
    }
   ],
   "source": [
    "not (a < b)"
   ]
  },
  {
   "cell_type": "code",
   "execution_count": 17,
   "id": "37381b09",
   "metadata": {},
   "outputs": [
    {
     "data": {
      "text/plain": [
       "True"
      ]
     },
     "execution_count": 17,
     "metadata": {},
     "output_type": "execute_result"
    }
   ],
   "source": [
    "not ''"
   ]
  },
  {
   "cell_type": "code",
   "execution_count": 18,
   "id": "744d2cab",
   "metadata": {},
   "outputs": [
    {
     "data": {
      "text/plain": [
       "False"
      ]
     },
     "execution_count": 18,
     "metadata": {},
     "output_type": "execute_result"
    }
   ],
   "source": [
    "not ' '"
   ]
  },
  {
   "cell_type": "code",
   "execution_count": 19,
   "id": "d8d5e9bd",
   "metadata": {},
   "outputs": [
    {
     "data": {
      "text/plain": [
       "True"
      ]
     },
     "execution_count": 19,
     "metadata": {},
     "output_type": "execute_result"
    }
   ],
   "source": [
    "not (a > b)"
   ]
  },
  {
   "cell_type": "markdown",
   "id": "d34feb50",
   "metadata": {},
   "source": [
    "# Bitwise Operators:\n",
    "\n",
    "1. Bitwise AND (&)\n",
    "\n",
    "2. Bitwise OR (|)\n",
    "\n",
    "3. Bitwise NOT (~)\n",
    "\n",
    "4. Bitwise XOR (^)\n",
    "\n",
    "5. Bitwise Left Shift (<<)\n",
    "\n",
    "6. Bitwise Right Shift (>>)\n"
   ]
  },
  {
   "cell_type": "code",
   "execution_count": 21,
   "id": "0f9c7029",
   "metadata": {},
   "outputs": [
    {
     "data": {
      "text/plain": [
       "'0b111000'"
      ]
     },
     "execution_count": 21,
     "metadata": {},
     "output_type": "execute_result"
    }
   ],
   "source": [
    "bin(56)"
   ]
  },
  {
   "cell_type": "code",
   "execution_count": 23,
   "id": "0857d62f",
   "metadata": {},
   "outputs": [
    {
     "data": {
      "text/plain": [
       "87"
      ]
     },
     "execution_count": 23,
     "metadata": {},
     "output_type": "execute_result"
    }
   ],
   "source": [
    "int(0b1010111)"
   ]
  },
  {
   "cell_type": "code",
   "execution_count": 24,
   "id": "9ec4a403",
   "metadata": {},
   "outputs": [
    {
     "data": {
      "text/plain": [
       "56"
      ]
     },
     "execution_count": 24,
     "metadata": {},
     "output_type": "execute_result"
    }
   ],
   "source": [
    "56"
   ]
  },
  {
   "cell_type": "code",
   "execution_count": 26,
   "id": "1d48160d",
   "metadata": {},
   "outputs": [
    {
     "data": {
      "text/plain": [
       "'0o70'"
      ]
     },
     "execution_count": 26,
     "metadata": {},
     "output_type": "execute_result"
    }
   ],
   "source": [
    "oct(56)"
   ]
  },
  {
   "cell_type": "code",
   "execution_count": 27,
   "id": "d718c531",
   "metadata": {},
   "outputs": [
    {
     "data": {
      "text/plain": [
       "'0x38'"
      ]
     },
     "execution_count": 27,
     "metadata": {},
     "output_type": "execute_result"
    }
   ],
   "source": [
    "hex(56)"
   ]
  },
  {
   "cell_type": "code",
   "execution_count": 28,
   "id": "f5deca77",
   "metadata": {},
   "outputs": [
    {
     "data": {
      "text/plain": [
       "171"
      ]
     },
     "execution_count": 28,
     "metadata": {},
     "output_type": "execute_result"
    }
   ],
   "source": [
    "int(0xAB)"
   ]
  },
  {
   "cell_type": "markdown",
   "id": "5877bc0a",
   "metadata": {},
   "source": [
    "decimal to Others"
   ]
  },
  {
   "cell_type": "markdown",
   "id": "bc02b134",
   "metadata": {},
   "source": [
    "dec - binary --> bin(value)\n",
    "\n",
    "dec - octal --> oct(value)\n",
    "\n",
    "dec - hexa --> hex(value)\n",
    "\n",
    "others -> decimal--> int\n",
    "\n"
   ]
  },
  {
   "cell_type": "code",
   "execution_count": 31,
   "id": "685aa6a7",
   "metadata": {},
   "outputs": [
    {
     "data": {
      "text/plain": [
       "0"
      ]
     },
     "execution_count": 31,
     "metadata": {},
     "output_type": "execute_result"
    }
   ],
   "source": [
    "16 & 14"
   ]
  },
  {
   "cell_type": "code",
   "execution_count": 32,
   "id": "ff1648a9",
   "metadata": {},
   "outputs": [
    {
     "data": {
      "text/plain": [
       "30"
      ]
     },
     "execution_count": 32,
     "metadata": {},
     "output_type": "execute_result"
    }
   ],
   "source": [
    "16 | 14"
   ]
  },
  {
   "cell_type": "code",
   "execution_count": 33,
   "id": "f25dee90",
   "metadata": {},
   "outputs": [
    {
     "data": {
      "text/plain": [
       "30"
      ]
     },
     "execution_count": 33,
     "metadata": {},
     "output_type": "execute_result"
    }
   ],
   "source": [
    "16 ^ 14"
   ]
  },
  {
   "cell_type": "code",
   "execution_count": 34,
   "id": "a441a16a",
   "metadata": {},
   "outputs": [
    {
     "data": {
      "text/plain": [
       "2"
      ]
     },
     "execution_count": 34,
     "metadata": {},
     "output_type": "execute_result"
    }
   ],
   "source": [
    "4 ^ 6"
   ]
  },
  {
   "cell_type": "code",
   "execution_count": 35,
   "id": "81abb7fb",
   "metadata": {},
   "outputs": [
    {
     "data": {
      "text/plain": [
       "6"
      ]
     },
     "execution_count": 35,
     "metadata": {},
     "output_type": "execute_result"
    }
   ],
   "source": [
    "4 | 6"
   ]
  },
  {
   "cell_type": "code",
   "execution_count": 36,
   "id": "83ae2df4",
   "metadata": {},
   "outputs": [
    {
     "data": {
      "text/plain": [
       "1"
      ]
     },
     "execution_count": 36,
     "metadata": {},
     "output_type": "execute_result"
    }
   ],
   "source": [
    "1 ^ 1 ^ 1 ^ 0"
   ]
  },
  {
   "cell_type": "code",
   "execution_count": 37,
   "id": "a90846df",
   "metadata": {},
   "outputs": [
    {
     "data": {
      "text/plain": [
       "-18"
      ]
     },
     "execution_count": 37,
     "metadata": {},
     "output_type": "execute_result"
    }
   ],
   "source": [
    "~ 17"
   ]
  },
  {
   "cell_type": "code",
   "execution_count": 38,
   "id": "fd7e3b13",
   "metadata": {},
   "outputs": [
    {
     "data": {
      "text/plain": [
       "-19"
      ]
     },
     "execution_count": 38,
     "metadata": {},
     "output_type": "execute_result"
    }
   ],
   "source": [
    "~ 18"
   ]
  },
  {
   "cell_type": "code",
   "execution_count": 40,
   "id": "0447ad34",
   "metadata": {},
   "outputs": [
    {
     "data": {
      "text/plain": [
       "1"
      ]
     },
     "execution_count": 40,
     "metadata": {},
     "output_type": "execute_result"
    }
   ],
   "source": [
    "~ -2"
   ]
  },
  {
   "cell_type": "markdown",
   "id": "8c7959e1",
   "metadata": {},
   "source": [
    "Note:\n",
    "    \n",
    "in Bitwise AND operation the symbol which  we use is  (&)\n",
    "\n",
    "in Bitwise OR operation the symbol which we use is  (|)\n",
    "\n",
    "in Bitwise NOT operation the symbol which  we use is (^)\n",
    " \n",
    "in Bitwise XOR operation the symbol which we use is (~)"
   ]
  },
  {
   "cell_type": "markdown",
   "id": "d412c45b",
   "metadata": {},
   "source": [
    "## Membership Operators"
   ]
  },
  {
   "cell_type": "markdown",
   "id": "8a53e0a0",
   "metadata": {},
   "source": [
    "in\n",
    "\n",
    "not in operator"
   ]
  },
  {
   "cell_type": "code",
   "execution_count": 50,
   "id": "ded60ec1",
   "metadata": {},
   "outputs": [],
   "source": [
    "a = \"Virat is the Chase Master\""
   ]
  },
  {
   "cell_type": "code",
   "execution_count": 51,
   "id": "893b2b6d",
   "metadata": {},
   "outputs": [
    {
     "data": {
      "text/plain": [
       "True"
      ]
     },
     "execution_count": 51,
     "metadata": {},
     "output_type": "execute_result"
    }
   ],
   "source": [
    "'Virat' in a"
   ]
  },
  {
   "cell_type": "code",
   "execution_count": 52,
   "id": "c4aa533c",
   "metadata": {},
   "outputs": [
    {
     "data": {
      "text/plain": [
       "True"
      ]
     },
     "execution_count": 52,
     "metadata": {},
     "output_type": "execute_result"
    }
   ],
   "source": [
    "'Chase Master' in a"
   ]
  },
  {
   "cell_type": "code",
   "execution_count": 53,
   "id": "2779162a",
   "metadata": {},
   "outputs": [
    {
     "data": {
      "text/plain": [
       "True"
      ]
     },
     "execution_count": 53,
     "metadata": {},
     "output_type": "execute_result"
    }
   ],
   "source": [
    "'Goat' not in a"
   ]
  },
  {
   "cell_type": "code",
   "execution_count": 54,
   "id": "92a9beb2",
   "metadata": {},
   "outputs": [
    {
     "data": {
      "text/plain": [
       "False"
      ]
     },
     "execution_count": 54,
     "metadata": {},
     "output_type": "execute_result"
    }
   ],
   "source": [
    "' Virat' in a"
   ]
  },
  {
   "cell_type": "markdown",
   "id": "074402c5",
   "metadata": {},
   "source": [
    "## Identity Operators"
   ]
  },
  {
   "cell_type": "markdown",
   "id": "44c3bf68",
   "metadata": {},
   "source": [
    "1.Compares the address of the two values when the value is same\n",
    "\n",
    "2.returns True -> if both the addresses are same\n",
    "\n",
    "3.returns False -> if both the addresses are not same"
   ]
  },
  {
   "cell_type": "markdown",
   "id": "ec07cd39",
   "metadata": {},
   "source": [
    "is\n",
    "\n",
    "is not operators"
   ]
  },
  {
   "cell_type": "code",
   "execution_count": 56,
   "id": "497a6abc",
   "metadata": {},
   "outputs": [
    {
     "data": {
      "text/plain": [
       "True"
      ]
     },
     "execution_count": 56,
     "metadata": {},
     "output_type": "execute_result"
    }
   ],
   "source": [
    "a = 10\n",
    "b = 10\n",
    "a is b"
   ]
  },
  {
   "cell_type": "code",
   "execution_count": 57,
   "id": "ded52613",
   "metadata": {},
   "outputs": [
    {
     "data": {
      "text/plain": [
       "False"
      ]
     },
     "execution_count": 57,
     "metadata": {},
     "output_type": "execute_result"
    }
   ],
   "source": [
    "a = 20 \n",
    "b = 20.1 \n",
    "a is b "
   ]
  },
  {
   "cell_type": "code",
   "execution_count": 59,
   "id": "e04d78c5",
   "metadata": {},
   "outputs": [
    {
     "data": {
      "text/plain": [
       "True"
      ]
     },
     "execution_count": 59,
     "metadata": {},
     "output_type": "execute_result"
    }
   ],
   "source": [
    "a = \"Hello\"\n",
    "b = \"Hello\"\n",
    "a is b"
   ]
  },
  {
   "cell_type": "code",
   "execution_count": 60,
   "id": "19bcc40f",
   "metadata": {},
   "outputs": [
    {
     "data": {
      "text/plain": [
       "True"
      ]
     },
     "execution_count": 60,
     "metadata": {},
     "output_type": "execute_result"
    }
   ],
   "source": [
    "a = \"Virat\"\n",
    "b = \"virat\"\n",
    "a is not b"
   ]
  },
  {
   "cell_type": "markdown",
   "id": "fdfc54e2",
   "metadata": {},
   "source": [
    "** Left Shift Operator in Bitwise Operator **\n",
    "\n",
    "n*2 power m"
   ]
  },
  {
   "cell_type": "code",
   "execution_count": 1,
   "id": "f4f09e65",
   "metadata": {},
   "outputs": [
    {
     "data": {
      "text/plain": [
       "24"
      ]
     },
     "execution_count": 1,
     "metadata": {},
     "output_type": "execute_result"
    }
   ],
   "source": [
    "3 << 3"
   ]
  },
  {
   "cell_type": "code",
   "execution_count": 2,
   "id": "2b52b8c1",
   "metadata": {},
   "outputs": [
    {
     "data": {
      "text/plain": [
       "160"
      ]
     },
     "execution_count": 2,
     "metadata": {},
     "output_type": "execute_result"
    }
   ],
   "source": [
    "10 << 4"
   ]
  },
  {
   "cell_type": "code",
   "execution_count": 3,
   "id": "d3fc1f74",
   "metadata": {},
   "outputs": [
    {
     "data": {
      "text/plain": [
       "80"
      ]
     },
     "execution_count": 3,
     "metadata": {},
     "output_type": "execute_result"
    }
   ],
   "source": [
    "20 << 2"
   ]
  },
  {
   "cell_type": "code",
   "execution_count": 4,
   "id": "90d97ab5",
   "metadata": {},
   "outputs": [
    {
     "data": {
      "text/plain": [
       "128"
      ]
     },
     "execution_count": 4,
     "metadata": {},
     "output_type": "execute_result"
    }
   ],
   "source": [
    "4 << 5"
   ]
  },
  {
   "cell_type": "markdown",
   "id": "d8d5511e",
   "metadata": {},
   "source": [
    "** Left Shift Operator in Bitwise Operator **"
   ]
  },
  {
   "cell_type": "markdown",
   "id": "e38668bc",
   "metadata": {},
   "source": [
    "n/2 power m ( only integer should be taken, decimal no. should be ignored)"
   ]
  },
  {
   "cell_type": "code",
   "execution_count": 5,
   "id": "95754135",
   "metadata": {},
   "outputs": [
    {
     "data": {
      "text/plain": [
       "6"
      ]
     },
     "execution_count": 5,
     "metadata": {},
     "output_type": "execute_result"
    }
   ],
   "source": [
    "100 >> 4"
   ]
  },
  {
   "cell_type": "code",
   "execution_count": 7,
   "id": "f4dc3ebb",
   "metadata": {},
   "outputs": [
    {
     "data": {
      "text/plain": [
       "5"
      ]
     },
     "execution_count": 7,
     "metadata": {},
     "output_type": "execute_result"
    }
   ],
   "source": [
    "42 >> 3"
   ]
  },
  {
   "cell_type": "code",
   "execution_count": 8,
   "id": "ff2c7d34",
   "metadata": {},
   "outputs": [
    {
     "data": {
      "text/plain": [
       "0"
      ]
     },
     "execution_count": 8,
     "metadata": {},
     "output_type": "execute_result"
    }
   ],
   "source": [
    "84 >> 8"
   ]
  },
  {
   "cell_type": "code",
   "execution_count": 10,
   "id": "378fcd21",
   "metadata": {},
   "outputs": [
    {
     "data": {
      "text/plain": [
       "2"
      ]
     },
     "execution_count": 10,
     "metadata": {},
     "output_type": "execute_result"
    }
   ],
   "source": [
    "18 >> 3"
   ]
  },
  {
   "cell_type": "code",
   "execution_count": 11,
   "id": "913cdfe1",
   "metadata": {},
   "outputs": [
    {
     "data": {
      "text/plain": [
       "1600"
      ]
     },
     "execution_count": 11,
     "metadata": {},
     "output_type": "execute_result"
    }
   ],
   "source": [
    "100 << 4"
   ]
  },
  {
   "cell_type": "markdown",
   "id": "78da9812",
   "metadata": {},
   "source": [
    "# Assignment Operators "
   ]
  },
  {
   "cell_type": "markdown",
   "id": "b6a74b53",
   "metadata": {},
   "source": [
    "var_name = value"
   ]
  },
  {
   "cell_type": "markdown",
   "id": "d7b35693",
   "metadata": {},
   "source": [
    "# Unary Operator"
   ]
  },
  {
   "cell_type": "markdown",
   "id": "83ec631e",
   "metadata": {},
   "source": [
    "It is a combination of both arithematic operator and assignment operator (arithematic operator + assignment operator)"
   ]
  },
  {
   "cell_type": "code",
   "execution_count": 12,
   "id": "2a9cb375",
   "metadata": {},
   "outputs": [
    {
     "name": "stdout",
     "output_type": "stream",
     "text": [
      "20\n"
     ]
    }
   ],
   "source": [
    "x = 10 \n",
    "x = x + 10 \n",
    "print(x)"
   ]
  },
  {
   "cell_type": "code",
   "execution_count": 13,
   "id": "e376abf4",
   "metadata": {},
   "outputs": [
    {
     "name": "stdout",
     "output_type": "stream",
     "text": [
      "30\n"
     ]
    }
   ],
   "source": [
    "x += 10\n",
    "print(x)"
   ]
  },
  {
   "cell_type": "code",
   "execution_count": 14,
   "id": "9f3a1912",
   "metadata": {},
   "outputs": [
    {
     "name": "stdout",
     "output_type": "stream",
     "text": [
      "22\n"
     ]
    }
   ],
   "source": [
    "x -= 8\n",
    "print(x)"
   ]
  },
  {
   "cell_type": "code",
   "execution_count": 15,
   "id": "7ff8f612",
   "metadata": {},
   "outputs": [
    {
     "name": "stdout",
     "output_type": "stream",
     "text": [
      "44\n"
     ]
    }
   ],
   "source": [
    "x *= 2\n",
    "print(x)"
   ]
  },
  {
   "cell_type": "code",
   "execution_count": 20,
   "id": "5af2e4db",
   "metadata": {},
   "outputs": [
    {
     "name": "stdout",
     "output_type": "stream",
     "text": [
      "0.007575757575757576\n"
     ]
    }
   ],
   "source": [
    "x /= 2\n",
    "print(x)"
   ]
  },
  {
   "cell_type": "code",
   "execution_count": 22,
   "id": "364f32c6",
   "metadata": {},
   "outputs": [
    {
     "data": {
      "text/plain": [
       "True"
      ]
     },
     "execution_count": 22,
     "metadata": {},
     "output_type": "execute_result"
    }
   ],
   "source": [
    "a = 'a' * 1100\n",
    "b = 'a' * 1100\n",
    "a is b "
   ]
  },
  {
   "cell_type": "markdown",
   "id": "121fffbc",
   "metadata": {},
   "source": [
    "untill 4096 it is true otherwise it is false"
   ]
  },
  {
   "cell_type": "code",
   "execution_count": 23,
   "id": "787e6e76",
   "metadata": {},
   "outputs": [
    {
     "data": {
      "text/plain": [
       "True"
      ]
     },
     "execution_count": 23,
     "metadata": {},
     "output_type": "execute_result"
    }
   ],
   "source": [
    "a = 'v' * 4096\n",
    "b = 'v' * 4096 \n",
    "a is b"
   ]
  },
  {
   "cell_type": "code",
   "execution_count": null,
   "id": "cb3bd211",
   "metadata": {},
   "outputs": [],
   "source": []
  }
 ],
 "metadata": {
  "kernelspec": {
   "display_name": "Python 3 (ipykernel)",
   "language": "python",
   "name": "python3"
  },
  "language_info": {
   "codemirror_mode": {
    "name": "ipython",
    "version": 3
   },
   "file_extension": ".py",
   "mimetype": "text/x-python",
   "name": "python",
   "nbconvert_exporter": "python",
   "pygments_lexer": "ipython3",
   "version": "3.11.4"
  }
 },
 "nbformat": 4,
 "nbformat_minor": 5
}
